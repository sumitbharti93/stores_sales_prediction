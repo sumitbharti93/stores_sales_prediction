{
 "cells": [
  {
   "cell_type": "code",
   "execution_count": 1,
   "id": "85bf694f",
   "metadata": {},
   "outputs": [
    {
     "data": {
      "text/html": [
       "<div>\n",
       "<style scoped>\n",
       "    .dataframe tbody tr th:only-of-type {\n",
       "        vertical-align: middle;\n",
       "    }\n",
       "\n",
       "    .dataframe tbody tr th {\n",
       "        vertical-align: top;\n",
       "    }\n",
       "\n",
       "    .dataframe thead th {\n",
       "        text-align: right;\n",
       "    }\n",
       "</style>\n",
       "<table border=\"1\" class=\"dataframe\">\n",
       "  <thead>\n",
       "    <tr style=\"text-align: right;\">\n",
       "      <th></th>\n",
       "      <th>Item_Identifier</th>\n",
       "      <th>Item_Weight</th>\n",
       "      <th>Item_Fat_Content</th>\n",
       "      <th>Item_Visibility</th>\n",
       "      <th>Item_Type</th>\n",
       "      <th>Item_MRP</th>\n",
       "      <th>Outlet_Identifier</th>\n",
       "      <th>Outlet_Establishment_Year</th>\n",
       "      <th>Outlet_Size</th>\n",
       "      <th>Outlet_Location_Type</th>\n",
       "      <th>Outlet_Type</th>\n",
       "      <th>Item_Outlet_Sales</th>\n",
       "    </tr>\n",
       "  </thead>\n",
       "  <tbody>\n",
       "    <tr>\n",
       "      <th>0</th>\n",
       "      <td>FDA15</td>\n",
       "      <td>9.300</td>\n",
       "      <td>Low Fat</td>\n",
       "      <td>0.016047</td>\n",
       "      <td>Dairy</td>\n",
       "      <td>249.8092</td>\n",
       "      <td>OUT049</td>\n",
       "      <td>1999</td>\n",
       "      <td>Medium</td>\n",
       "      <td>Tier 1</td>\n",
       "      <td>Supermarket Type1</td>\n",
       "      <td>3735.1380</td>\n",
       "    </tr>\n",
       "    <tr>\n",
       "      <th>1</th>\n",
       "      <td>DRC01</td>\n",
       "      <td>5.920</td>\n",
       "      <td>Regular</td>\n",
       "      <td>0.019278</td>\n",
       "      <td>Soft Drinks</td>\n",
       "      <td>48.2692</td>\n",
       "      <td>OUT018</td>\n",
       "      <td>2009</td>\n",
       "      <td>Medium</td>\n",
       "      <td>Tier 3</td>\n",
       "      <td>Supermarket Type2</td>\n",
       "      <td>443.4228</td>\n",
       "    </tr>\n",
       "    <tr>\n",
       "      <th>2</th>\n",
       "      <td>FDN15</td>\n",
       "      <td>17.500</td>\n",
       "      <td>Low Fat</td>\n",
       "      <td>0.016760</td>\n",
       "      <td>Meat</td>\n",
       "      <td>141.6180</td>\n",
       "      <td>OUT049</td>\n",
       "      <td>1999</td>\n",
       "      <td>Medium</td>\n",
       "      <td>Tier 1</td>\n",
       "      <td>Supermarket Type1</td>\n",
       "      <td>2097.2700</td>\n",
       "    </tr>\n",
       "    <tr>\n",
       "      <th>3</th>\n",
       "      <td>FDX07</td>\n",
       "      <td>19.200</td>\n",
       "      <td>Regular</td>\n",
       "      <td>0.000000</td>\n",
       "      <td>Fruits and Vegetables</td>\n",
       "      <td>182.0950</td>\n",
       "      <td>OUT010</td>\n",
       "      <td>1998</td>\n",
       "      <td>NaN</td>\n",
       "      <td>Tier 3</td>\n",
       "      <td>Grocery Store</td>\n",
       "      <td>732.3800</td>\n",
       "    </tr>\n",
       "    <tr>\n",
       "      <th>4</th>\n",
       "      <td>NCD19</td>\n",
       "      <td>8.930</td>\n",
       "      <td>Low Fat</td>\n",
       "      <td>0.000000</td>\n",
       "      <td>Household</td>\n",
       "      <td>53.8614</td>\n",
       "      <td>OUT013</td>\n",
       "      <td>1987</td>\n",
       "      <td>High</td>\n",
       "      <td>Tier 3</td>\n",
       "      <td>Supermarket Type1</td>\n",
       "      <td>994.7052</td>\n",
       "    </tr>\n",
       "    <tr>\n",
       "      <th>...</th>\n",
       "      <td>...</td>\n",
       "      <td>...</td>\n",
       "      <td>...</td>\n",
       "      <td>...</td>\n",
       "      <td>...</td>\n",
       "      <td>...</td>\n",
       "      <td>...</td>\n",
       "      <td>...</td>\n",
       "      <td>...</td>\n",
       "      <td>...</td>\n",
       "      <td>...</td>\n",
       "      <td>...</td>\n",
       "    </tr>\n",
       "    <tr>\n",
       "      <th>8518</th>\n",
       "      <td>FDF22</td>\n",
       "      <td>6.865</td>\n",
       "      <td>Low Fat</td>\n",
       "      <td>0.056783</td>\n",
       "      <td>Snack Foods</td>\n",
       "      <td>214.5218</td>\n",
       "      <td>OUT013</td>\n",
       "      <td>1987</td>\n",
       "      <td>High</td>\n",
       "      <td>Tier 3</td>\n",
       "      <td>Supermarket Type1</td>\n",
       "      <td>2778.3834</td>\n",
       "    </tr>\n",
       "    <tr>\n",
       "      <th>8519</th>\n",
       "      <td>FDS36</td>\n",
       "      <td>8.380</td>\n",
       "      <td>Regular</td>\n",
       "      <td>0.046982</td>\n",
       "      <td>Baking Goods</td>\n",
       "      <td>108.1570</td>\n",
       "      <td>OUT045</td>\n",
       "      <td>2002</td>\n",
       "      <td>NaN</td>\n",
       "      <td>Tier 2</td>\n",
       "      <td>Supermarket Type1</td>\n",
       "      <td>549.2850</td>\n",
       "    </tr>\n",
       "    <tr>\n",
       "      <th>8520</th>\n",
       "      <td>NCJ29</td>\n",
       "      <td>10.600</td>\n",
       "      <td>Low Fat</td>\n",
       "      <td>0.035186</td>\n",
       "      <td>Health and Hygiene</td>\n",
       "      <td>85.1224</td>\n",
       "      <td>OUT035</td>\n",
       "      <td>2004</td>\n",
       "      <td>Small</td>\n",
       "      <td>Tier 2</td>\n",
       "      <td>Supermarket Type1</td>\n",
       "      <td>1193.1136</td>\n",
       "    </tr>\n",
       "    <tr>\n",
       "      <th>8521</th>\n",
       "      <td>FDN46</td>\n",
       "      <td>7.210</td>\n",
       "      <td>Regular</td>\n",
       "      <td>0.145221</td>\n",
       "      <td>Snack Foods</td>\n",
       "      <td>103.1332</td>\n",
       "      <td>OUT018</td>\n",
       "      <td>2009</td>\n",
       "      <td>Medium</td>\n",
       "      <td>Tier 3</td>\n",
       "      <td>Supermarket Type2</td>\n",
       "      <td>1845.5976</td>\n",
       "    </tr>\n",
       "    <tr>\n",
       "      <th>8522</th>\n",
       "      <td>DRG01</td>\n",
       "      <td>14.800</td>\n",
       "      <td>Low Fat</td>\n",
       "      <td>0.044878</td>\n",
       "      <td>Soft Drinks</td>\n",
       "      <td>75.4670</td>\n",
       "      <td>OUT046</td>\n",
       "      <td>1997</td>\n",
       "      <td>Small</td>\n",
       "      <td>Tier 1</td>\n",
       "      <td>Supermarket Type1</td>\n",
       "      <td>765.6700</td>\n",
       "    </tr>\n",
       "  </tbody>\n",
       "</table>\n",
       "<p>8523 rows × 12 columns</p>\n",
       "</div>"
      ],
      "text/plain": [
       "     Item_Identifier  Item_Weight Item_Fat_Content  Item_Visibility  \\\n",
       "0              FDA15        9.300          Low Fat         0.016047   \n",
       "1              DRC01        5.920          Regular         0.019278   \n",
       "2              FDN15       17.500          Low Fat         0.016760   \n",
       "3              FDX07       19.200          Regular         0.000000   \n",
       "4              NCD19        8.930          Low Fat         0.000000   \n",
       "...              ...          ...              ...              ...   \n",
       "8518           FDF22        6.865          Low Fat         0.056783   \n",
       "8519           FDS36        8.380          Regular         0.046982   \n",
       "8520           NCJ29       10.600          Low Fat         0.035186   \n",
       "8521           FDN46        7.210          Regular         0.145221   \n",
       "8522           DRG01       14.800          Low Fat         0.044878   \n",
       "\n",
       "                  Item_Type  Item_MRP Outlet_Identifier  \\\n",
       "0                     Dairy  249.8092            OUT049   \n",
       "1               Soft Drinks   48.2692            OUT018   \n",
       "2                      Meat  141.6180            OUT049   \n",
       "3     Fruits and Vegetables  182.0950            OUT010   \n",
       "4                 Household   53.8614            OUT013   \n",
       "...                     ...       ...               ...   \n",
       "8518            Snack Foods  214.5218            OUT013   \n",
       "8519           Baking Goods  108.1570            OUT045   \n",
       "8520     Health and Hygiene   85.1224            OUT035   \n",
       "8521            Snack Foods  103.1332            OUT018   \n",
       "8522            Soft Drinks   75.4670            OUT046   \n",
       "\n",
       "      Outlet_Establishment_Year Outlet_Size Outlet_Location_Type  \\\n",
       "0                          1999      Medium               Tier 1   \n",
       "1                          2009      Medium               Tier 3   \n",
       "2                          1999      Medium               Tier 1   \n",
       "3                          1998         NaN               Tier 3   \n",
       "4                          1987        High               Tier 3   \n",
       "...                         ...         ...                  ...   \n",
       "8518                       1987        High               Tier 3   \n",
       "8519                       2002         NaN               Tier 2   \n",
       "8520                       2004       Small               Tier 2   \n",
       "8521                       2009      Medium               Tier 3   \n",
       "8522                       1997       Small               Tier 1   \n",
       "\n",
       "            Outlet_Type  Item_Outlet_Sales  \n",
       "0     Supermarket Type1          3735.1380  \n",
       "1     Supermarket Type2           443.4228  \n",
       "2     Supermarket Type1          2097.2700  \n",
       "3         Grocery Store           732.3800  \n",
       "4     Supermarket Type1           994.7052  \n",
       "...                 ...                ...  \n",
       "8518  Supermarket Type1          2778.3834  \n",
       "8519  Supermarket Type1           549.2850  \n",
       "8520  Supermarket Type1          1193.1136  \n",
       "8521  Supermarket Type2          1845.5976  \n",
       "8522  Supermarket Type1           765.6700  \n",
       "\n",
       "[8523 rows x 12 columns]"
      ]
     },
     "execution_count": 1,
     "metadata": {},
     "output_type": "execute_result"
    }
   ],
   "source": [
    "import pandas as pd\n",
    "df = pd.read_csv(\"D:\\Python Project\\stores_sales_prediction\\data\\Train.csv\")\n",
    "df"
   ]
  },
  {
   "cell_type": "code",
   "execution_count": 2,
   "id": "2e8e85de",
   "metadata": {},
   "outputs": [
    {
     "data": {
      "text/html": [
       "<div>\n",
       "<style scoped>\n",
       "    .dataframe tbody tr th:only-of-type {\n",
       "        vertical-align: middle;\n",
       "    }\n",
       "\n",
       "    .dataframe tbody tr th {\n",
       "        vertical-align: top;\n",
       "    }\n",
       "\n",
       "    .dataframe thead th {\n",
       "        text-align: right;\n",
       "    }\n",
       "</style>\n",
       "<table border=\"1\" class=\"dataframe\">\n",
       "  <thead>\n",
       "    <tr style=\"text-align: right;\">\n",
       "      <th></th>\n",
       "      <th>Item_Identifier</th>\n",
       "      <th>Item_Weight</th>\n",
       "      <th>Item_Fat_Content</th>\n",
       "      <th>Item_Visibility</th>\n",
       "      <th>Item_Type</th>\n",
       "      <th>Item_MRP</th>\n",
       "      <th>Outlet_Identifier</th>\n",
       "      <th>Outlet_Establishment_Year</th>\n",
       "      <th>Outlet_Size</th>\n",
       "      <th>Outlet_Location_Type</th>\n",
       "      <th>Outlet_Type</th>\n",
       "      <th>Item_Outlet_Sales</th>\n",
       "    </tr>\n",
       "  </thead>\n",
       "  <tbody>\n",
       "    <tr>\n",
       "      <th>4</th>\n",
       "      <td>NCD19</td>\n",
       "      <td>8.93</td>\n",
       "      <td>Low Fat</td>\n",
       "      <td>0.000000</td>\n",
       "      <td>Household</td>\n",
       "      <td>53.8614</td>\n",
       "      <td>OUT013</td>\n",
       "      <td>1987</td>\n",
       "      <td>High</td>\n",
       "      <td>Tier 3</td>\n",
       "      <td>Supermarket Type1</td>\n",
       "      <td>994.7052</td>\n",
       "    </tr>\n",
       "    <tr>\n",
       "      <th>522</th>\n",
       "      <td>NCD19</td>\n",
       "      <td>8.93</td>\n",
       "      <td>Low Fat</td>\n",
       "      <td>0.022060</td>\n",
       "      <td>Household</td>\n",
       "      <td>56.0614</td>\n",
       "      <td>OUT010</td>\n",
       "      <td>1998</td>\n",
       "      <td>NaN</td>\n",
       "      <td>Tier 3</td>\n",
       "      <td>Grocery Store</td>\n",
       "      <td>276.3070</td>\n",
       "    </tr>\n",
       "    <tr>\n",
       "      <th>802</th>\n",
       "      <td>NCD19</td>\n",
       "      <td>8.93</td>\n",
       "      <td>Low Fat</td>\n",
       "      <td>0.000000</td>\n",
       "      <td>Household</td>\n",
       "      <td>55.4614</td>\n",
       "      <td>OUT045</td>\n",
       "      <td>2002</td>\n",
       "      <td>NaN</td>\n",
       "      <td>Tier 2</td>\n",
       "      <td>Supermarket Type1</td>\n",
       "      <td>331.5684</td>\n",
       "    </tr>\n",
       "    <tr>\n",
       "      <th>2129</th>\n",
       "      <td>NCD19</td>\n",
       "      <td>8.93</td>\n",
       "      <td>Low Fat</td>\n",
       "      <td>0.013179</td>\n",
       "      <td>Household</td>\n",
       "      <td>55.1614</td>\n",
       "      <td>OUT046</td>\n",
       "      <td>1997</td>\n",
       "      <td>Small</td>\n",
       "      <td>Tier 1</td>\n",
       "      <td>Supermarket Type1</td>\n",
       "      <td>939.4438</td>\n",
       "    </tr>\n",
       "    <tr>\n",
       "      <th>2907</th>\n",
       "      <td>NCD19</td>\n",
       "      <td>8.93</td>\n",
       "      <td>Low Fat</td>\n",
       "      <td>0.013254</td>\n",
       "      <td>Household</td>\n",
       "      <td>56.4614</td>\n",
       "      <td>OUT017</td>\n",
       "      <td>2007</td>\n",
       "      <td>NaN</td>\n",
       "      <td>Tier 2</td>\n",
       "      <td>Supermarket Type1</td>\n",
       "      <td>828.9210</td>\n",
       "    </tr>\n",
       "    <tr>\n",
       "      <th>3428</th>\n",
       "      <td>NCD19</td>\n",
       "      <td>8.93</td>\n",
       "      <td>LF</td>\n",
       "      <td>0.000000</td>\n",
       "      <td>Household</td>\n",
       "      <td>53.2614</td>\n",
       "      <td>OUT049</td>\n",
       "      <td>1999</td>\n",
       "      <td>Medium</td>\n",
       "      <td>Tier 1</td>\n",
       "      <td>Supermarket Type1</td>\n",
       "      <td>552.6140</td>\n",
       "    </tr>\n",
       "  </tbody>\n",
       "</table>\n",
       "</div>"
      ],
      "text/plain": [
       "     Item_Identifier  Item_Weight Item_Fat_Content  Item_Visibility  \\\n",
       "4              NCD19         8.93          Low Fat         0.000000   \n",
       "522            NCD19         8.93          Low Fat         0.022060   \n",
       "802            NCD19         8.93          Low Fat         0.000000   \n",
       "2129           NCD19         8.93          Low Fat         0.013179   \n",
       "2907           NCD19         8.93          Low Fat         0.013254   \n",
       "3428           NCD19         8.93               LF         0.000000   \n",
       "\n",
       "      Item_Type  Item_MRP Outlet_Identifier  Outlet_Establishment_Year  \\\n",
       "4     Household   53.8614            OUT013                       1987   \n",
       "522   Household   56.0614            OUT010                       1998   \n",
       "802   Household   55.4614            OUT045                       2002   \n",
       "2129  Household   55.1614            OUT046                       1997   \n",
       "2907  Household   56.4614            OUT017                       2007   \n",
       "3428  Household   53.2614            OUT049                       1999   \n",
       "\n",
       "     Outlet_Size Outlet_Location_Type        Outlet_Type  Item_Outlet_Sales  \n",
       "4           High               Tier 3  Supermarket Type1           994.7052  \n",
       "522          NaN               Tier 3      Grocery Store           276.3070  \n",
       "802          NaN               Tier 2  Supermarket Type1           331.5684  \n",
       "2129       Small               Tier 1  Supermarket Type1           939.4438  \n",
       "2907         NaN               Tier 2  Supermarket Type1           828.9210  \n",
       "3428      Medium               Tier 1  Supermarket Type1           552.6140  "
      ]
     },
     "execution_count": 2,
     "metadata": {},
     "output_type": "execute_result"
    }
   ],
   "source": [
    "df[df.Item_Identifier == 'NCD19']"
   ]
  },
  {
   "cell_type": "code",
   "execution_count": 3,
   "id": "7e6d6b10",
   "metadata": {},
   "outputs": [
    {
     "data": {
      "text/plain": [
       "Item_Identifier                 0\n",
       "Item_Weight                  1463\n",
       "Item_Fat_Content                0\n",
       "Item_Visibility                 0\n",
       "Item_Type                       0\n",
       "Item_MRP                        0\n",
       "Outlet_Identifier               0\n",
       "Outlet_Establishment_Year       0\n",
       "Outlet_Size                  2410\n",
       "Outlet_Location_Type            0\n",
       "Outlet_Type                     0\n",
       "Item_Outlet_Sales               0\n",
       "dtype: int64"
      ]
     },
     "execution_count": 3,
     "metadata": {},
     "output_type": "execute_result"
    }
   ],
   "source": [
    "df.isnull().sum()"
   ]
  },
  {
   "cell_type": "code",
   "execution_count": 100,
   "id": "04854d97",
   "metadata": {},
   "outputs": [
    {
     "data": {
      "text/plain": [
       "Index(['Item_Identifier', 'Item_Weight', 'Item_Fat_Content', 'Item_Visibility',\n",
       "       'Item_Type', 'Item_MRP', 'Outlet_Identifier',\n",
       "       'Outlet_Establishment_Year', 'Outlet_Size', 'Outlet_Location_Type',\n",
       "       'Outlet_Type', 'Item_Outlet_Sales'],\n",
       "      dtype='object')"
      ]
     },
     "execution_count": 100,
     "metadata": {},
     "output_type": "execute_result"
    }
   ],
   "source": [
    "df.columns"
   ]
  },
  {
   "cell_type": "code",
   "execution_count": 116,
   "id": "00e68a67",
   "metadata": {},
   "outputs": [],
   "source": [
    "categorical_features = [features for features in df.columns if df[features].dtypes=='O']"
   ]
  },
  {
   "cell_type": "code",
   "execution_count": 117,
   "id": "db7a9178",
   "metadata": {},
   "outputs": [
    {
     "data": {
      "text/plain": [
       "['Item_Identifier',\n",
       " 'Item_Fat_Content',\n",
       " 'Item_Type',\n",
       " 'Outlet_Identifier',\n",
       " 'Outlet_Size',\n",
       " 'Outlet_Location_Type',\n",
       " 'Outlet_Type']"
      ]
     },
     "execution_count": 117,
     "metadata": {},
     "output_type": "execute_result"
    }
   ],
   "source": [
    "categorical_features"
   ]
  },
  {
   "cell_type": "code",
   "execution_count": 119,
   "id": "5066be6b",
   "metadata": {},
   "outputs": [
    {
     "name": "stdout",
     "output_type": "stream",
     "text": [
      "unique values in Item_Identifier is 1559\n",
      "unique values in Item_Fat_Content is 5\n",
      "unique values in Item_Type is 16\n",
      "unique values in Outlet_Identifier is 10\n",
      "unique values in Outlet_Size is 4\n",
      "unique values in Outlet_Location_Type is 3\n",
      "unique values in Outlet_Type is 4\n"
     ]
    }
   ],
   "source": [
    "for features in categorical_features:\n",
    "    print(f'unique values in {features} is {len(df[features].unique())}')"
   ]
  },
  {
   "cell_type": "code",
   "execution_count": 120,
   "id": "f6d9ea10",
   "metadata": {},
   "outputs": [
    {
     "data": {
      "text/html": [
       "<div>\n",
       "<style scoped>\n",
       "    .dataframe tbody tr th:only-of-type {\n",
       "        vertical-align: middle;\n",
       "    }\n",
       "\n",
       "    .dataframe tbody tr th {\n",
       "        vertical-align: top;\n",
       "    }\n",
       "\n",
       "    .dataframe thead th {\n",
       "        text-align: right;\n",
       "    }\n",
       "</style>\n",
       "<table border=\"1\" class=\"dataframe\">\n",
       "  <thead>\n",
       "    <tr style=\"text-align: right;\">\n",
       "      <th></th>\n",
       "      <th>Item_Weight</th>\n",
       "      <th>Item_Visibility</th>\n",
       "      <th>Item_MRP</th>\n",
       "      <th>Outlet_Establishment_Year</th>\n",
       "      <th>Item_Outlet_Sales</th>\n",
       "    </tr>\n",
       "  </thead>\n",
       "  <tbody>\n",
       "    <tr>\n",
       "      <th>Item_Weight</th>\n",
       "      <td>1.000000</td>\n",
       "      <td>-0.014048</td>\n",
       "      <td>0.027141</td>\n",
       "      <td>-0.011588</td>\n",
       "      <td>0.014123</td>\n",
       "    </tr>\n",
       "    <tr>\n",
       "      <th>Item_Visibility</th>\n",
       "      <td>-0.014048</td>\n",
       "      <td>1.000000</td>\n",
       "      <td>-0.001315</td>\n",
       "      <td>-0.074834</td>\n",
       "      <td>-0.128625</td>\n",
       "    </tr>\n",
       "    <tr>\n",
       "      <th>Item_MRP</th>\n",
       "      <td>0.027141</td>\n",
       "      <td>-0.001315</td>\n",
       "      <td>1.000000</td>\n",
       "      <td>0.005020</td>\n",
       "      <td>0.567574</td>\n",
       "    </tr>\n",
       "    <tr>\n",
       "      <th>Outlet_Establishment_Year</th>\n",
       "      <td>-0.011588</td>\n",
       "      <td>-0.074834</td>\n",
       "      <td>0.005020</td>\n",
       "      <td>1.000000</td>\n",
       "      <td>-0.049135</td>\n",
       "    </tr>\n",
       "    <tr>\n",
       "      <th>Item_Outlet_Sales</th>\n",
       "      <td>0.014123</td>\n",
       "      <td>-0.128625</td>\n",
       "      <td>0.567574</td>\n",
       "      <td>-0.049135</td>\n",
       "      <td>1.000000</td>\n",
       "    </tr>\n",
       "  </tbody>\n",
       "</table>\n",
       "</div>"
      ],
      "text/plain": [
       "                           Item_Weight  Item_Visibility  Item_MRP  \\\n",
       "Item_Weight                   1.000000        -0.014048  0.027141   \n",
       "Item_Visibility              -0.014048         1.000000 -0.001315   \n",
       "Item_MRP                      0.027141        -0.001315  1.000000   \n",
       "Outlet_Establishment_Year    -0.011588        -0.074834  0.005020   \n",
       "Item_Outlet_Sales             0.014123        -0.128625  0.567574   \n",
       "\n",
       "                           Outlet_Establishment_Year  Item_Outlet_Sales  \n",
       "Item_Weight                                -0.011588           0.014123  \n",
       "Item_Visibility                            -0.074834          -0.128625  \n",
       "Item_MRP                                    0.005020           0.567574  \n",
       "Outlet_Establishment_Year                   1.000000          -0.049135  \n",
       "Item_Outlet_Sales                          -0.049135           1.000000  "
      ]
     },
     "execution_count": 120,
     "metadata": {},
     "output_type": "execute_result"
    }
   ],
   "source": [
    "df.corr()"
   ]
  },
  {
   "cell_type": "code",
   "execution_count": 7,
   "id": "e996ee88",
   "metadata": {},
   "outputs": [],
   "source": [
    "import seaborn as sns"
   ]
  },
  {
   "cell_type": "code",
   "execution_count": 10,
   "id": "8d35a439",
   "metadata": {},
   "outputs": [
    {
     "data": {
      "text/plain": [
       "<seaborn.axisgrid.PairGrid at 0x292cefae970>"
      ]
     },
     "execution_count": 10,
     "metadata": {},
     "output_type": "execute_result"
    },
    {
     "data": {
      "image/png": "[encoded data removed]",
      "text/plain": [
       "<Figure size 900x900 with 30 Axes>"
      ]
     },
     "metadata": {
      "needs_background": "light"
     },
     "output_type": "display_data"
    }
   ],
   "source": [
    "sns.pairplot(df)"
   ]
  },
  {
   "cell_type": "code",
   "execution_count": 121,
   "id": "2a4f2b6c",
   "metadata": {},
   "outputs": [
    {
     "data": {
      "text/plain": [
       "Item_Identifier                 0\n",
       "Item_Weight                  1463\n",
       "Item_Fat_Content                0\n",
       "Item_Visibility                 0\n",
       "Item_Type                       0\n",
       "Item_MRP                        0\n",
       "Outlet_Identifier               0\n",
       "Outlet_Establishment_Year       0\n",
       "Outlet_Size                  2410\n",
       "Outlet_Location_Type            0\n",
       "Outlet_Type                     0\n",
       "Item_Outlet_Sales               0\n",
       "dtype: int64"
      ]
     },
     "execution_count": 121,
     "metadata": {},
     "output_type": "execute_result"
    }
   ],
   "source": [
    "df.isnull().sum()"
   ]
  },
  {
   "cell_type": "code",
   "execution_count": 9,
   "id": "e3e6d8a8",
   "metadata": {},
   "outputs": [
    {
     "data": {
      "text/plain": [
       "Medium    2793\n",
       "Small     2388\n",
       "High       932\n",
       "Name: Outlet_Size, dtype: int64"
      ]
     },
     "execution_count": 9,
     "metadata": {},
     "output_type": "execute_result"
    }
   ],
   "source": [
    "df.Outlet_Size.value_counts()"
   ]
  },
  {
   "cell_type": "code",
   "execution_count": 10,
   "id": "7ff7c0ff",
   "metadata": {},
   "outputs": [
    {
     "data": {
      "text/plain": [
       "<AxesSubplot:>"
      ]
     },
     "execution_count": 10,
     "metadata": {},
     "output_type": "execute_result"
    },
    {
     "data": {
      "image/png": "[encoded data removed]",
      "text/plain": [
       "<Figure size 432x288 with 1 Axes>"
      ]
     },
     "metadata": {
      "needs_background": "light"
     },
     "output_type": "display_data"
    }
   ],
   "source": [
    "sns.boxplot(df['Item_Outlet_Sales'], orient = 'h')"
   ]
  },
  {
   "cell_type": "code",
   "execution_count": 11,
   "id": "0440ffa6",
   "metadata": {},
   "outputs": [
    {
     "data": {
      "image/png": "[encoded data removed]",
      "text/plain": [
       "<Figure size 432x288 with 1 Axes>"
      ]
     },
     "metadata": {
      "needs_background": "light"
     },
     "output_type": "display_data"
    }
   ],
   "source": [
    "data = df.copy()\n",
    "import matplotlib.pyplot as plt\n",
    "import numpy as np\n",
    "data['Outlet_Size'] = np.where(data['Outlet_Size'].isnull(), 1,0)\n",
    "data.groupby('Outlet_Size')['Item_Outlet_Sales'].median().plot.bar()\n",
    "plt.title('Outlet_Size')\n",
    "plt.show()"
   ]
  },
  {
   "cell_type": "code",
   "execution_count": 12,
   "id": "1fce2341",
   "metadata": {},
   "outputs": [
    {
     "data": {
      "text/html": [
       "<div>\n",
       "<style scoped>\n",
       "    .dataframe tbody tr th:only-of-type {\n",
       "        vertical-align: middle;\n",
       "    }\n",
       "\n",
       "    .dataframe tbody tr th {\n",
       "        vertical-align: top;\n",
       "    }\n",
       "\n",
       "    .dataframe thead th {\n",
       "        text-align: right;\n",
       "    }\n",
       "</style>\n",
       "<table border=\"1\" class=\"dataframe\">\n",
       "  <thead>\n",
       "    <tr style=\"text-align: right;\">\n",
       "      <th></th>\n",
       "      <th>Item_Identifier</th>\n",
       "      <th>Item_Weight</th>\n",
       "      <th>Item_Fat_Content</th>\n",
       "      <th>Item_Visibility</th>\n",
       "      <th>Item_Type</th>\n",
       "      <th>Item_MRP</th>\n",
       "      <th>Outlet_Identifier</th>\n",
       "      <th>Outlet_Establishment_Year</th>\n",
       "      <th>Outlet_Size</th>\n",
       "      <th>Outlet_Location_Type</th>\n",
       "      <th>Outlet_Type</th>\n",
       "      <th>Item_Outlet_Sales</th>\n",
       "    </tr>\n",
       "  </thead>\n",
       "  <tbody>\n",
       "    <tr>\n",
       "      <th>0</th>\n",
       "      <td>FDA15</td>\n",
       "      <td>9.300</td>\n",
       "      <td>Low Fat</td>\n",
       "      <td>0.016047</td>\n",
       "      <td>Dairy</td>\n",
       "      <td>249.8092</td>\n",
       "      <td>OUT049</td>\n",
       "      <td>1999</td>\n",
       "      <td>Medium</td>\n",
       "      <td>Tier 1</td>\n",
       "      <td>Supermarket Type1</td>\n",
       "      <td>3735.1380</td>\n",
       "    </tr>\n",
       "    <tr>\n",
       "      <th>1</th>\n",
       "      <td>DRC01</td>\n",
       "      <td>5.920</td>\n",
       "      <td>Regular</td>\n",
       "      <td>0.019278</td>\n",
       "      <td>Soft Drinks</td>\n",
       "      <td>48.2692</td>\n",
       "      <td>OUT018</td>\n",
       "      <td>2009</td>\n",
       "      <td>Medium</td>\n",
       "      <td>Tier 3</td>\n",
       "      <td>Supermarket Type2</td>\n",
       "      <td>443.4228</td>\n",
       "    </tr>\n",
       "    <tr>\n",
       "      <th>2</th>\n",
       "      <td>FDN15</td>\n",
       "      <td>17.500</td>\n",
       "      <td>Low Fat</td>\n",
       "      <td>0.016760</td>\n",
       "      <td>Meat</td>\n",
       "      <td>141.6180</td>\n",
       "      <td>OUT049</td>\n",
       "      <td>1999</td>\n",
       "      <td>Medium</td>\n",
       "      <td>Tier 1</td>\n",
       "      <td>Supermarket Type1</td>\n",
       "      <td>2097.2700</td>\n",
       "    </tr>\n",
       "    <tr>\n",
       "      <th>3</th>\n",
       "      <td>FDX07</td>\n",
       "      <td>19.200</td>\n",
       "      <td>Regular</td>\n",
       "      <td>0.000000</td>\n",
       "      <td>Fruits and Vegetables</td>\n",
       "      <td>182.0950</td>\n",
       "      <td>OUT010</td>\n",
       "      <td>1998</td>\n",
       "      <td>NaN</td>\n",
       "      <td>Tier 3</td>\n",
       "      <td>Grocery Store</td>\n",
       "      <td>732.3800</td>\n",
       "    </tr>\n",
       "    <tr>\n",
       "      <th>4</th>\n",
       "      <td>NCD19</td>\n",
       "      <td>8.930</td>\n",
       "      <td>Low Fat</td>\n",
       "      <td>0.000000</td>\n",
       "      <td>Household</td>\n",
       "      <td>53.8614</td>\n",
       "      <td>OUT013</td>\n",
       "      <td>1987</td>\n",
       "      <td>High</td>\n",
       "      <td>Tier 3</td>\n",
       "      <td>Supermarket Type1</td>\n",
       "      <td>994.7052</td>\n",
       "    </tr>\n",
       "    <tr>\n",
       "      <th>...</th>\n",
       "      <td>...</td>\n",
       "      <td>...</td>\n",
       "      <td>...</td>\n",
       "      <td>...</td>\n",
       "      <td>...</td>\n",
       "      <td>...</td>\n",
       "      <td>...</td>\n",
       "      <td>...</td>\n",
       "      <td>...</td>\n",
       "      <td>...</td>\n",
       "      <td>...</td>\n",
       "      <td>...</td>\n",
       "    </tr>\n",
       "    <tr>\n",
       "      <th>8518</th>\n",
       "      <td>FDF22</td>\n",
       "      <td>6.865</td>\n",
       "      <td>Low Fat</td>\n",
       "      <td>0.056783</td>\n",
       "      <td>Snack Foods</td>\n",
       "      <td>214.5218</td>\n",
       "      <td>OUT013</td>\n",
       "      <td>1987</td>\n",
       "      <td>High</td>\n",
       "      <td>Tier 3</td>\n",
       "      <td>Supermarket Type1</td>\n",
       "      <td>2778.3834</td>\n",
       "    </tr>\n",
       "    <tr>\n",
       "      <th>8519</th>\n",
       "      <td>FDS36</td>\n",
       "      <td>8.380</td>\n",
       "      <td>Regular</td>\n",
       "      <td>0.046982</td>\n",
       "      <td>Baking Goods</td>\n",
       "      <td>108.1570</td>\n",
       "      <td>OUT045</td>\n",
       "      <td>2002</td>\n",
       "      <td>NaN</td>\n",
       "      <td>Tier 2</td>\n",
       "      <td>Supermarket Type1</td>\n",
       "      <td>549.2850</td>\n",
       "    </tr>\n",
       "    <tr>\n",
       "      <th>8520</th>\n",
       "      <td>NCJ29</td>\n",
       "      <td>10.600</td>\n",
       "      <td>Low Fat</td>\n",
       "      <td>0.035186</td>\n",
       "      <td>Health and Hygiene</td>\n",
       "      <td>85.1224</td>\n",
       "      <td>OUT035</td>\n",
       "      <td>2004</td>\n",
       "      <td>Small</td>\n",
       "      <td>Tier 2</td>\n",
       "      <td>Supermarket Type1</td>\n",
       "      <td>1193.1136</td>\n",
       "    </tr>\n",
       "    <tr>\n",
       "      <th>8521</th>\n",
       "      <td>FDN46</td>\n",
       "      <td>7.210</td>\n",
       "      <td>Regular</td>\n",
       "      <td>0.145221</td>\n",
       "      <td>Snack Foods</td>\n",
       "      <td>103.1332</td>\n",
       "      <td>OUT018</td>\n",
       "      <td>2009</td>\n",
       "      <td>Medium</td>\n",
       "      <td>Tier 3</td>\n",
       "      <td>Supermarket Type2</td>\n",
       "      <td>1845.5976</td>\n",
       "    </tr>\n",
       "    <tr>\n",
       "      <th>8522</th>\n",
       "      <td>DRG01</td>\n",
       "      <td>14.800</td>\n",
       "      <td>Low Fat</td>\n",
       "      <td>0.044878</td>\n",
       "      <td>Soft Drinks</td>\n",
       "      <td>75.4670</td>\n",
       "      <td>OUT046</td>\n",
       "      <td>1997</td>\n",
       "      <td>Small</td>\n",
       "      <td>Tier 1</td>\n",
       "      <td>Supermarket Type1</td>\n",
       "      <td>765.6700</td>\n",
       "    </tr>\n",
       "  </tbody>\n",
       "</table>\n",
       "<p>8523 rows × 12 columns</p>\n",
       "</div>"
      ],
      "text/plain": [
       "     Item_Identifier  Item_Weight Item_Fat_Content  Item_Visibility  \\\n",
       "0              FDA15        9.300          Low Fat         0.016047   \n",
       "1              DRC01        5.920          Regular         0.019278   \n",
       "2              FDN15       17.500          Low Fat         0.016760   \n",
       "3              FDX07       19.200          Regular         0.000000   \n",
       "4              NCD19        8.930          Low Fat         0.000000   \n",
       "...              ...          ...              ...              ...   \n",
       "8518           FDF22        6.865          Low Fat         0.056783   \n",
       "8519           FDS36        8.380          Regular         0.046982   \n",
       "8520           NCJ29       10.600          Low Fat         0.035186   \n",
       "8521           FDN46        7.210          Regular         0.145221   \n",
       "8522           DRG01       14.800          Low Fat         0.044878   \n",
       "\n",
       "                  Item_Type  Item_MRP Outlet_Identifier  \\\n",
       "0                     Dairy  249.8092            OUT049   \n",
       "1               Soft Drinks   48.2692            OUT018   \n",
       "2                      Meat  141.6180            OUT049   \n",
       "3     Fruits and Vegetables  182.0950            OUT010   \n",
       "4                 Household   53.8614            OUT013   \n",
       "...                     ...       ...               ...   \n",
       "8518            Snack Foods  214.5218            OUT013   \n",
       "8519           Baking Goods  108.1570            OUT045   \n",
       "8520     Health and Hygiene   85.1224            OUT035   \n",
       "8521            Snack Foods  103.1332            OUT018   \n",
       "8522            Soft Drinks   75.4670            OUT046   \n",
       "\n",
       "      Outlet_Establishment_Year Outlet_Size Outlet_Location_Type  \\\n",
       "0                          1999      Medium               Tier 1   \n",
       "1                          2009      Medium               Tier 3   \n",
       "2                          1999      Medium               Tier 1   \n",
       "3                          1998         NaN               Tier 3   \n",
       "4                          1987        High               Tier 3   \n",
       "...                         ...         ...                  ...   \n",
       "8518                       1987        High               Tier 3   \n",
       "8519                       2002         NaN               Tier 2   \n",
       "8520                       2004       Small               Tier 2   \n",
       "8521                       2009      Medium               Tier 3   \n",
       "8522                       1997       Small               Tier 1   \n",
       "\n",
       "            Outlet_Type  Item_Outlet_Sales  \n",
       "0     Supermarket Type1          3735.1380  \n",
       "1     Supermarket Type2           443.4228  \n",
       "2     Supermarket Type1          2097.2700  \n",
       "3         Grocery Store           732.3800  \n",
       "4     Supermarket Type1           994.7052  \n",
       "...                 ...                ...  \n",
       "8518  Supermarket Type1          2778.3834  \n",
       "8519  Supermarket Type1           549.2850  \n",
       "8520  Supermarket Type1          1193.1136  \n",
       "8521  Supermarket Type2          1845.5976  \n",
       "8522  Supermarket Type1           765.6700  \n",
       "\n",
       "[8523 rows x 12 columns]"
      ]
     },
     "execution_count": 12,
     "metadata": {},
     "output_type": "execute_result"
    }
   ],
   "source": [
    "df"
   ]
  },
  {
   "cell_type": "code",
   "execution_count": 13,
   "id": "c4b54b86",
   "metadata": {},
   "outputs": [],
   "source": [
    "data = df.copy()"
   ]
  },
  {
   "cell_type": "code",
   "execution_count": 14,
   "id": "8e0ee938",
   "metadata": {},
   "outputs": [
    {
     "name": "stdout",
     "output_type": "stream",
     "text": [
      "<class 'pandas.core.frame.DataFrame'>\n",
      "RangeIndex: 8523 entries, 0 to 8522\n",
      "Data columns (total 12 columns):\n",
      " #   Column                     Non-Null Count  Dtype  \n",
      "---  ------                     --------------  -----  \n",
      " 0   Item_Identifier            8523 non-null   object \n",
      " 1   Item_Weight                7060 non-null   float64\n",
      " 2   Item_Fat_Content           8523 non-null   object \n",
      " 3   Item_Visibility            8523 non-null   float64\n",
      " 4   Item_Type                  8523 non-null   object \n",
      " 5   Item_MRP                   8523 non-null   float64\n",
      " 6   Outlet_Identifier          8523 non-null   object \n",
      " 7   Outlet_Establishment_Year  8523 non-null   int64  \n",
      " 8   Outlet_Size                6113 non-null   object \n",
      " 9   Outlet_Location_Type       8523 non-null   object \n",
      " 10  Outlet_Type                8523 non-null   object \n",
      " 11  Item_Outlet_Sales          8523 non-null   float64\n",
      "dtypes: float64(4), int64(1), object(7)\n",
      "memory usage: 799.2+ KB\n"
     ]
    }
   ],
   "source": [
    "data.info()"
   ]
  },
  {
   "cell_type": "code",
   "execution_count": 15,
   "id": "459012fa",
   "metadata": {},
   "outputs": [
    {
     "data": {
      "text/plain": [
       "Item_Identifier                 0\n",
       "Item_Weight                  1463\n",
       "Item_Fat_Content                0\n",
       "Item_Visibility                 0\n",
       "Item_Type                       0\n",
       "Item_MRP                        0\n",
       "Outlet_Identifier               0\n",
       "Outlet_Establishment_Year       0\n",
       "Outlet_Size                  2410\n",
       "Outlet_Location_Type            0\n",
       "Outlet_Type                     0\n",
       "Item_Outlet_Sales               0\n",
       "dtype: int64"
      ]
     },
     "execution_count": 15,
     "metadata": {},
     "output_type": "execute_result"
    }
   ],
   "source": [
    "data.isnull().sum()"
   ]
  },
  {
   "cell_type": "code",
   "execution_count": 16,
   "id": "2a4422eb",
   "metadata": {},
   "outputs": [],
   "source": [
    "data['Item_Weight'].fillna(data.Item_Weight.mean(),inplace=True)"
   ]
  },
  {
   "cell_type": "code",
   "execution_count": 17,
   "id": "6cdf7132",
   "metadata": {},
   "outputs": [],
   "source": [
    "data['Outlet_Size'].fillna(data.Outlet_Size.mode()[0],inplace=True)"
   ]
  },
  {
   "cell_type": "code",
   "execution_count": 144,
   "id": "38cef066",
   "metadata": {},
   "outputs": [],
   "source": [
    "df['Item_Weight'].fillna(df.Item_Weight.mean(),inplace=True)\n",
    "df['Outlet_Size'].fillna(df.Outlet_Size.mode()[0],inplace=True)"
   ]
  },
  {
   "cell_type": "code",
   "execution_count": 18,
   "id": "973eab7d",
   "metadata": {},
   "outputs": [
    {
     "data": {
      "text/plain": [
       "Item_Identifier              0\n",
       "Item_Weight                  0\n",
       "Item_Fat_Content             0\n",
       "Item_Visibility              0\n",
       "Item_Type                    0\n",
       "Item_MRP                     0\n",
       "Outlet_Identifier            0\n",
       "Outlet_Establishment_Year    0\n",
       "Outlet_Size                  0\n",
       "Outlet_Location_Type         0\n",
       "Outlet_Type                  0\n",
       "Item_Outlet_Sales            0\n",
       "dtype: int64"
      ]
     },
     "execution_count": 18,
     "metadata": {},
     "output_type": "execute_result"
    }
   ],
   "source": [
    "data.isnull().sum()"
   ]
  },
  {
   "cell_type": "code",
   "execution_count": 19,
   "id": "f16a6597",
   "metadata": {},
   "outputs": [
    {
     "data": {
      "text/html": [
       "<div>\n",
       "<style scoped>\n",
       "    .dataframe tbody tr th:only-of-type {\n",
       "        vertical-align: middle;\n",
       "    }\n",
       "\n",
       "    .dataframe tbody tr th {\n",
       "        vertical-align: top;\n",
       "    }\n",
       "\n",
       "    .dataframe thead th {\n",
       "        text-align: right;\n",
       "    }\n",
       "</style>\n",
       "<table border=\"1\" class=\"dataframe\">\n",
       "  <thead>\n",
       "    <tr style=\"text-align: right;\">\n",
       "      <th></th>\n",
       "      <th>Item_Identifier</th>\n",
       "      <th>Item_Weight</th>\n",
       "      <th>Item_Fat_Content</th>\n",
       "      <th>Item_Visibility</th>\n",
       "      <th>Item_Type</th>\n",
       "      <th>Item_MRP</th>\n",
       "      <th>Outlet_Identifier</th>\n",
       "      <th>Outlet_Establishment_Year</th>\n",
       "      <th>Outlet_Size</th>\n",
       "      <th>Outlet_Location_Type</th>\n",
       "      <th>Outlet_Type</th>\n",
       "      <th>Item_Outlet_Sales</th>\n",
       "    </tr>\n",
       "  </thead>\n",
       "  <tbody>\n",
       "    <tr>\n",
       "      <th>0</th>\n",
       "      <td>FDA15</td>\n",
       "      <td>9.300</td>\n",
       "      <td>Low Fat</td>\n",
       "      <td>0.016047</td>\n",
       "      <td>Dairy</td>\n",
       "      <td>249.8092</td>\n",
       "      <td>OUT049</td>\n",
       "      <td>1999</td>\n",
       "      <td>Medium</td>\n",
       "      <td>Tier 1</td>\n",
       "      <td>Supermarket Type1</td>\n",
       "      <td>3735.1380</td>\n",
       "    </tr>\n",
       "    <tr>\n",
       "      <th>1</th>\n",
       "      <td>DRC01</td>\n",
       "      <td>5.920</td>\n",
       "      <td>Regular</td>\n",
       "      <td>0.019278</td>\n",
       "      <td>Soft Drinks</td>\n",
       "      <td>48.2692</td>\n",
       "      <td>OUT018</td>\n",
       "      <td>2009</td>\n",
       "      <td>Medium</td>\n",
       "      <td>Tier 3</td>\n",
       "      <td>Supermarket Type2</td>\n",
       "      <td>443.4228</td>\n",
       "    </tr>\n",
       "    <tr>\n",
       "      <th>2</th>\n",
       "      <td>FDN15</td>\n",
       "      <td>17.500</td>\n",
       "      <td>Low Fat</td>\n",
       "      <td>0.016760</td>\n",
       "      <td>Meat</td>\n",
       "      <td>141.6180</td>\n",
       "      <td>OUT049</td>\n",
       "      <td>1999</td>\n",
       "      <td>Medium</td>\n",
       "      <td>Tier 1</td>\n",
       "      <td>Supermarket Type1</td>\n",
       "      <td>2097.2700</td>\n",
       "    </tr>\n",
       "    <tr>\n",
       "      <th>3</th>\n",
       "      <td>FDX07</td>\n",
       "      <td>19.200</td>\n",
       "      <td>Regular</td>\n",
       "      <td>0.000000</td>\n",
       "      <td>Fruits and Vegetables</td>\n",
       "      <td>182.0950</td>\n",
       "      <td>OUT010</td>\n",
       "      <td>1998</td>\n",
       "      <td>Medium</td>\n",
       "      <td>Tier 3</td>\n",
       "      <td>Grocery Store</td>\n",
       "      <td>732.3800</td>\n",
       "    </tr>\n",
       "    <tr>\n",
       "      <th>4</th>\n",
       "      <td>NCD19</td>\n",
       "      <td>8.930</td>\n",
       "      <td>Low Fat</td>\n",
       "      <td>0.000000</td>\n",
       "      <td>Household</td>\n",
       "      <td>53.8614</td>\n",
       "      <td>OUT013</td>\n",
       "      <td>1987</td>\n",
       "      <td>High</td>\n",
       "      <td>Tier 3</td>\n",
       "      <td>Supermarket Type1</td>\n",
       "      <td>994.7052</td>\n",
       "    </tr>\n",
       "    <tr>\n",
       "      <th>...</th>\n",
       "      <td>...</td>\n",
       "      <td>...</td>\n",
       "      <td>...</td>\n",
       "      <td>...</td>\n",
       "      <td>...</td>\n",
       "      <td>...</td>\n",
       "      <td>...</td>\n",
       "      <td>...</td>\n",
       "      <td>...</td>\n",
       "      <td>...</td>\n",
       "      <td>...</td>\n",
       "      <td>...</td>\n",
       "    </tr>\n",
       "    <tr>\n",
       "      <th>8518</th>\n",
       "      <td>FDF22</td>\n",
       "      <td>6.865</td>\n",
       "      <td>Low Fat</td>\n",
       "      <td>0.056783</td>\n",
       "      <td>Snack Foods</td>\n",
       "      <td>214.5218</td>\n",
       "      <td>OUT013</td>\n",
       "      <td>1987</td>\n",
       "      <td>High</td>\n",
       "      <td>Tier 3</td>\n",
       "      <td>Supermarket Type1</td>\n",
       "      <td>2778.3834</td>\n",
       "    </tr>\n",
       "    <tr>\n",
       "      <th>8519</th>\n",
       "      <td>FDS36</td>\n",
       "      <td>8.380</td>\n",
       "      <td>Regular</td>\n",
       "      <td>0.046982</td>\n",
       "      <td>Baking Goods</td>\n",
       "      <td>108.1570</td>\n",
       "      <td>OUT045</td>\n",
       "      <td>2002</td>\n",
       "      <td>Medium</td>\n",
       "      <td>Tier 2</td>\n",
       "      <td>Supermarket Type1</td>\n",
       "      <td>549.2850</td>\n",
       "    </tr>\n",
       "    <tr>\n",
       "      <th>8520</th>\n",
       "      <td>NCJ29</td>\n",
       "      <td>10.600</td>\n",
       "      <td>Low Fat</td>\n",
       "      <td>0.035186</td>\n",
       "      <td>Health and Hygiene</td>\n",
       "      <td>85.1224</td>\n",
       "      <td>OUT035</td>\n",
       "      <td>2004</td>\n",
       "      <td>Small</td>\n",
       "      <td>Tier 2</td>\n",
       "      <td>Supermarket Type1</td>\n",
       "      <td>1193.1136</td>\n",
       "    </tr>\n",
       "    <tr>\n",
       "      <th>8521</th>\n",
       "      <td>FDN46</td>\n",
       "      <td>7.210</td>\n",
       "      <td>Regular</td>\n",
       "      <td>0.145221</td>\n",
       "      <td>Snack Foods</td>\n",
       "      <td>103.1332</td>\n",
       "      <td>OUT018</td>\n",
       "      <td>2009</td>\n",
       "      <td>Medium</td>\n",
       "      <td>Tier 3</td>\n",
       "      <td>Supermarket Type2</td>\n",
       "      <td>1845.5976</td>\n",
       "    </tr>\n",
       "    <tr>\n",
       "      <th>8522</th>\n",
       "      <td>DRG01</td>\n",
       "      <td>14.800</td>\n",
       "      <td>Low Fat</td>\n",
       "      <td>0.044878</td>\n",
       "      <td>Soft Drinks</td>\n",
       "      <td>75.4670</td>\n",
       "      <td>OUT046</td>\n",
       "      <td>1997</td>\n",
       "      <td>Small</td>\n",
       "      <td>Tier 1</td>\n",
       "      <td>Supermarket Type1</td>\n",
       "      <td>765.6700</td>\n",
       "    </tr>\n",
       "  </tbody>\n",
       "</table>\n",
       "<p>8523 rows × 12 columns</p>\n",
       "</div>"
      ],
      "text/plain": [
       "     Item_Identifier  Item_Weight Item_Fat_Content  Item_Visibility  \\\n",
       "0              FDA15        9.300          Low Fat         0.016047   \n",
       "1              DRC01        5.920          Regular         0.019278   \n",
       "2              FDN15       17.500          Low Fat         0.016760   \n",
       "3              FDX07       19.200          Regular         0.000000   \n",
       "4              NCD19        8.930          Low Fat         0.000000   \n",
       "...              ...          ...              ...              ...   \n",
       "8518           FDF22        6.865          Low Fat         0.056783   \n",
       "8519           FDS36        8.380          Regular         0.046982   \n",
       "8520           NCJ29       10.600          Low Fat         0.035186   \n",
       "8521           FDN46        7.210          Regular         0.145221   \n",
       "8522           DRG01       14.800          Low Fat         0.044878   \n",
       "\n",
       "                  Item_Type  Item_MRP Outlet_Identifier  \\\n",
       "0                     Dairy  249.8092            OUT049   \n",
       "1               Soft Drinks   48.2692            OUT018   \n",
       "2                      Meat  141.6180            OUT049   \n",
       "3     Fruits and Vegetables  182.0950            OUT010   \n",
       "4                 Household   53.8614            OUT013   \n",
       "...                     ...       ...               ...   \n",
       "8518            Snack Foods  214.5218            OUT013   \n",
       "8519           Baking Goods  108.1570            OUT045   \n",
       "8520     Health and Hygiene   85.1224            OUT035   \n",
       "8521            Snack Foods  103.1332            OUT018   \n",
       "8522            Soft Drinks   75.4670            OUT046   \n",
       "\n",
       "      Outlet_Establishment_Year Outlet_Size Outlet_Location_Type  \\\n",
       "0                          1999      Medium               Tier 1   \n",
       "1                          2009      Medium               Tier 3   \n",
       "2                          1999      Medium               Tier 1   \n",
       "3                          1998      Medium               Tier 3   \n",
       "4                          1987        High               Tier 3   \n",
       "...                         ...         ...                  ...   \n",
       "8518                       1987        High               Tier 3   \n",
       "8519                       2002      Medium               Tier 2   \n",
       "8520                       2004       Small               Tier 2   \n",
       "8521                       2009      Medium               Tier 3   \n",
       "8522                       1997       Small               Tier 1   \n",
       "\n",
       "            Outlet_Type  Item_Outlet_Sales  \n",
       "0     Supermarket Type1          3735.1380  \n",
       "1     Supermarket Type2           443.4228  \n",
       "2     Supermarket Type1          2097.2700  \n",
       "3         Grocery Store           732.3800  \n",
       "4     Supermarket Type1           994.7052  \n",
       "...                 ...                ...  \n",
       "8518  Supermarket Type1          2778.3834  \n",
       "8519  Supermarket Type1           549.2850  \n",
       "8520  Supermarket Type1          1193.1136  \n",
       "8521  Supermarket Type2          1845.5976  \n",
       "8522  Supermarket Type1           765.6700  \n",
       "\n",
       "[8523 rows x 12 columns]"
      ]
     },
     "execution_count": 19,
     "metadata": {},
     "output_type": "execute_result"
    }
   ],
   "source": [
    "data"
   ]
  },
  {
   "cell_type": "code",
   "execution_count": 20,
   "id": "867bb137",
   "metadata": {},
   "outputs": [
    {
     "name": "stdout",
     "output_type": "stream",
     "text": [
      "<class 'pandas.core.frame.DataFrame'>\n",
      "RangeIndex: 8523 entries, 0 to 8522\n",
      "Data columns (total 12 columns):\n",
      " #   Column                     Non-Null Count  Dtype  \n",
      "---  ------                     --------------  -----  \n",
      " 0   Item_Identifier            8523 non-null   object \n",
      " 1   Item_Weight                8523 non-null   float64\n",
      " 2   Item_Fat_Content           8523 non-null   object \n",
      " 3   Item_Visibility            8523 non-null   float64\n",
      " 4   Item_Type                  8523 non-null   object \n",
      " 5   Item_MRP                   8523 non-null   float64\n",
      " 6   Outlet_Identifier          8523 non-null   object \n",
      " 7   Outlet_Establishment_Year  8523 non-null   int64  \n",
      " 8   Outlet_Size                8523 non-null   object \n",
      " 9   Outlet_Location_Type       8523 non-null   object \n",
      " 10  Outlet_Type                8523 non-null   object \n",
      " 11  Item_Outlet_Sales          8523 non-null   float64\n",
      "dtypes: float64(4), int64(1), object(7)\n",
      "memory usage: 799.2+ KB\n"
     ]
    }
   ],
   "source": [
    "data.info()"
   ]
  },
  {
   "cell_type": "code",
   "execution_count": 21,
   "id": "fcfee533",
   "metadata": {},
   "outputs": [],
   "source": [
    "data['outlet_age'] = 2022 - data.Outlet_Establishment_Year"
   ]
  },
  {
   "cell_type": "code",
   "execution_count": 22,
   "id": "af478c69",
   "metadata": {},
   "outputs": [],
   "source": [
    "data.drop(\"Outlet_Establishment_Year\", axis=1, inplace=True)"
   ]
  },
  {
   "cell_type": "code",
   "execution_count": 146,
   "id": "a524d6b5",
   "metadata": {},
   "outputs": [],
   "source": [
    "df['outlet_age'] = 2022 - df.Outlet_Establishment_Year\n",
    "df.drop(\"Outlet_Establishment_Year\", axis=1, inplace=True)"
   ]
  },
  {
   "cell_type": "code",
   "execution_count": 23,
   "id": "a3d47196",
   "metadata": {},
   "outputs": [
    {
     "data": {
      "text/html": [
       "<div>\n",
       "<style scoped>\n",
       "    .dataframe tbody tr th:only-of-type {\n",
       "        vertical-align: middle;\n",
       "    }\n",
       "\n",
       "    .dataframe tbody tr th {\n",
       "        vertical-align: top;\n",
       "    }\n",
       "\n",
       "    .dataframe thead th {\n",
       "        text-align: right;\n",
       "    }\n",
       "</style>\n",
       "<table border=\"1\" class=\"dataframe\">\n",
       "  <thead>\n",
       "    <tr style=\"text-align: right;\">\n",
       "      <th></th>\n",
       "      <th>Item_Identifier</th>\n",
       "      <th>Item_Weight</th>\n",
       "      <th>Item_Fat_Content</th>\n",
       "      <th>Item_Visibility</th>\n",
       "      <th>Item_Type</th>\n",
       "      <th>Item_MRP</th>\n",
       "      <th>Outlet_Identifier</th>\n",
       "      <th>Outlet_Size</th>\n",
       "      <th>Outlet_Location_Type</th>\n",
       "      <th>Outlet_Type</th>\n",
       "      <th>Item_Outlet_Sales</th>\n",
       "      <th>outlet_age</th>\n",
       "    </tr>\n",
       "  </thead>\n",
       "  <tbody>\n",
       "    <tr>\n",
       "      <th>0</th>\n",
       "      <td>FDA15</td>\n",
       "      <td>9.300</td>\n",
       "      <td>Low Fat</td>\n",
       "      <td>0.016047</td>\n",
       "      <td>Dairy</td>\n",
       "      <td>249.8092</td>\n",
       "      <td>OUT049</td>\n",
       "      <td>Medium</td>\n",
       "      <td>Tier 1</td>\n",
       "      <td>Supermarket Type1</td>\n",
       "      <td>3735.1380</td>\n",
       "      <td>23</td>\n",
       "    </tr>\n",
       "    <tr>\n",
       "      <th>1</th>\n",
       "      <td>DRC01</td>\n",
       "      <td>5.920</td>\n",
       "      <td>Regular</td>\n",
       "      <td>0.019278</td>\n",
       "      <td>Soft Drinks</td>\n",
       "      <td>48.2692</td>\n",
       "      <td>OUT018</td>\n",
       "      <td>Medium</td>\n",
       "      <td>Tier 3</td>\n",
       "      <td>Supermarket Type2</td>\n",
       "      <td>443.4228</td>\n",
       "      <td>13</td>\n",
       "    </tr>\n",
       "    <tr>\n",
       "      <th>2</th>\n",
       "      <td>FDN15</td>\n",
       "      <td>17.500</td>\n",
       "      <td>Low Fat</td>\n",
       "      <td>0.016760</td>\n",
       "      <td>Meat</td>\n",
       "      <td>141.6180</td>\n",
       "      <td>OUT049</td>\n",
       "      <td>Medium</td>\n",
       "      <td>Tier 1</td>\n",
       "      <td>Supermarket Type1</td>\n",
       "      <td>2097.2700</td>\n",
       "      <td>23</td>\n",
       "    </tr>\n",
       "    <tr>\n",
       "      <th>3</th>\n",
       "      <td>FDX07</td>\n",
       "      <td>19.200</td>\n",
       "      <td>Regular</td>\n",
       "      <td>0.000000</td>\n",
       "      <td>Fruits and Vegetables</td>\n",
       "      <td>182.0950</td>\n",
       "      <td>OUT010</td>\n",
       "      <td>Medium</td>\n",
       "      <td>Tier 3</td>\n",
       "      <td>Grocery Store</td>\n",
       "      <td>732.3800</td>\n",
       "      <td>24</td>\n",
       "    </tr>\n",
       "    <tr>\n",
       "      <th>4</th>\n",
       "      <td>NCD19</td>\n",
       "      <td>8.930</td>\n",
       "      <td>Low Fat</td>\n",
       "      <td>0.000000</td>\n",
       "      <td>Household</td>\n",
       "      <td>53.8614</td>\n",
       "      <td>OUT013</td>\n",
       "      <td>High</td>\n",
       "      <td>Tier 3</td>\n",
       "      <td>Supermarket Type1</td>\n",
       "      <td>994.7052</td>\n",
       "      <td>35</td>\n",
       "    </tr>\n",
       "    <tr>\n",
       "      <th>...</th>\n",
       "      <td>...</td>\n",
       "      <td>...</td>\n",
       "      <td>...</td>\n",
       "      <td>...</td>\n",
       "      <td>...</td>\n",
       "      <td>...</td>\n",
       "      <td>...</td>\n",
       "      <td>...</td>\n",
       "      <td>...</td>\n",
       "      <td>...</td>\n",
       "      <td>...</td>\n",
       "      <td>...</td>\n",
       "    </tr>\n",
       "    <tr>\n",
       "      <th>8518</th>\n",
       "      <td>FDF22</td>\n",
       "      <td>6.865</td>\n",
       "      <td>Low Fat</td>\n",
       "      <td>0.056783</td>\n",
       "      <td>Snack Foods</td>\n",
       "      <td>214.5218</td>\n",
       "      <td>OUT013</td>\n",
       "      <td>High</td>\n",
       "      <td>Tier 3</td>\n",
       "      <td>Supermarket Type1</td>\n",
       "      <td>2778.3834</td>\n",
       "      <td>35</td>\n",
       "    </tr>\n",
       "    <tr>\n",
       "      <th>8519</th>\n",
       "      <td>FDS36</td>\n",
       "      <td>8.380</td>\n",
       "      <td>Regular</td>\n",
       "      <td>0.046982</td>\n",
       "      <td>Baking Goods</td>\n",
       "      <td>108.1570</td>\n",
       "      <td>OUT045</td>\n",
       "      <td>Medium</td>\n",
       "      <td>Tier 2</td>\n",
       "      <td>Supermarket Type1</td>\n",
       "      <td>549.2850</td>\n",
       "      <td>20</td>\n",
       "    </tr>\n",
       "    <tr>\n",
       "      <th>8520</th>\n",
       "      <td>NCJ29</td>\n",
       "      <td>10.600</td>\n",
       "      <td>Low Fat</td>\n",
       "      <td>0.035186</td>\n",
       "      <td>Health and Hygiene</td>\n",
       "      <td>85.1224</td>\n",
       "      <td>OUT035</td>\n",
       "      <td>Small</td>\n",
       "      <td>Tier 2</td>\n",
       "      <td>Supermarket Type1</td>\n",
       "      <td>1193.1136</td>\n",
       "      <td>18</td>\n",
       "    </tr>\n",
       "    <tr>\n",
       "      <th>8521</th>\n",
       "      <td>FDN46</td>\n",
       "      <td>7.210</td>\n",
       "      <td>Regular</td>\n",
       "      <td>0.145221</td>\n",
       "      <td>Snack Foods</td>\n",
       "      <td>103.1332</td>\n",
       "      <td>OUT018</td>\n",
       "      <td>Medium</td>\n",
       "      <td>Tier 3</td>\n",
       "      <td>Supermarket Type2</td>\n",
       "      <td>1845.5976</td>\n",
       "      <td>13</td>\n",
       "    </tr>\n",
       "    <tr>\n",
       "      <th>8522</th>\n",
       "      <td>DRG01</td>\n",
       "      <td>14.800</td>\n",
       "      <td>Low Fat</td>\n",
       "      <td>0.044878</td>\n",
       "      <td>Soft Drinks</td>\n",
       "      <td>75.4670</td>\n",
       "      <td>OUT046</td>\n",
       "      <td>Small</td>\n",
       "      <td>Tier 1</td>\n",
       "      <td>Supermarket Type1</td>\n",
       "      <td>765.6700</td>\n",
       "      <td>25</td>\n",
       "    </tr>\n",
       "  </tbody>\n",
       "</table>\n",
       "<p>8523 rows × 12 columns</p>\n",
       "</div>"
      ],
      "text/plain": [
       "     Item_Identifier  Item_Weight Item_Fat_Content  Item_Visibility  \\\n",
       "0              FDA15        9.300          Low Fat         0.016047   \n",
       "1              DRC01        5.920          Regular         0.019278   \n",
       "2              FDN15       17.500          Low Fat         0.016760   \n",
       "3              FDX07       19.200          Regular         0.000000   \n",
       "4              NCD19        8.930          Low Fat         0.000000   \n",
       "...              ...          ...              ...              ...   \n",
       "8518           FDF22        6.865          Low Fat         0.056783   \n",
       "8519           FDS36        8.380          Regular         0.046982   \n",
       "8520           NCJ29       10.600          Low Fat         0.035186   \n",
       "8521           FDN46        7.210          Regular         0.145221   \n",
       "8522           DRG01       14.800          Low Fat         0.044878   \n",
       "\n",
       "                  Item_Type  Item_MRP Outlet_Identifier Outlet_Size  \\\n",
       "0                     Dairy  249.8092            OUT049      Medium   \n",
       "1               Soft Drinks   48.2692            OUT018      Medium   \n",
       "2                      Meat  141.6180            OUT049      Medium   \n",
       "3     Fruits and Vegetables  182.0950            OUT010      Medium   \n",
       "4                 Household   53.8614            OUT013        High   \n",
       "...                     ...       ...               ...         ...   \n",
       "8518            Snack Foods  214.5218            OUT013        High   \n",
       "8519           Baking Goods  108.1570            OUT045      Medium   \n",
       "8520     Health and Hygiene   85.1224            OUT035       Small   \n",
       "8521            Snack Foods  103.1332            OUT018      Medium   \n",
       "8522            Soft Drinks   75.4670            OUT046       Small   \n",
       "\n",
       "     Outlet_Location_Type        Outlet_Type  Item_Outlet_Sales  outlet_age  \n",
       "0                  Tier 1  Supermarket Type1          3735.1380          23  \n",
       "1                  Tier 3  Supermarket Type2           443.4228          13  \n",
       "2                  Tier 1  Supermarket Type1          2097.2700          23  \n",
       "3                  Tier 3      Grocery Store           732.3800          24  \n",
       "4                  Tier 3  Supermarket Type1           994.7052          35  \n",
       "...                   ...                ...                ...         ...  \n",
       "8518               Tier 3  Supermarket Type1          2778.3834          35  \n",
       "8519               Tier 2  Supermarket Type1           549.2850          20  \n",
       "8520               Tier 2  Supermarket Type1          1193.1136          18  \n",
       "8521               Tier 3  Supermarket Type2          1845.5976          13  \n",
       "8522               Tier 1  Supermarket Type1           765.6700          25  \n",
       "\n",
       "[8523 rows x 12 columns]"
      ]
     },
     "execution_count": 23,
     "metadata": {},
     "output_type": "execute_result"
    }
   ],
   "source": [
    "data"
   ]
  },
  {
   "cell_type": "code",
   "execution_count": 26,
   "id": "d2dea49c",
   "metadata": {},
   "outputs": [
    {
     "name": "stderr",
     "output_type": "stream",
     "text": [
      "C:\\Users\\sumit\\anaconda\\lib\\site-packages\\evidently\\analyzers\\__init__.py:3: UserWarning: analyzers are deprecated, use metrics instead\n",
      "  warnings.warn(\"analyzers are deprecated, use metrics instead\")\n",
      "C:\\Users\\sumit\\anaconda\\lib\\site-packages\\evidently\\model_profile\\__init__.py:8: UserWarning: model profiles are deprecated, use metrics instead\n",
      "  warnings.warn(\"model profiles are deprecated, use metrics instead\")\n",
      "C:\\Users\\sumit\\anaconda\\lib\\site-packages\\evidently\\dashboard\\__init__.py:8: UserWarning: dashboards are deprecated, use metrics instead\n",
      "  warnings.warn(\"dashboards are deprecated, use metrics instead\")\n"
     ]
    }
   ],
   "source": [
    "import pandas as pd\n",
    "from evidently.model_profile import Profile\n",
    "from evidently.model_profile.sections import DataDriftProfileSection\n",
    "from evidently.dashboard import Dashboard\n",
    "from evidently.dashboard.tabs import DataDriftTab\n",
    "import json\n",
    "from sklearn.model_selection import StratifiedShuffleSplit\n"
   ]
  },
  {
   "cell_type": "code",
   "execution_count": 27,
   "id": "992fce48",
   "metadata": {},
   "outputs": [
    {
     "data": {
      "text/plain": [
       "31.29"
      ]
     },
     "execution_count": 27,
     "metadata": {},
     "output_type": "execute_result"
    }
   ],
   "source": [
    "data.Item_MRP.min()"
   ]
  },
  {
   "cell_type": "code",
   "execution_count": 28,
   "id": "004e2648",
   "metadata": {},
   "outputs": [
    {
     "data": {
      "text/plain": [
       "266.8884"
      ]
     },
     "execution_count": 28,
     "metadata": {},
     "output_type": "execute_result"
    }
   ],
   "source": [
    "data.Item_MRP.max()"
   ]
  },
  {
   "cell_type": "code",
   "execution_count": 29,
   "id": "b309a40b",
   "metadata": {},
   "outputs": [
    {
     "data": {
      "text/plain": [
       "235"
      ]
     },
     "execution_count": 29,
     "metadata": {},
     "output_type": "execute_result"
    }
   ],
   "source": [
    "266-31"
   ]
  },
  {
   "cell_type": "code",
   "execution_count": 30,
   "id": "48b4730a",
   "metadata": {},
   "outputs": [],
   "source": [
    "data[\"Item_MRP_cat\"] = pd.cut(data[\"Item_MRP\"],\n",
    "                bins=[30,50,70,90,110,130,150,170,190,210,230,250,np.inf],\n",
    "                labels=[1,2,3,4,5,6,7,8,9,10,11,12])"
   ]
  },
  {
   "cell_type": "code",
   "execution_count": null,
   "id": "042e24ca",
   "metadata": {},
   "outputs": [],
   "source": [
    "data.drop('Item_Identifier', axis =1, inplace = True)\n",
    "data"
   ]
  },
  {
   "cell_type": "code",
   "execution_count": 32,
   "id": "dbaa41e0",
   "metadata": {},
   "outputs": [],
   "source": [
    "split = StratifiedShuffleSplit(n_splits=1, test_size=0.2, random_state=42)"
   ]
  },
  {
   "cell_type": "code",
   "execution_count": 33,
   "id": "b030c400",
   "metadata": {},
   "outputs": [],
   "source": [
    "for train_index,test_index in split.split(data, data[\"Item_MRP_cat\"]):\n",
    "    strat_train_set = data.loc[train_index].drop(\"Item_MRP_cat\", axis=1)\n",
    "    strat_test_set = data.loc[test_index].drop(\"Item_MRP_cat\", axis=1)"
   ]
  },
  {
   "cell_type": "code",
   "execution_count": 34,
   "id": "195b3735",
   "metadata": {},
   "outputs": [],
   "source": [
    "dashboard = Dashboard(tabs=[DataDriftTab()])\n",
    "dashboard.calculate(strat_test_set,strat_train_set)\n",
    "dashboard.save(\"reportpage2.html\")"
   ]
  },
  {
   "cell_type": "code",
   "execution_count": null,
   "id": "13ba6ee4",
   "metadata": {},
   "outputs": [],
   "source": []
  },
  {
   "cell_type": "code",
   "execution_count": 35,
   "id": "ae4ca752",
   "metadata": {},
   "outputs": [],
   "source": [
    "strat_train_set = pd.get_dummies(strat_train_set,columns=['Item_Fat_Content','Item_Type',\"Outlet_Identifier\",\"Outlet_Size\",\"Outlet_Location_Type\", \"Outlet_Type\"],drop_first=True)\n",
    "strat_test_set = pd.get_dummies(strat_test_set,columns=['Item_Fat_Content','Item_Type',\"Outlet_Identifier\",\"Outlet_Size\",\"Outlet_Location_Type\", \"Outlet_Type\"],drop_first=True)"
   ]
  },
  {
   "cell_type": "code",
   "execution_count": 36,
   "id": "417106b0",
   "metadata": {},
   "outputs": [
    {
     "data": {
      "text/plain": [
       "(6818, 40)"
      ]
     },
     "execution_count": 36,
     "metadata": {},
     "output_type": "execute_result"
    }
   ],
   "source": [
    "strat_train_set.shape"
   ]
  },
  {
   "cell_type": "code",
   "execution_count": 37,
   "id": "c49ae585",
   "metadata": {},
   "outputs": [
    {
     "data": {
      "text/plain": [
       "(1705, 40)"
      ]
     },
     "execution_count": 37,
     "metadata": {},
     "output_type": "execute_result"
    }
   ],
   "source": [
    "strat_test_set.shape"
   ]
  },
  {
   "cell_type": "code",
   "execution_count": null,
   "id": "2d09386d",
   "metadata": {},
   "outputs": [],
   "source": []
  },
  {
   "cell_type": "code",
   "execution_count": 38,
   "id": "756f7690",
   "metadata": {},
   "outputs": [],
   "source": [
    "from sklearn.preprocessing import StandardScaler"
   ]
  },
  {
   "cell_type": "code",
   "execution_count": 39,
   "id": "283f9a1d",
   "metadata": {},
   "outputs": [],
   "source": [
    "scaler1 = StandardScaler()\n",
    "scaler2 = StandardScaler()"
   ]
  },
  {
   "cell_type": "code",
   "execution_count": 40,
   "id": "27262108",
   "metadata": {},
   "outputs": [
    {
     "data": {
      "text/plain": [
       "StandardScaler()"
      ]
     },
     "execution_count": 40,
     "metadata": {},
     "output_type": "execute_result"
    }
   ],
   "source": [
    "scaler1.fit(strat_train_set.drop(\"Item_Outlet_Sales\", axis=1))\n",
    "scaler2.fit(strat_test_set.drop(\"Item_Outlet_Sales\", axis=1))"
   ]
  },
  {
   "cell_type": "code",
   "execution_count": 41,
   "id": "a8995a7b",
   "metadata": {},
   "outputs": [
    {
     "data": {
      "text/html": [
       "<div>\n",
       "<style scoped>\n",
       "    .dataframe tbody tr th:only-of-type {\n",
       "        vertical-align: middle;\n",
       "    }\n",
       "\n",
       "    .dataframe tbody tr th {\n",
       "        vertical-align: top;\n",
       "    }\n",
       "\n",
       "    .dataframe thead th {\n",
       "        text-align: right;\n",
       "    }\n",
       "</style>\n",
       "<table border=\"1\" class=\"dataframe\">\n",
       "  <thead>\n",
       "    <tr style=\"text-align: right;\">\n",
       "      <th></th>\n",
       "      <th>Item_Weight</th>\n",
       "      <th>Item_Visibility</th>\n",
       "      <th>Item_MRP</th>\n",
       "      <th>Item_Outlet_Sales</th>\n",
       "      <th>outlet_age</th>\n",
       "      <th>Item_Fat_Content_Low Fat</th>\n",
       "      <th>Item_Fat_Content_Regular</th>\n",
       "      <th>Item_Fat_Content_low fat</th>\n",
       "      <th>Item_Fat_Content_reg</th>\n",
       "      <th>Item_Type_Breads</th>\n",
       "      <th>...</th>\n",
       "      <th>Outlet_Identifier_OUT045</th>\n",
       "      <th>Outlet_Identifier_OUT046</th>\n",
       "      <th>Outlet_Identifier_OUT049</th>\n",
       "      <th>Outlet_Size_Medium</th>\n",
       "      <th>Outlet_Size_Small</th>\n",
       "      <th>Outlet_Location_Type_Tier 2</th>\n",
       "      <th>Outlet_Location_Type_Tier 3</th>\n",
       "      <th>Outlet_Type_Supermarket Type1</th>\n",
       "      <th>Outlet_Type_Supermarket Type2</th>\n",
       "      <th>Outlet_Type_Supermarket Type3</th>\n",
       "    </tr>\n",
       "  </thead>\n",
       "  <tbody>\n",
       "    <tr>\n",
       "      <th>6709</th>\n",
       "      <td>12.857645</td>\n",
       "      <td>0.030062</td>\n",
       "      <td>154.3656</td>\n",
       "      <td>2471.4496</td>\n",
       "      <td>37</td>\n",
       "      <td>1</td>\n",
       "      <td>0</td>\n",
       "      <td>0</td>\n",
       "      <td>0</td>\n",
       "      <td>0</td>\n",
       "      <td>...</td>\n",
       "      <td>0</td>\n",
       "      <td>0</td>\n",
       "      <td>0</td>\n",
       "      <td>1</td>\n",
       "      <td>0</td>\n",
       "      <td>0</td>\n",
       "      <td>1</td>\n",
       "      <td>0</td>\n",
       "      <td>0</td>\n",
       "      <td>1</td>\n",
       "    </tr>\n",
       "    <tr>\n",
       "      <th>249</th>\n",
       "      <td>17.500000</td>\n",
       "      <td>0.027023</td>\n",
       "      <td>262.4910</td>\n",
       "      <td>5259.8200</td>\n",
       "      <td>15</td>\n",
       "      <td>1</td>\n",
       "      <td>0</td>\n",
       "      <td>0</td>\n",
       "      <td>0</td>\n",
       "      <td>0</td>\n",
       "      <td>...</td>\n",
       "      <td>0</td>\n",
       "      <td>0</td>\n",
       "      <td>0</td>\n",
       "      <td>1</td>\n",
       "      <td>0</td>\n",
       "      <td>1</td>\n",
       "      <td>0</td>\n",
       "      <td>1</td>\n",
       "      <td>0</td>\n",
       "      <td>0</td>\n",
       "    </tr>\n",
       "    <tr>\n",
       "      <th>1853</th>\n",
       "      <td>20.000000</td>\n",
       "      <td>0.059890</td>\n",
       "      <td>168.5132</td>\n",
       "      <td>2874.9244</td>\n",
       "      <td>18</td>\n",
       "      <td>0</td>\n",
       "      <td>1</td>\n",
       "      <td>0</td>\n",
       "      <td>0</td>\n",
       "      <td>0</td>\n",
       "      <td>...</td>\n",
       "      <td>0</td>\n",
       "      <td>0</td>\n",
       "      <td>0</td>\n",
       "      <td>0</td>\n",
       "      <td>1</td>\n",
       "      <td>1</td>\n",
       "      <td>0</td>\n",
       "      <td>1</td>\n",
       "      <td>0</td>\n",
       "      <td>0</td>\n",
       "    </tr>\n",
       "    <tr>\n",
       "      <th>7034</th>\n",
       "      <td>8.775000</td>\n",
       "      <td>0.000000</td>\n",
       "      <td>111.3228</td>\n",
       "      <td>1436.7964</td>\n",
       "      <td>23</td>\n",
       "      <td>1</td>\n",
       "      <td>0</td>\n",
       "      <td>0</td>\n",
       "      <td>0</td>\n",
       "      <td>0</td>\n",
       "      <td>...</td>\n",
       "      <td>0</td>\n",
       "      <td>0</td>\n",
       "      <td>1</td>\n",
       "      <td>1</td>\n",
       "      <td>0</td>\n",
       "      <td>0</td>\n",
       "      <td>0</td>\n",
       "      <td>1</td>\n",
       "      <td>0</td>\n",
       "      <td>0</td>\n",
       "    </tr>\n",
       "    <tr>\n",
       "      <th>3924</th>\n",
       "      <td>15.000000</td>\n",
       "      <td>0.078000</td>\n",
       "      <td>238.0248</td>\n",
       "      <td>1896.1984</td>\n",
       "      <td>18</td>\n",
       "      <td>0</td>\n",
       "      <td>1</td>\n",
       "      <td>0</td>\n",
       "      <td>0</td>\n",
       "      <td>0</td>\n",
       "      <td>...</td>\n",
       "      <td>0</td>\n",
       "      <td>0</td>\n",
       "      <td>0</td>\n",
       "      <td>0</td>\n",
       "      <td>1</td>\n",
       "      <td>1</td>\n",
       "      <td>0</td>\n",
       "      <td>1</td>\n",
       "      <td>0</td>\n",
       "      <td>0</td>\n",
       "    </tr>\n",
       "    <tr>\n",
       "      <th>...</th>\n",
       "      <td>...</td>\n",
       "      <td>...</td>\n",
       "      <td>...</td>\n",
       "      <td>...</td>\n",
       "      <td>...</td>\n",
       "      <td>...</td>\n",
       "      <td>...</td>\n",
       "      <td>...</td>\n",
       "      <td>...</td>\n",
       "      <td>...</td>\n",
       "      <td>...</td>\n",
       "      <td>...</td>\n",
       "      <td>...</td>\n",
       "      <td>...</td>\n",
       "      <td>...</td>\n",
       "      <td>...</td>\n",
       "      <td>...</td>\n",
       "      <td>...</td>\n",
       "      <td>...</td>\n",
       "      <td>...</td>\n",
       "      <td>...</td>\n",
       "    </tr>\n",
       "    <tr>\n",
       "      <th>3649</th>\n",
       "      <td>12.857645</td>\n",
       "      <td>0.056162</td>\n",
       "      <td>246.9118</td>\n",
       "      <td>5681.2714</td>\n",
       "      <td>37</td>\n",
       "      <td>1</td>\n",
       "      <td>0</td>\n",
       "      <td>0</td>\n",
       "      <td>0</td>\n",
       "      <td>0</td>\n",
       "      <td>...</td>\n",
       "      <td>0</td>\n",
       "      <td>0</td>\n",
       "      <td>0</td>\n",
       "      <td>1</td>\n",
       "      <td>0</td>\n",
       "      <td>0</td>\n",
       "      <td>1</td>\n",
       "      <td>0</td>\n",
       "      <td>0</td>\n",
       "      <td>1</td>\n",
       "    </tr>\n",
       "    <tr>\n",
       "      <th>2</th>\n",
       "      <td>17.500000</td>\n",
       "      <td>0.016760</td>\n",
       "      <td>141.6180</td>\n",
       "      <td>2097.2700</td>\n",
       "      <td>23</td>\n",
       "      <td>1</td>\n",
       "      <td>0</td>\n",
       "      <td>0</td>\n",
       "      <td>0</td>\n",
       "      <td>0</td>\n",
       "      <td>...</td>\n",
       "      <td>0</td>\n",
       "      <td>0</td>\n",
       "      <td>1</td>\n",
       "      <td>1</td>\n",
       "      <td>0</td>\n",
       "      <td>0</td>\n",
       "      <td>0</td>\n",
       "      <td>1</td>\n",
       "      <td>0</td>\n",
       "      <td>0</td>\n",
       "    </tr>\n",
       "    <tr>\n",
       "      <th>3890</th>\n",
       "      <td>12.000000</td>\n",
       "      <td>0.000000</td>\n",
       "      <td>262.3278</td>\n",
       "      <td>1561.9668</td>\n",
       "      <td>15</td>\n",
       "      <td>1</td>\n",
       "      <td>0</td>\n",
       "      <td>0</td>\n",
       "      <td>0</td>\n",
       "      <td>0</td>\n",
       "      <td>...</td>\n",
       "      <td>0</td>\n",
       "      <td>0</td>\n",
       "      <td>0</td>\n",
       "      <td>1</td>\n",
       "      <td>0</td>\n",
       "      <td>1</td>\n",
       "      <td>0</td>\n",
       "      <td>1</td>\n",
       "      <td>0</td>\n",
       "      <td>0</td>\n",
       "    </tr>\n",
       "    <tr>\n",
       "      <th>7680</th>\n",
       "      <td>9.395000</td>\n",
       "      <td>0.039962</td>\n",
       "      <td>84.0908</td>\n",
       "      <td>419.4540</td>\n",
       "      <td>25</td>\n",
       "      <td>1</td>\n",
       "      <td>0</td>\n",
       "      <td>0</td>\n",
       "      <td>0</td>\n",
       "      <td>0</td>\n",
       "      <td>...</td>\n",
       "      <td>0</td>\n",
       "      <td>1</td>\n",
       "      <td>0</td>\n",
       "      <td>0</td>\n",
       "      <td>1</td>\n",
       "      <td>0</td>\n",
       "      <td>0</td>\n",
       "      <td>1</td>\n",
       "      <td>0</td>\n",
       "      <td>0</td>\n",
       "    </tr>\n",
       "    <tr>\n",
       "      <th>1640</th>\n",
       "      <td>17.700000</td>\n",
       "      <td>0.051147</td>\n",
       "      <td>127.3678</td>\n",
       "      <td>3306.3628</td>\n",
       "      <td>13</td>\n",
       "      <td>0</td>\n",
       "      <td>0</td>\n",
       "      <td>0</td>\n",
       "      <td>0</td>\n",
       "      <td>0</td>\n",
       "      <td>...</td>\n",
       "      <td>0</td>\n",
       "      <td>0</td>\n",
       "      <td>0</td>\n",
       "      <td>1</td>\n",
       "      <td>0</td>\n",
       "      <td>0</td>\n",
       "      <td>1</td>\n",
       "      <td>0</td>\n",
       "      <td>1</td>\n",
       "      <td>0</td>\n",
       "    </tr>\n",
       "  </tbody>\n",
       "</table>\n",
       "<p>6818 rows × 40 columns</p>\n",
       "</div>"
      ],
      "text/plain": [
       "      Item_Weight  Item_Visibility  Item_MRP  Item_Outlet_Sales  outlet_age  \\\n",
       "6709    12.857645         0.030062  154.3656          2471.4496          37   \n",
       "249     17.500000         0.027023  262.4910          5259.8200          15   \n",
       "1853    20.000000         0.059890  168.5132          2874.9244          18   \n",
       "7034     8.775000         0.000000  111.3228          1436.7964          23   \n",
       "3924    15.000000         0.078000  238.0248          1896.1984          18   \n",
       "...           ...              ...       ...                ...         ...   \n",
       "3649    12.857645         0.056162  246.9118          5681.2714          37   \n",
       "2       17.500000         0.016760  141.6180          2097.2700          23   \n",
       "3890    12.000000         0.000000  262.3278          1561.9668          15   \n",
       "7680     9.395000         0.039962   84.0908           419.4540          25   \n",
       "1640    17.700000         0.051147  127.3678          3306.3628          13   \n",
       "\n",
       "      Item_Fat_Content_Low Fat  Item_Fat_Content_Regular  \\\n",
       "6709                         1                         0   \n",
       "249                          1                         0   \n",
       "1853                         0                         1   \n",
       "7034                         1                         0   \n",
       "3924                         0                         1   \n",
       "...                        ...                       ...   \n",
       "3649                         1                         0   \n",
       "2                            1                         0   \n",
       "3890                         1                         0   \n",
       "7680                         1                         0   \n",
       "1640                         0                         0   \n",
       "\n",
       "      Item_Fat_Content_low fat  Item_Fat_Content_reg  Item_Type_Breads  ...  \\\n",
       "6709                         0                     0                 0  ...   \n",
       "249                          0                     0                 0  ...   \n",
       "1853                         0                     0                 0  ...   \n",
       "7034                         0                     0                 0  ...   \n",
       "3924                         0                     0                 0  ...   \n",
       "...                        ...                   ...               ...  ...   \n",
       "3649                         0                     0                 0  ...   \n",
       "2                            0                     0                 0  ...   \n",
       "3890                         0                     0                 0  ...   \n",
       "7680                         0                     0                 0  ...   \n",
       "1640                         0                     0                 0  ...   \n",
       "\n",
       "      Outlet_Identifier_OUT045  Outlet_Identifier_OUT046  \\\n",
       "6709                         0                         0   \n",
       "249                          0                         0   \n",
       "1853                         0                         0   \n",
       "7034                         0                         0   \n",
       "3924                         0                         0   \n",
       "...                        ...                       ...   \n",
       "3649                         0                         0   \n",
       "2                            0                         0   \n",
       "3890                         0                         0   \n",
       "7680                         0                         1   \n",
       "1640                         0                         0   \n",
       "\n",
       "      Outlet_Identifier_OUT049  Outlet_Size_Medium  Outlet_Size_Small  \\\n",
       "6709                         0                   1                  0   \n",
       "249                          0                   1                  0   \n",
       "1853                         0                   0                  1   \n",
       "7034                         1                   1                  0   \n",
       "3924                         0                   0                  1   \n",
       "...                        ...                 ...                ...   \n",
       "3649                         0                   1                  0   \n",
       "2                            1                   1                  0   \n",
       "3890                         0                   1                  0   \n",
       "7680                         0                   0                  1   \n",
       "1640                         0                   1                  0   \n",
       "\n",
       "      Outlet_Location_Type_Tier 2  Outlet_Location_Type_Tier 3  \\\n",
       "6709                            0                            1   \n",
       "249                             1                            0   \n",
       "1853                            1                            0   \n",
       "7034                            0                            0   \n",
       "3924                            1                            0   \n",
       "...                           ...                          ...   \n",
       "3649                            0                            1   \n",
       "2                               0                            0   \n",
       "3890                            1                            0   \n",
       "7680                            0                            0   \n",
       "1640                            0                            1   \n",
       "\n",
       "      Outlet_Type_Supermarket Type1  Outlet_Type_Supermarket Type2  \\\n",
       "6709                              0                              0   \n",
       "249                               1                              0   \n",
       "1853                              1                              0   \n",
       "7034                              1                              0   \n",
       "3924                              1                              0   \n",
       "...                             ...                            ...   \n",
       "3649                              0                              0   \n",
       "2                                 1                              0   \n",
       "3890                              1                              0   \n",
       "7680                              1                              0   \n",
       "1640                              0                              1   \n",
       "\n",
       "      Outlet_Type_Supermarket Type3  \n",
       "6709                              1  \n",
       "249                               0  \n",
       "1853                              0  \n",
       "7034                              0  \n",
       "3924                              0  \n",
       "...                             ...  \n",
       "3649                              1  \n",
       "2                                 0  \n",
       "3890                              0  \n",
       "7680                              0  \n",
       "1640                              0  \n",
       "\n",
       "[6818 rows x 40 columns]"
      ]
     },
     "execution_count": 41,
     "metadata": {},
     "output_type": "execute_result"
    }
   ],
   "source": [
    "strat_train_set"
   ]
  },
  {
   "cell_type": "code",
   "execution_count": 42,
   "id": "e01e43da",
   "metadata": {},
   "outputs": [],
   "source": [
    "scaled_train_data = scaler1.transform(strat_train_set.drop(\"Item_Outlet_Sales\", axis=1))\n",
    "scaled_test_data = scaler2.transform(strat_test_set.drop(\"Item_Outlet_Sales\", axis=1))"
   ]
  },
  {
   "cell_type": "code",
   "execution_count": 43,
   "id": "c8582d6b",
   "metadata": {},
   "outputs": [
    {
     "data": {
      "text/plain": [
       "array([[-2.20006793e-03, -7.06379827e-01,  2.15187135e-01, ...,\n",
       "        -1.37573986e+00, -3.48398592e-01,  2.87027566e+00],\n",
       "       [ 1.09495719e+00, -7.65275907e-01,  1.95154196e+00, ...,\n",
       "         7.26881607e-01, -3.48398592e-01, -3.48398592e-01],\n",
       "       [ 1.68579810e+00, -1.28385301e-01,  4.42379390e-01, ...,\n",
       "         7.26881607e-01, -3.48398592e-01, -3.48398592e-01],\n",
       "       ...,\n",
       "       [-2.04892813e-01, -1.28892293e+00,  1.94892118e+00, ...,\n",
       "         7.26881607e-01, -3.48398592e-01, -3.48398592e-01],\n",
       "       [-8.20549042e-01, -5.14546007e-01, -9.13335746e-01, ...,\n",
       "         7.26881607e-01, -3.48398592e-01, -3.48398592e-01],\n",
       "       [ 1.14222446e+00, -2.97809343e-01, -2.18362801e-01, ...,\n",
       "        -1.37573986e+00,  2.87027566e+00, -3.48398592e-01]])"
      ]
     },
     "execution_count": 43,
     "metadata": {},
     "output_type": "execute_result"
    }
   ],
   "source": [
    "scaled_train_data"
   ]
  },
  {
   "cell_type": "code",
   "execution_count": 44,
   "id": "57ea96a4",
   "metadata": {},
   "outputs": [],
   "source": [
    "a = strat_train_set.drop('Item_Outlet_Sales',axis=1).columns\n",
    "b = strat_test_set.drop('Item_Outlet_Sales',axis=1).columns"
   ]
  },
  {
   "cell_type": "code",
   "execution_count": 45,
   "id": "64408beb",
   "metadata": {},
   "outputs": [],
   "source": [
    "scaled_train_data = pd.DataFrame(scaled_train_data,columns=strat_train_set.drop('Item_Outlet_Sales',axis=1).columns)\n",
    "scaled_test_data = pd.DataFrame(scaled_test_data,columns=strat_test_set.drop('Item_Outlet_Sales',axis=1).columns)"
   ]
  },
  {
   "cell_type": "code",
   "execution_count": 46,
   "id": "be2cba54",
   "metadata": {},
   "outputs": [
    {
     "data": {
      "text/html": [
       "<div>\n",
       "<style scoped>\n",
       "    .dataframe tbody tr th:only-of-type {\n",
       "        vertical-align: middle;\n",
       "    }\n",
       "\n",
       "    .dataframe tbody tr th {\n",
       "        vertical-align: top;\n",
       "    }\n",
       "\n",
       "    .dataframe thead th {\n",
       "        text-align: right;\n",
       "    }\n",
       "</style>\n",
       "<table border=\"1\" class=\"dataframe\">\n",
       "  <thead>\n",
       "    <tr style=\"text-align: right;\">\n",
       "      <th></th>\n",
       "      <th>Item_Weight</th>\n",
       "      <th>Item_Visibility</th>\n",
       "      <th>Item_MRP</th>\n",
       "      <th>outlet_age</th>\n",
       "      <th>Item_Fat_Content_Low Fat</th>\n",
       "      <th>Item_Fat_Content_Regular</th>\n",
       "      <th>Item_Fat_Content_low fat</th>\n",
       "      <th>Item_Fat_Content_reg</th>\n",
       "      <th>Item_Type_Breads</th>\n",
       "      <th>Item_Type_Breakfast</th>\n",
       "      <th>...</th>\n",
       "      <th>Outlet_Identifier_OUT045</th>\n",
       "      <th>Outlet_Identifier_OUT046</th>\n",
       "      <th>Outlet_Identifier_OUT049</th>\n",
       "      <th>Outlet_Size_Medium</th>\n",
       "      <th>Outlet_Size_Small</th>\n",
       "      <th>Outlet_Location_Type_Tier 2</th>\n",
       "      <th>Outlet_Location_Type_Tier 3</th>\n",
       "      <th>Outlet_Type_Supermarket Type1</th>\n",
       "      <th>Outlet_Type_Supermarket Type2</th>\n",
       "      <th>Outlet_Type_Supermarket Type3</th>\n",
       "    </tr>\n",
       "  </thead>\n",
       "  <tbody>\n",
       "    <tr>\n",
       "      <th>0</th>\n",
       "      <td>-0.002200</td>\n",
       "      <td>-0.706380</td>\n",
       "      <td>0.215187</td>\n",
       "      <td>1.535532</td>\n",
       "      <td>0.817944</td>\n",
       "      <td>-0.712091</td>\n",
       "      <td>-0.116954</td>\n",
       "      <td>-0.116308</td>\n",
       "      <td>-0.172943</td>\n",
       "      <td>-0.118236</td>\n",
       "      <td>...</td>\n",
       "      <td>-0.350249</td>\n",
       "      <td>-0.350776</td>\n",
       "      <td>-0.347604</td>\n",
       "      <td>0.797615</td>\n",
       "      <td>-0.622693</td>\n",
       "      <td>-0.697870</td>\n",
       "      <td>1.243737</td>\n",
       "      <td>-1.375740</td>\n",
       "      <td>-0.348399</td>\n",
       "      <td>2.870276</td>\n",
       "    </tr>\n",
       "    <tr>\n",
       "      <th>1</th>\n",
       "      <td>1.094957</td>\n",
       "      <td>-0.765276</td>\n",
       "      <td>1.951542</td>\n",
       "      <td>-1.094394</td>\n",
       "      <td>0.817944</td>\n",
       "      <td>-0.712091</td>\n",
       "      <td>-0.116954</td>\n",
       "      <td>-0.116308</td>\n",
       "      <td>-0.172943</td>\n",
       "      <td>-0.118236</td>\n",
       "      <td>...</td>\n",
       "      <td>-0.350249</td>\n",
       "      <td>-0.350776</td>\n",
       "      <td>-0.347604</td>\n",
       "      <td>0.797615</td>\n",
       "      <td>-0.622693</td>\n",
       "      <td>1.432931</td>\n",
       "      <td>-0.804029</td>\n",
       "      <td>0.726882</td>\n",
       "      <td>-0.348399</td>\n",
       "      <td>-0.348399</td>\n",
       "    </tr>\n",
       "    <tr>\n",
       "      <th>2</th>\n",
       "      <td>1.685798</td>\n",
       "      <td>-0.128385</td>\n",
       "      <td>0.442379</td>\n",
       "      <td>-0.735768</td>\n",
       "      <td>-1.222577</td>\n",
       "      <td>1.404315</td>\n",
       "      <td>-0.116954</td>\n",
       "      <td>-0.116308</td>\n",
       "      <td>-0.172943</td>\n",
       "      <td>-0.118236</td>\n",
       "      <td>...</td>\n",
       "      <td>-0.350249</td>\n",
       "      <td>-0.350776</td>\n",
       "      <td>-0.347604</td>\n",
       "      <td>-1.253738</td>\n",
       "      <td>1.605927</td>\n",
       "      <td>1.432931</td>\n",
       "      <td>-0.804029</td>\n",
       "      <td>0.726882</td>\n",
       "      <td>-0.348399</td>\n",
       "      <td>-0.348399</td>\n",
       "    </tr>\n",
       "    <tr>\n",
       "      <th>3</th>\n",
       "      <td>-0.967078</td>\n",
       "      <td>-1.288923</td>\n",
       "      <td>-0.476025</td>\n",
       "      <td>-0.138057</td>\n",
       "      <td>0.817944</td>\n",
       "      <td>-0.712091</td>\n",
       "      <td>-0.116954</td>\n",
       "      <td>-0.116308</td>\n",
       "      <td>-0.172943</td>\n",
       "      <td>-0.118236</td>\n",
       "      <td>...</td>\n",
       "      <td>-0.350249</td>\n",
       "      <td>-0.350776</td>\n",
       "      <td>2.876837</td>\n",
       "      <td>0.797615</td>\n",
       "      <td>-0.622693</td>\n",
       "      <td>-0.697870</td>\n",
       "      <td>-0.804029</td>\n",
       "      <td>0.726882</td>\n",
       "      <td>-0.348399</td>\n",
       "      <td>-0.348399</td>\n",
       "    </tr>\n",
       "    <tr>\n",
       "      <th>4</th>\n",
       "      <td>0.504116</td>\n",
       "      <td>0.222545</td>\n",
       "      <td>1.558646</td>\n",
       "      <td>-0.735768</td>\n",
       "      <td>-1.222577</td>\n",
       "      <td>1.404315</td>\n",
       "      <td>-0.116954</td>\n",
       "      <td>-0.116308</td>\n",
       "      <td>-0.172943</td>\n",
       "      <td>-0.118236</td>\n",
       "      <td>...</td>\n",
       "      <td>-0.350249</td>\n",
       "      <td>-0.350776</td>\n",
       "      <td>-0.347604</td>\n",
       "      <td>-1.253738</td>\n",
       "      <td>1.605927</td>\n",
       "      <td>1.432931</td>\n",
       "      <td>-0.804029</td>\n",
       "      <td>0.726882</td>\n",
       "      <td>-0.348399</td>\n",
       "      <td>-0.348399</td>\n",
       "    </tr>\n",
       "    <tr>\n",
       "      <th>...</th>\n",
       "      <td>...</td>\n",
       "      <td>...</td>\n",
       "      <td>...</td>\n",
       "      <td>...</td>\n",
       "      <td>...</td>\n",
       "      <td>...</td>\n",
       "      <td>...</td>\n",
       "      <td>...</td>\n",
       "      <td>...</td>\n",
       "      <td>...</td>\n",
       "      <td>...</td>\n",
       "      <td>...</td>\n",
       "      <td>...</td>\n",
       "      <td>...</td>\n",
       "      <td>...</td>\n",
       "      <td>...</td>\n",
       "      <td>...</td>\n",
       "      <td>...</td>\n",
       "      <td>...</td>\n",
       "      <td>...</td>\n",
       "      <td>...</td>\n",
       "    </tr>\n",
       "    <tr>\n",
       "      <th>6813</th>\n",
       "      <td>-0.002200</td>\n",
       "      <td>-0.200630</td>\n",
       "      <td>1.701360</td>\n",
       "      <td>1.535532</td>\n",
       "      <td>0.817944</td>\n",
       "      <td>-0.712091</td>\n",
       "      <td>-0.116954</td>\n",
       "      <td>-0.116308</td>\n",
       "      <td>-0.172943</td>\n",
       "      <td>-0.118236</td>\n",
       "      <td>...</td>\n",
       "      <td>-0.350249</td>\n",
       "      <td>-0.350776</td>\n",
       "      <td>-0.347604</td>\n",
       "      <td>0.797615</td>\n",
       "      <td>-0.622693</td>\n",
       "      <td>-0.697870</td>\n",
       "      <td>1.243737</td>\n",
       "      <td>-1.375740</td>\n",
       "      <td>-0.348399</td>\n",
       "      <td>2.870276</td>\n",
       "    </tr>\n",
       "    <tr>\n",
       "      <th>6814</th>\n",
       "      <td>1.094957</td>\n",
       "      <td>-0.964148</td>\n",
       "      <td>0.010477</td>\n",
       "      <td>-0.138057</td>\n",
       "      <td>0.817944</td>\n",
       "      <td>-0.712091</td>\n",
       "      <td>-0.116954</td>\n",
       "      <td>-0.116308</td>\n",
       "      <td>-0.172943</td>\n",
       "      <td>-0.118236</td>\n",
       "      <td>...</td>\n",
       "      <td>-0.350249</td>\n",
       "      <td>-0.350776</td>\n",
       "      <td>2.876837</td>\n",
       "      <td>0.797615</td>\n",
       "      <td>-0.622693</td>\n",
       "      <td>-0.697870</td>\n",
       "      <td>-0.804029</td>\n",
       "      <td>0.726882</td>\n",
       "      <td>-0.348399</td>\n",
       "      <td>-0.348399</td>\n",
       "    </tr>\n",
       "    <tr>\n",
       "      <th>6815</th>\n",
       "      <td>-0.204893</td>\n",
       "      <td>-1.288923</td>\n",
       "      <td>1.948921</td>\n",
       "      <td>-1.094394</td>\n",
       "      <td>0.817944</td>\n",
       "      <td>-0.712091</td>\n",
       "      <td>-0.116954</td>\n",
       "      <td>-0.116308</td>\n",
       "      <td>-0.172943</td>\n",
       "      <td>-0.118236</td>\n",
       "      <td>...</td>\n",
       "      <td>-0.350249</td>\n",
       "      <td>-0.350776</td>\n",
       "      <td>-0.347604</td>\n",
       "      <td>0.797615</td>\n",
       "      <td>-0.622693</td>\n",
       "      <td>1.432931</td>\n",
       "      <td>-0.804029</td>\n",
       "      <td>0.726882</td>\n",
       "      <td>-0.348399</td>\n",
       "      <td>-0.348399</td>\n",
       "    </tr>\n",
       "    <tr>\n",
       "      <th>6816</th>\n",
       "      <td>-0.820549</td>\n",
       "      <td>-0.514546</td>\n",
       "      <td>-0.913336</td>\n",
       "      <td>0.101027</td>\n",
       "      <td>0.817944</td>\n",
       "      <td>-0.712091</td>\n",
       "      <td>-0.116954</td>\n",
       "      <td>-0.116308</td>\n",
       "      <td>-0.172943</td>\n",
       "      <td>-0.118236</td>\n",
       "      <td>...</td>\n",
       "      <td>-0.350249</td>\n",
       "      <td>2.850820</td>\n",
       "      <td>-0.347604</td>\n",
       "      <td>-1.253738</td>\n",
       "      <td>1.605927</td>\n",
       "      <td>-0.697870</td>\n",
       "      <td>-0.804029</td>\n",
       "      <td>0.726882</td>\n",
       "      <td>-0.348399</td>\n",
       "      <td>-0.348399</td>\n",
       "    </tr>\n",
       "    <tr>\n",
       "      <th>6817</th>\n",
       "      <td>1.142224</td>\n",
       "      <td>-0.297809</td>\n",
       "      <td>-0.218363</td>\n",
       "      <td>-1.333478</td>\n",
       "      <td>-1.222577</td>\n",
       "      <td>-0.712091</td>\n",
       "      <td>-0.116954</td>\n",
       "      <td>-0.116308</td>\n",
       "      <td>-0.172943</td>\n",
       "      <td>-0.118236</td>\n",
       "      <td>...</td>\n",
       "      <td>-0.350249</td>\n",
       "      <td>-0.350776</td>\n",
       "      <td>-0.347604</td>\n",
       "      <td>0.797615</td>\n",
       "      <td>-0.622693</td>\n",
       "      <td>-0.697870</td>\n",
       "      <td>1.243737</td>\n",
       "      <td>-1.375740</td>\n",
       "      <td>2.870276</td>\n",
       "      <td>-0.348399</td>\n",
       "    </tr>\n",
       "  </tbody>\n",
       "</table>\n",
       "<p>6818 rows × 39 columns</p>\n",
       "</div>"
      ],
      "text/plain": [
       "      Item_Weight  Item_Visibility  Item_MRP  outlet_age  \\\n",
       "0       -0.002200        -0.706380  0.215187    1.535532   \n",
       "1        1.094957        -0.765276  1.951542   -1.094394   \n",
       "2        1.685798        -0.128385  0.442379   -0.735768   \n",
       "3       -0.967078        -1.288923 -0.476025   -0.138057   \n",
       "4        0.504116         0.222545  1.558646   -0.735768   \n",
       "...           ...              ...       ...         ...   \n",
       "6813    -0.002200        -0.200630  1.701360    1.535532   \n",
       "6814     1.094957        -0.964148  0.010477   -0.138057   \n",
       "6815    -0.204893        -1.288923  1.948921   -1.094394   \n",
       "6816    -0.820549        -0.514546 -0.913336    0.101027   \n",
       "6817     1.142224        -0.297809 -0.218363   -1.333478   \n",
       "\n",
       "      Item_Fat_Content_Low Fat  Item_Fat_Content_Regular  \\\n",
       "0                     0.817944                 -0.712091   \n",
       "1                     0.817944                 -0.712091   \n",
       "2                    -1.222577                  1.404315   \n",
       "3                     0.817944                 -0.712091   \n",
       "4                    -1.222577                  1.404315   \n",
       "...                        ...                       ...   \n",
       "6813                  0.817944                 -0.712091   \n",
       "6814                  0.817944                 -0.712091   \n",
       "6815                  0.817944                 -0.712091   \n",
       "6816                  0.817944                 -0.712091   \n",
       "6817                 -1.222577                 -0.712091   \n",
       "\n",
       "      Item_Fat_Content_low fat  Item_Fat_Content_reg  Item_Type_Breads  \\\n",
       "0                    -0.116954             -0.116308         -0.172943   \n",
       "1                    -0.116954             -0.116308         -0.172943   \n",
       "2                    -0.116954             -0.116308         -0.172943   \n",
       "3                    -0.116954             -0.116308         -0.172943   \n",
       "4                    -0.116954             -0.116308         -0.172943   \n",
       "...                        ...                   ...               ...   \n",
       "6813                 -0.116954             -0.116308         -0.172943   \n",
       "6814                 -0.116954             -0.116308         -0.172943   \n",
       "6815                 -0.116954             -0.116308         -0.172943   \n",
       "6816                 -0.116954             -0.116308         -0.172943   \n",
       "6817                 -0.116954             -0.116308         -0.172943   \n",
       "\n",
       "      Item_Type_Breakfast  ...  Outlet_Identifier_OUT045  \\\n",
       "0               -0.118236  ...                 -0.350249   \n",
       "1               -0.118236  ...                 -0.350249   \n",
       "2               -0.118236  ...                 -0.350249   \n",
       "3               -0.118236  ...                 -0.350249   \n",
       "4               -0.118236  ...                 -0.350249   \n",
       "...                   ...  ...                       ...   \n",
       "6813            -0.118236  ...                 -0.350249   \n",
       "6814            -0.118236  ...                 -0.350249   \n",
       "6815            -0.118236  ...                 -0.350249   \n",
       "6816            -0.118236  ...                 -0.350249   \n",
       "6817            -0.118236  ...                 -0.350249   \n",
       "\n",
       "      Outlet_Identifier_OUT046  Outlet_Identifier_OUT049  Outlet_Size_Medium  \\\n",
       "0                    -0.350776                 -0.347604            0.797615   \n",
       "1                    -0.350776                 -0.347604            0.797615   \n",
       "2                    -0.350776                 -0.347604           -1.253738   \n",
       "3                    -0.350776                  2.876837            0.797615   \n",
       "4                    -0.350776                 -0.347604           -1.253738   \n",
       "...                        ...                       ...                 ...   \n",
       "6813                 -0.350776                 -0.347604            0.797615   \n",
       "6814                 -0.350776                  2.876837            0.797615   \n",
       "6815                 -0.350776                 -0.347604            0.797615   \n",
       "6816                  2.850820                 -0.347604           -1.253738   \n",
       "6817                 -0.350776                 -0.347604            0.797615   \n",
       "\n",
       "      Outlet_Size_Small  Outlet_Location_Type_Tier 2  \\\n",
       "0             -0.622693                    -0.697870   \n",
       "1             -0.622693                     1.432931   \n",
       "2              1.605927                     1.432931   \n",
       "3             -0.622693                    -0.697870   \n",
       "4              1.605927                     1.432931   \n",
       "...                 ...                          ...   \n",
       "6813          -0.622693                    -0.697870   \n",
       "6814          -0.622693                    -0.697870   \n",
       "6815          -0.622693                     1.432931   \n",
       "6816           1.605927                    -0.697870   \n",
       "6817          -0.622693                    -0.697870   \n",
       "\n",
       "      Outlet_Location_Type_Tier 3  Outlet_Type_Supermarket Type1  \\\n",
       "0                        1.243737                      -1.375740   \n",
       "1                       -0.804029                       0.726882   \n",
       "2                       -0.804029                       0.726882   \n",
       "3                       -0.804029                       0.726882   \n",
       "4                       -0.804029                       0.726882   \n",
       "...                           ...                            ...   \n",
       "6813                     1.243737                      -1.375740   \n",
       "6814                    -0.804029                       0.726882   \n",
       "6815                    -0.804029                       0.726882   \n",
       "6816                    -0.804029                       0.726882   \n",
       "6817                     1.243737                      -1.375740   \n",
       "\n",
       "      Outlet_Type_Supermarket Type2  Outlet_Type_Supermarket Type3  \n",
       "0                         -0.348399                       2.870276  \n",
       "1                         -0.348399                      -0.348399  \n",
       "2                         -0.348399                      -0.348399  \n",
       "3                         -0.348399                      -0.348399  \n",
       "4                         -0.348399                      -0.348399  \n",
       "...                             ...                            ...  \n",
       "6813                      -0.348399                       2.870276  \n",
       "6814                      -0.348399                      -0.348399  \n",
       "6815                      -0.348399                      -0.348399  \n",
       "6816                      -0.348399                      -0.348399  \n",
       "6817                       2.870276                      -0.348399  \n",
       "\n",
       "[6818 rows x 39 columns]"
      ]
     },
     "execution_count": 46,
     "metadata": {},
     "output_type": "execute_result"
    }
   ],
   "source": [
    "scaled_train_data"
   ]
  },
  {
   "cell_type": "code",
   "execution_count": 47,
   "id": "11e98a0c",
   "metadata": {},
   "outputs": [],
   "source": [
    "y_train = strat_train_set['Item_Outlet_Sales']\n",
    "y_test = strat_test_set['Item_Outlet_Sales']"
   ]
  },
  {
   "cell_type": "markdown",
   "id": "3e4c60e8",
   "metadata": {},
   "source": [
    "# Linear Regreession "
   ]
  },
  {
   "cell_type": "code",
   "execution_count": 48,
   "id": "bcb973cd",
   "metadata": {},
   "outputs": [],
   "source": [
    "from sklearn.linear_model import LinearRegression"
   ]
  },
  {
   "cell_type": "code",
   "execution_count": 49,
   "id": "8cddee90",
   "metadata": {},
   "outputs": [],
   "source": [
    "lr = LinearRegression()"
   ]
  },
  {
   "cell_type": "code",
   "execution_count": 50,
   "id": "f0174eff",
   "metadata": {},
   "outputs": [
    {
     "data": {
      "text/plain": [
       "LinearRegression()"
      ]
     },
     "execution_count": 50,
     "metadata": {},
     "output_type": "execute_result"
    }
   ],
   "source": [
    "lr"
   ]
  },
  {
   "cell_type": "code",
   "execution_count": 53,
   "id": "83aaf031",
   "metadata": {},
   "outputs": [
    {
     "data": {
      "text/plain": [
       "LinearRegression()"
      ]
     },
     "execution_count": 53,
     "metadata": {},
     "output_type": "execute_result"
    }
   ],
   "source": [
    "lr.fit(strat_train_set,y_train)"
   ]
  },
  {
   "cell_type": "code",
   "execution_count": 59,
   "id": "237ce874",
   "metadata": {},
   "outputs": [],
   "source": [
    "predict = lr.predict(strat_test_set)"
   ]
  },
  {
   "cell_type": "code",
   "execution_count": 56,
   "id": "c54bae51",
   "metadata": {},
   "outputs": [],
   "source": [
    "import seaborn as sns\n",
    "from sklearn.metrics import r2_score, mean_squared_error"
   ]
  },
  {
   "cell_type": "code",
   "execution_count": 60,
   "id": "140e3aae",
   "metadata": {},
   "outputs": [
    {
     "data": {
      "text/plain": [
       "1.0"
      ]
     },
     "execution_count": 60,
     "metadata": {},
     "output_type": "execute_result"
    }
   ],
   "source": [
    "r2_score(y_test, predict)"
   ]
  },
  {
   "cell_type": "code",
   "execution_count": 61,
   "id": "4633d8ec",
   "metadata": {},
   "outputs": [
    {
     "data": {
      "text/plain": [
       "array([1508.037 , 1757.712 , 1772.3596, ...,  719.064 , 1720.4272,\n",
       "        480.7076])"
      ]
     },
     "execution_count": 61,
     "metadata": {},
     "output_type": "execute_result"
    }
   ],
   "source": [
    "predict"
   ]
  },
  {
   "cell_type": "code",
   "execution_count": 62,
   "id": "d51f550b",
   "metadata": {},
   "outputs": [
    {
     "data": {
      "text/plain": [
       "6758    1508.0370\n",
       "555     1757.7120\n",
       "8024    1772.3596\n",
       "3566    3323.0078\n",
       "7269    3325.6710\n",
       "          ...    \n",
       "2389     419.4540\n",
       "2403     175.7712\n",
       "1923     719.0640\n",
       "6756    1720.4272\n",
       "2035     480.7076\n",
       "Name: Item_Outlet_Sales, Length: 1705, dtype: float64"
      ]
     },
     "execution_count": 62,
     "metadata": {},
     "output_type": "execute_result"
    }
   ],
   "source": [
    "y_test"
   ]
  },
  {
   "cell_type": "code",
   "execution_count": 63,
   "id": "cb046831",
   "metadata": {},
   "outputs": [],
   "source": [
    "lr_scaled = LinearRegression()"
   ]
  },
  {
   "cell_type": "code",
   "execution_count": 64,
   "id": "cce7711a",
   "metadata": {},
   "outputs": [
    {
     "data": {
      "text/plain": [
       "LinearRegression()"
      ]
     },
     "execution_count": 64,
     "metadata": {},
     "output_type": "execute_result"
    }
   ],
   "source": [
    "lr_scaled.fit(scaled_train_data, y_train)"
   ]
  },
  {
   "cell_type": "code",
   "execution_count": 67,
   "id": "9bcc397a",
   "metadata": {},
   "outputs": [],
   "source": [
    "scaled_train_predict = lr_scaled.predict(scaled_train_data)"
   ]
  },
  {
   "cell_type": "code",
   "execution_count": 68,
   "id": "9fcf7863",
   "metadata": {},
   "outputs": [
    {
     "data": {
      "text/plain": [
       "0.568211145888103"
      ]
     },
     "execution_count": 68,
     "metadata": {},
     "output_type": "execute_result"
    }
   ],
   "source": [
    "r2_score(y_train, scaled_train_predict)"
   ]
  },
  {
   "cell_type": "code",
   "execution_count": 69,
   "id": "187265f0",
   "metadata": {},
   "outputs": [],
   "source": [
    "scaled_test_predict = lr_scaled.predict(scaled_test_data)"
   ]
  },
  {
   "cell_type": "code",
   "execution_count": 70,
   "id": "f68535e1",
   "metadata": {},
   "outputs": [
    {
     "data": {
      "text/plain": [
       "-1.2050721193563682e+20"
      ]
     },
     "execution_count": 70,
     "metadata": {},
     "output_type": "execute_result"
    }
   ],
   "source": [
    "r2_score(y_test, scaled_test_predict)"
   ]
  },
  {
   "cell_type": "code",
   "execution_count": 72,
   "id": "47d77b47",
   "metadata": {},
   "outputs": [],
   "source": [
    "from sklearn.model_selection import GridSearchCV"
   ]
  },
  {
   "cell_type": "code",
   "execution_count": 60,
   "id": "4955f1e8",
   "metadata": {},
   "outputs": [],
   "source": [
    "parameters = {'fit_intercept':[True, False]}\n",
    "lr_grid_search = GridSearchCV(lr, parameters, cv=5, verbose=1)"
   ]
  },
  {
   "cell_type": "code",
   "execution_count": 62,
   "id": "dad40df0",
   "metadata": {},
   "outputs": [
    {
     "name": "stdout",
     "output_type": "stream",
     "text": [
      "Fitting 5 folds for each of 2 candidates, totalling 10 fits\n"
     ]
    },
    {
     "data": {
      "text/plain": [
       "GridSearchCV(cv=5, estimator=LinearRegression(),\n",
       "             param_grid={'fit_intercept': [True, False]}, verbose=1)"
      ]
     },
     "execution_count": 62,
     "metadata": {},
     "output_type": "execute_result"
    }
   ],
   "source": [
    "lr_grid_search.fit(scaled_train_data,y_train)"
   ]
  },
  {
   "cell_type": "code",
   "execution_count": 63,
   "id": "c03e1c8d",
   "metadata": {},
   "outputs": [
    {
     "data": {
      "text/plain": [
       "{'fit_intercept': True}"
      ]
     },
     "execution_count": 63,
     "metadata": {},
     "output_type": "execute_result"
    }
   ],
   "source": [
    "lr_grid_search.best_params_"
   ]
  },
  {
   "cell_type": "code",
   "execution_count": 64,
   "id": "fa292f63",
   "metadata": {},
   "outputs": [
    {
     "data": {
      "text/plain": [
       "0.563101236783605"
      ]
     },
     "execution_count": 64,
     "metadata": {},
     "output_type": "execute_result"
    }
   ],
   "source": [
    "lr_grid_search.best_score_"
   ]
  },
  {
   "cell_type": "code",
   "execution_count": 65,
   "id": "9007b73a",
   "metadata": {},
   "outputs": [],
   "source": [
    "predict_grid = lr_grid_search.predict(scaled_test_data)"
   ]
  },
  {
   "cell_type": "code",
   "execution_count": 66,
   "id": "c577e364",
   "metadata": {},
   "outputs": [
    {
     "data": {
      "text/plain": [
       "-1.2050721193563682e+20"
      ]
     },
     "execution_count": 66,
     "metadata": {},
     "output_type": "execute_result"
    }
   ],
   "source": [
    "r2_score(y_test, predict_grid)"
   ]
  },
  {
   "cell_type": "markdown",
   "id": "d2fc29da",
   "metadata": {},
   "source": [
    "# ElasticNet Regression "
   ]
  },
  {
   "cell_type": "code",
   "execution_count": 74,
   "id": "7e8e2e89",
   "metadata": {},
   "outputs": [],
   "source": [
    "from sklearn.linear_model import ElasticNet\n",
    "from sklearn.model_selection import GridSearchCV\n",
    "elasticnet=ElasticNet()\n",
    "parameters={'alpha':[1e-15,1e-10,1e-8,1e-3,1e-2,1,5,10,20,30,35,40,45,50,55,100]}\n",
    "elasticnet_regressor=GridSearchCV(elasticnet,parameters,scoring='neg_mean_squared_error',cv=5, verbose=2)\n"
   ]
  },
  {
   "cell_type": "code",
   "execution_count": 75,
   "id": "f823b4b6",
   "metadata": {},
   "outputs": [
    {
     "name": "stdout",
     "output_type": "stream",
     "text": [
      "Fitting 5 folds for each of 16 candidates, totalling 80 fits\n",
      "[CV] END ........................................alpha=1e-15; total time=   0.0s\n",
      "[CV] END ........................................alpha=1e-15; total time=   0.0s\n",
      "[CV] END ........................................alpha=1e-15; total time=   0.0s\n",
      "[CV] END ........................................alpha=1e-15; total time=   0.0s\n",
      "[CV] END ........................................alpha=1e-15; total time=   0.0s\n",
      "[CV] END ........................................alpha=1e-10; total time=   0.0s\n",
      "[CV] END ........................................alpha=1e-10; total time=   0.0s\n",
      "[CV] END ........................................alpha=1e-10; total time=   0.0s\n",
      "[CV] END ........................................alpha=1e-10; total time=   0.0s\n",
      "[CV] END ........................................alpha=1e-10; total time=   0.0s\n",
      "[CV] END ........................................alpha=1e-08; total time=   0.0s\n",
      "[CV] END ........................................alpha=1e-08; total time=   0.0s\n",
      "[CV] END ........................................alpha=1e-08; total time=   0.0s\n",
      "[CV] END ........................................alpha=1e-08; total time=   0.0s\n",
      "[CV] END ........................................alpha=1e-08; total time=   0.0s\n",
      "[CV] END ........................................alpha=0.001; total time=   0.0s\n",
      "[CV] END ........................................alpha=0.001; total time=   0.0s\n",
      "[CV] END ........................................alpha=0.001; total time=   0.0s\n",
      "[CV] END ........................................alpha=0.001; total time=   0.0s\n",
      "[CV] END ........................................alpha=0.001; total time=   0.0s\n",
      "[CV] END .........................................alpha=0.01; total time=   0.0s\n",
      "[CV] END .........................................alpha=0.01; total time=   0.0s\n",
      "[CV] END .........................................alpha=0.01; total time=   0.0s\n",
      "[CV] END .........................................alpha=0.01; total time=   0.0s\n",
      "[CV] END .........................................alpha=0.01; total time=   0.0s\n",
      "[CV] END ............................................alpha=1; total time=   0.0s\n",
      "[CV] END ............................................alpha=1; total time=   0.0s\n",
      "[CV] END ............................................alpha=1; total time=   0.0s\n",
      "[CV] END ............................................alpha=1; total time=   0.0s\n",
      "[CV] END ............................................alpha=1; total time=   0.0s\n",
      "[CV] END ............................................alpha=5; total time=   0.0s\n",
      "[CV] END ............................................alpha=5; total time=   0.0s\n",
      "[CV] END ............................................alpha=5; total time=   0.0s\n",
      "[CV] END ............................................alpha=5; total time=   0.0s\n",
      "[CV] END ............................................alpha=5; total time=   0.0s\n",
      "[CV] END ...........................................alpha=10; total time=   0.0s\n",
      "[CV] END ...........................................alpha=10; total time=   0.0s\n",
      "[CV] END ...........................................alpha=10; total time=   0.0s\n",
      "[CV] END ...........................................alpha=10; total time=   0.0s\n",
      "[CV] END ...........................................alpha=10; total time=   0.0s\n",
      "[CV] END ...........................................alpha=20; total time=   0.0s\n",
      "[CV] END ...........................................alpha=20; total time=   0.0s\n",
      "[CV] END ...........................................alpha=20; total time=   0.0s\n",
      "[CV] END ...........................................alpha=20; total time=   0.0s\n",
      "[CV] END ...........................................alpha=20; total time=   0.0s\n",
      "[CV] END ...........................................alpha=30; total time=   0.0s\n",
      "[CV] END ...........................................alpha=30; total time=   0.0s\n",
      "[CV] END ...........................................alpha=30; total time=   0.0s\n",
      "[CV] END ...........................................alpha=30; total time=   0.0s\n",
      "[CV] END ...........................................alpha=30; total time=   0.0s\n",
      "[CV] END ...........................................alpha=35; total time=   0.0s\n",
      "[CV] END ...........................................alpha=35; total time=   0.0s\n",
      "[CV] END ...........................................alpha=35; total time=   0.0s\n",
      "[CV] END ...........................................alpha=35; total time=   0.0s\n",
      "[CV] END ...........................................alpha=35; total time=   0.0s\n",
      "[CV] END ...........................................alpha=40; total time=   0.0s\n",
      "[CV] END ...........................................alpha=40; total time=   0.0s\n",
      "[CV] END ...........................................alpha=40; total time=   0.0s\n",
      "[CV] END ...........................................alpha=40; total time=   0.0s\n",
      "[CV] END ...........................................alpha=40; total time=   0.0s\n",
      "[CV] END ...........................................alpha=45; total time=   0.0s\n",
      "[CV] END ...........................................alpha=45; total time=   0.0s\n",
      "[CV] END ...........................................alpha=45; total time=   0.0s\n",
      "[CV] END ...........................................alpha=45; total time=   0.0s\n",
      "[CV] END ...........................................alpha=45; total time=   0.0s\n",
      "[CV] END ...........................................alpha=50; total time=   0.0s\n",
      "[CV] END ...........................................alpha=50; total time=   0.0s\n",
      "[CV] END ...........................................alpha=50; total time=   0.0s\n",
      "[CV] END ...........................................alpha=50; total time=   0.0s\n",
      "[CV] END ...........................................alpha=50; total time=   0.0s\n",
      "[CV] END ...........................................alpha=55; total time=   0.0s\n",
      "[CV] END ...........................................alpha=55; total time=   0.0s\n",
      "[CV] END ...........................................alpha=55; total time=   0.0s\n",
      "[CV] END ...........................................alpha=55; total time=   0.0s\n",
      "[CV] END ...........................................alpha=55; total time=   0.0s\n",
      "[CV] END ..........................................alpha=100; total time=   0.0s\n",
      "[CV] END ..........................................alpha=100; total time=   0.0s\n",
      "[CV] END ..........................................alpha=100; total time=   0.0s\n",
      "[CV] END ..........................................alpha=100; total time=   0.0s\n",
      "[CV] END ..........................................alpha=100; total time=   0.0s\n"
     ]
    },
    {
     "data": {
      "text/plain": [
       "GridSearchCV(cv=5, estimator=ElasticNet(),\n",
       "             param_grid={'alpha': [1e-15, 1e-10, 1e-08, 0.001, 0.01, 1, 5, 10,\n",
       "                                   20, 30, 35, 40, 45, 50, 55, 100]},\n",
       "             scoring='neg_mean_squared_error', verbose=2)"
      ]
     },
     "execution_count": 75,
     "metadata": {},
     "output_type": "execute_result"
    }
   ],
   "source": [
    "elasticnet_regressor.fit(strat_train_set,y_train)"
   ]
  },
  {
   "cell_type": "code",
   "execution_count": 76,
   "id": "b6fc19c3",
   "metadata": {},
   "outputs": [
    {
     "name": "stdout",
     "output_type": "stream",
     "text": [
      "{'alpha': 0.001}\n",
      "-1.2441280819949128e-09\n"
     ]
    }
   ],
   "source": [
    "print(elasticnet_regressor.best_params_)\n",
    "print(elasticnet_regressor.best_score_)"
   ]
  },
  {
   "cell_type": "code",
   "execution_count": 79,
   "id": "3a8fdb94",
   "metadata": {},
   "outputs": [],
   "source": [
    "predict  =elasticnet_regressor.predict(strat_test_set)"
   ]
  },
  {
   "cell_type": "code",
   "execution_count": 80,
   "id": "f7e57647",
   "metadata": {},
   "outputs": [
    {
     "data": {
      "text/plain": [
       "0.9999999999999993"
      ]
     },
     "execution_count": 80,
     "metadata": {},
     "output_type": "execute_result"
    }
   ],
   "source": [
    "r2_score(y_test, predict)"
   ]
  },
  {
   "cell_type": "code",
   "execution_count": 81,
   "id": "3db3a1db",
   "metadata": {},
   "outputs": [
    {
     "name": "stdout",
     "output_type": "stream",
     "text": [
      "Fitting 5 folds for each of 16 candidates, totalling 80 fits\n"
     ]
    },
    {
     "name": "stderr",
     "output_type": "stream",
     "text": [
      "C:\\Users\\sumit\\anaconda\\lib\\site-packages\\sklearn\\linear_model\\_coordinate_descent.py:647: ConvergenceWarning:\n",
      "\n",
      "Objective did not converge. You might want to increase the number of iterations, check the scale of the features or consider increasing regularisation. Duality gap: 3.447e+09, tolerance: 1.596e+06\n",
      "\n"
     ]
    },
    {
     "name": "stdout",
     "output_type": "stream",
     "text": [
      "[CV] END ........................................alpha=1e-15; total time=   0.7s\n"
     ]
    },
    {
     "name": "stderr",
     "output_type": "stream",
     "text": [
      "C:\\Users\\sumit\\anaconda\\lib\\site-packages\\sklearn\\linear_model\\_coordinate_descent.py:647: ConvergenceWarning:\n",
      "\n",
      "Objective did not converge. You might want to increase the number of iterations, check the scale of the features or consider increasing regularisation. Duality gap: 3.351e+09, tolerance: 1.574e+06\n",
      "\n"
     ]
    },
    {
     "name": "stdout",
     "output_type": "stream",
     "text": [
      "[CV] END ........................................alpha=1e-15; total time=   0.7s\n"
     ]
    },
    {
     "name": "stderr",
     "output_type": "stream",
     "text": [
      "C:\\Users\\sumit\\anaconda\\lib\\site-packages\\sklearn\\linear_model\\_coordinate_descent.py:647: ConvergenceWarning:\n",
      "\n",
      "Objective did not converge. You might want to increase the number of iterations, check the scale of the features or consider increasing regularisation. Duality gap: 3.442e+09, tolerance: 1.608e+06\n",
      "\n"
     ]
    },
    {
     "name": "stdout",
     "output_type": "stream",
     "text": [
      "[CV] END ........................................alpha=1e-15; total time=   0.7s\n"
     ]
    },
    {
     "name": "stderr",
     "output_type": "stream",
     "text": [
      "C:\\Users\\sumit\\anaconda\\lib\\site-packages\\sklearn\\linear_model\\_coordinate_descent.py:647: ConvergenceWarning:\n",
      "\n",
      "Objective did not converge. You might want to increase the number of iterations, check the scale of the features or consider increasing regularisation. Duality gap: 3.446e+09, tolerance: 1.601e+06\n",
      "\n"
     ]
    },
    {
     "name": "stdout",
     "output_type": "stream",
     "text": [
      "[CV] END ........................................alpha=1e-15; total time=   0.7s\n"
     ]
    },
    {
     "name": "stderr",
     "output_type": "stream",
     "text": [
      "C:\\Users\\sumit\\anaconda\\lib\\site-packages\\sklearn\\linear_model\\_coordinate_descent.py:647: ConvergenceWarning:\n",
      "\n",
      "Objective did not converge. You might want to increase the number of iterations, check the scale of the features or consider increasing regularisation. Duality gap: 3.394e+09, tolerance: 1.572e+06\n",
      "\n"
     ]
    },
    {
     "name": "stdout",
     "output_type": "stream",
     "text": [
      "[CV] END ........................................alpha=1e-15; total time=   0.8s\n"
     ]
    },
    {
     "name": "stderr",
     "output_type": "stream",
     "text": [
      "C:\\Users\\sumit\\anaconda\\lib\\site-packages\\sklearn\\linear_model\\_coordinate_descent.py:647: ConvergenceWarning:\n",
      "\n",
      "Objective did not converge. You might want to increase the number of iterations, check the scale of the features or consider increasing regularisation. Duality gap: 3.447e+09, tolerance: 1.596e+06\n",
      "\n"
     ]
    },
    {
     "name": "stdout",
     "output_type": "stream",
     "text": [
      "[CV] END ........................................alpha=1e-10; total time=   0.7s\n"
     ]
    },
    {
     "name": "stderr",
     "output_type": "stream",
     "text": [
      "C:\\Users\\sumit\\anaconda\\lib\\site-packages\\sklearn\\linear_model\\_coordinate_descent.py:647: ConvergenceWarning:\n",
      "\n",
      "Objective did not converge. You might want to increase the number of iterations, check the scale of the features or consider increasing regularisation. Duality gap: 3.348e+09, tolerance: 1.574e+06\n",
      "\n"
     ]
    },
    {
     "name": "stdout",
     "output_type": "stream",
     "text": [
      "[CV] END ........................................alpha=1e-10; total time=   0.7s\n"
     ]
    },
    {
     "name": "stderr",
     "output_type": "stream",
     "text": [
      "C:\\Users\\sumit\\anaconda\\lib\\site-packages\\sklearn\\linear_model\\_coordinate_descent.py:647: ConvergenceWarning:\n",
      "\n",
      "Objective did not converge. You might want to increase the number of iterations, check the scale of the features or consider increasing regularisation. Duality gap: 3.440e+09, tolerance: 1.608e+06\n",
      "\n"
     ]
    },
    {
     "name": "stdout",
     "output_type": "stream",
     "text": [
      "[CV] END ........................................alpha=1e-10; total time=   0.8s\n"
     ]
    },
    {
     "name": "stderr",
     "output_type": "stream",
     "text": [
      "C:\\Users\\sumit\\anaconda\\lib\\site-packages\\sklearn\\linear_model\\_coordinate_descent.py:647: ConvergenceWarning:\n",
      "\n",
      "Objective did not converge. You might want to increase the number of iterations, check the scale of the features or consider increasing regularisation. Duality gap: 3.442e+09, tolerance: 1.601e+06\n",
      "\n"
     ]
    },
    {
     "name": "stdout",
     "output_type": "stream",
     "text": [
      "[CV] END ........................................alpha=1e-10; total time=   0.7s\n"
     ]
    },
    {
     "name": "stderr",
     "output_type": "stream",
     "text": [
      "C:\\Users\\sumit\\anaconda\\lib\\site-packages\\sklearn\\linear_model\\_coordinate_descent.py:647: ConvergenceWarning:\n",
      "\n",
      "Objective did not converge. You might want to increase the number of iterations, check the scale of the features or consider increasing regularisation. Duality gap: 3.395e+09, tolerance: 1.572e+06\n",
      "\n"
     ]
    },
    {
     "name": "stdout",
     "output_type": "stream",
     "text": [
      "[CV] END ........................................alpha=1e-10; total time=   0.7s\n"
     ]
    },
    {
     "name": "stderr",
     "output_type": "stream",
     "text": [
      "C:\\Users\\sumit\\anaconda\\lib\\site-packages\\sklearn\\linear_model\\_coordinate_descent.py:647: ConvergenceWarning:\n",
      "\n",
      "Objective did not converge. You might want to increase the number of iterations, check the scale of the features or consider increasing regularisation. Duality gap: 3.447e+09, tolerance: 1.596e+06\n",
      "\n"
     ]
    },
    {
     "name": "stdout",
     "output_type": "stream",
     "text": [
      "[CV] END ........................................alpha=1e-08; total time=   0.8s\n"
     ]
    },
    {
     "name": "stderr",
     "output_type": "stream",
     "text": [
      "C:\\Users\\sumit\\anaconda\\lib\\site-packages\\sklearn\\linear_model\\_coordinate_descent.py:647: ConvergenceWarning:\n",
      "\n",
      "Objective did not converge. You might want to increase the number of iterations, check the scale of the features or consider increasing regularisation. Duality gap: 3.348e+09, tolerance: 1.574e+06\n",
      "\n"
     ]
    },
    {
     "name": "stdout",
     "output_type": "stream",
     "text": [
      "[CV] END ........................................alpha=1e-08; total time=   0.7s\n"
     ]
    },
    {
     "name": "stderr",
     "output_type": "stream",
     "text": [
      "C:\\Users\\sumit\\anaconda\\lib\\site-packages\\sklearn\\linear_model\\_coordinate_descent.py:647: ConvergenceWarning:\n",
      "\n",
      "Objective did not converge. You might want to increase the number of iterations, check the scale of the features or consider increasing regularisation. Duality gap: 3.440e+09, tolerance: 1.608e+06\n",
      "\n"
     ]
    },
    {
     "name": "stdout",
     "output_type": "stream",
     "text": [
      "[CV] END ........................................alpha=1e-08; total time=   0.7s\n"
     ]
    },
    {
     "name": "stderr",
     "output_type": "stream",
     "text": [
      "C:\\Users\\sumit\\anaconda\\lib\\site-packages\\sklearn\\linear_model\\_coordinate_descent.py:647: ConvergenceWarning:\n",
      "\n",
      "Objective did not converge. You might want to increase the number of iterations, check the scale of the features or consider increasing regularisation. Duality gap: 3.442e+09, tolerance: 1.601e+06\n",
      "\n"
     ]
    },
    {
     "name": "stdout",
     "output_type": "stream",
     "text": [
      "[CV] END ........................................alpha=1e-08; total time=   0.7s\n"
     ]
    },
    {
     "name": "stderr",
     "output_type": "stream",
     "text": [
      "C:\\Users\\sumit\\anaconda\\lib\\site-packages\\sklearn\\linear_model\\_coordinate_descent.py:647: ConvergenceWarning:\n",
      "\n",
      "Objective did not converge. You might want to increase the number of iterations, check the scale of the features or consider increasing regularisation. Duality gap: 3.395e+09, tolerance: 1.572e+06\n",
      "\n"
     ]
    },
    {
     "name": "stdout",
     "output_type": "stream",
     "text": [
      "[CV] END ........................................alpha=1e-08; total time=   0.8s\n"
     ]
    },
    {
     "name": "stderr",
     "output_type": "stream",
     "text": [
      "C:\\Users\\sumit\\anaconda\\lib\\site-packages\\sklearn\\linear_model\\_coordinate_descent.py:647: ConvergenceWarning:\n",
      "\n",
      "Objective did not converge. You might want to increase the number of iterations, check the scale of the features or consider increasing regularisation. Duality gap: 3.431e+09, tolerance: 1.596e+06\n",
      "\n"
     ]
    },
    {
     "name": "stdout",
     "output_type": "stream",
     "text": [
      "[CV] END ........................................alpha=0.001; total time=   0.6s\n"
     ]
    },
    {
     "name": "stderr",
     "output_type": "stream",
     "text": [
      "C:\\Users\\sumit\\anaconda\\lib\\site-packages\\sklearn\\linear_model\\_coordinate_descent.py:647: ConvergenceWarning:\n",
      "\n",
      "Objective did not converge. You might want to increase the number of iterations, check the scale of the features or consider increasing regularisation. Duality gap: 3.332e+09, tolerance: 1.574e+06\n",
      "\n"
     ]
    },
    {
     "name": "stdout",
     "output_type": "stream",
     "text": [
      "[CV] END ........................................alpha=0.001; total time=   0.6s\n"
     ]
    },
    {
     "name": "stderr",
     "output_type": "stream",
     "text": [
      "C:\\Users\\sumit\\anaconda\\lib\\site-packages\\sklearn\\linear_model\\_coordinate_descent.py:647: ConvergenceWarning:\n",
      "\n",
      "Objective did not converge. You might want to increase the number of iterations, check the scale of the features or consider increasing regularisation. Duality gap: 3.423e+09, tolerance: 1.608e+06\n",
      "\n"
     ]
    },
    {
     "name": "stdout",
     "output_type": "stream",
     "text": [
      "[CV] END ........................................alpha=0.001; total time=   0.7s\n"
     ]
    },
    {
     "name": "stderr",
     "output_type": "stream",
     "text": [
      "C:\\Users\\sumit\\anaconda\\lib\\site-packages\\sklearn\\linear_model\\_coordinate_descent.py:647: ConvergenceWarning:\n",
      "\n",
      "Objective did not converge. You might want to increase the number of iterations, check the scale of the features or consider increasing regularisation. Duality gap: 3.424e+09, tolerance: 1.601e+06\n",
      "\n"
     ]
    },
    {
     "name": "stdout",
     "output_type": "stream",
     "text": [
      "[CV] END ........................................alpha=0.001; total time=   0.6s\n"
     ]
    },
    {
     "name": "stderr",
     "output_type": "stream",
     "text": [
      "C:\\Users\\sumit\\anaconda\\lib\\site-packages\\sklearn\\linear_model\\_coordinate_descent.py:647: ConvergenceWarning:\n",
      "\n",
      "Objective did not converge. You might want to increase the number of iterations, check the scale of the features or consider increasing regularisation. Duality gap: 3.378e+09, tolerance: 1.572e+06\n",
      "\n"
     ]
    },
    {
     "name": "stdout",
     "output_type": "stream",
     "text": [
      "[CV] END ........................................alpha=0.001; total time=   0.6s\n"
     ]
    },
    {
     "name": "stderr",
     "output_type": "stream",
     "text": [
      "C:\\Users\\sumit\\anaconda\\lib\\site-packages\\sklearn\\linear_model\\_coordinate_descent.py:647: ConvergenceWarning:\n",
      "\n",
      "Objective did not converge. You might want to increase the number of iterations, check the scale of the features or consider increasing regularisation. Duality gap: 2.288e+08, tolerance: 1.596e+06\n",
      "\n"
     ]
    },
    {
     "name": "stdout",
     "output_type": "stream",
     "text": [
      "[CV] END .........................................alpha=0.01; total time=   0.7s\n"
     ]
    },
    {
     "name": "stderr",
     "output_type": "stream",
     "text": [
      "C:\\Users\\sumit\\anaconda\\lib\\site-packages\\sklearn\\linear_model\\_coordinate_descent.py:647: ConvergenceWarning:\n",
      "\n",
      "Objective did not converge. You might want to increase the number of iterations, check the scale of the features or consider increasing regularisation. Duality gap: 2.282e+08, tolerance: 1.574e+06\n",
      "\n"
     ]
    },
    {
     "name": "stdout",
     "output_type": "stream",
     "text": [
      "[CV] END .........................................alpha=0.01; total time=   0.7s\n"
     ]
    },
    {
     "name": "stderr",
     "output_type": "stream",
     "text": [
      "C:\\Users\\sumit\\anaconda\\lib\\site-packages\\sklearn\\linear_model\\_coordinate_descent.py:647: ConvergenceWarning:\n",
      "\n",
      "Objective did not converge. You might want to increase the number of iterations, check the scale of the features or consider increasing regularisation. Duality gap: 2.386e+08, tolerance: 1.608e+06\n",
      "\n"
     ]
    },
    {
     "name": "stdout",
     "output_type": "stream",
     "text": [
      "[CV] END .........................................alpha=0.01; total time=   0.7s\n"
     ]
    },
    {
     "name": "stderr",
     "output_type": "stream",
     "text": [
      "C:\\Users\\sumit\\anaconda\\lib\\site-packages\\sklearn\\linear_model\\_coordinate_descent.py:647: ConvergenceWarning:\n",
      "\n",
      "Objective did not converge. You might want to increase the number of iterations, check the scale of the features or consider increasing regularisation. Duality gap: 2.365e+08, tolerance: 1.601e+06\n",
      "\n"
     ]
    },
    {
     "name": "stdout",
     "output_type": "stream",
     "text": [
      "[CV] END .........................................alpha=0.01; total time=   0.8s\n"
     ]
    },
    {
     "name": "stderr",
     "output_type": "stream",
     "text": [
      "C:\\Users\\sumit\\anaconda\\lib\\site-packages\\sklearn\\linear_model\\_coordinate_descent.py:647: ConvergenceWarning:\n",
      "\n",
      "Objective did not converge. You might want to increase the number of iterations, check the scale of the features or consider increasing regularisation. Duality gap: 2.075e+08, tolerance: 1.572e+06\n",
      "\n"
     ]
    },
    {
     "name": "stdout",
     "output_type": "stream",
     "text": [
      "[CV] END .........................................alpha=0.01; total time=   0.7s\n",
      "[CV] END ............................................alpha=1; total time=   0.0s\n",
      "[CV] END ............................................alpha=1; total time=   0.0s\n",
      "[CV] END ............................................alpha=1; total time=   0.0s\n",
      "[CV] END ............................................alpha=1; total time=   0.0s\n",
      "[CV] END ............................................alpha=1; total time=   0.0s\n",
      "[CV] END ............................................alpha=5; total time=   0.0s\n",
      "[CV] END ............................................alpha=5; total time=   0.0s\n",
      "[CV] END ............................................alpha=5; total time=   0.0s\n",
      "[CV] END ............................................alpha=5; total time=   0.0s\n",
      "[CV] END ............................................alpha=5; total time=   0.0s\n",
      "[CV] END ...........................................alpha=10; total time=   0.0s\n",
      "[CV] END ...........................................alpha=10; total time=   0.0s\n",
      "[CV] END ...........................................alpha=10; total time=   0.0s\n",
      "[CV] END ...........................................alpha=10; total time=   0.0s\n",
      "[CV] END ...........................................alpha=10; total time=   0.0s\n",
      "[CV] END ...........................................alpha=20; total time=   0.0s\n",
      "[CV] END ...........................................alpha=20; total time=   0.0s\n",
      "[CV] END ...........................................alpha=20; total time=   0.0s\n",
      "[CV] END ...........................................alpha=20; total time=   0.0s\n",
      "[CV] END ...........................................alpha=20; total time=   0.0s\n",
      "[CV] END ...........................................alpha=30; total time=   0.0s\n",
      "[CV] END ...........................................alpha=30; total time=   0.0s\n",
      "[CV] END ...........................................alpha=30; total time=   0.0s\n",
      "[CV] END ...........................................alpha=30; total time=   0.0s\n",
      "[CV] END ...........................................alpha=30; total time=   0.0s\n",
      "[CV] END ...........................................alpha=35; total time=   0.0s\n",
      "[CV] END ...........................................alpha=35; total time=   0.0s\n",
      "[CV] END ...........................................alpha=35; total time=   0.0s\n",
      "[CV] END ...........................................alpha=35; total time=   0.0s\n",
      "[CV] END ...........................................alpha=35; total time=   0.0s\n",
      "[CV] END ...........................................alpha=40; total time=   0.0s\n",
      "[CV] END ...........................................alpha=40; total time=   0.0s\n",
      "[CV] END ...........................................alpha=40; total time=   0.0s\n",
      "[CV] END ...........................................alpha=40; total time=   0.0s\n",
      "[CV] END ...........................................alpha=40; total time=   0.0s\n",
      "[CV] END ...........................................alpha=45; total time=   0.0s\n",
      "[CV] END ...........................................alpha=45; total time=   0.0s\n",
      "[CV] END ...........................................alpha=45; total time=   0.0s\n",
      "[CV] END ...........................................alpha=45; total time=   0.0s\n",
      "[CV] END ...........................................alpha=45; total time=   0.0s\n",
      "[CV] END ...........................................alpha=50; total time=   0.0s\n",
      "[CV] END ...........................................alpha=50; total time=   0.0s\n",
      "[CV] END ...........................................alpha=50; total time=   0.0s\n",
      "[CV] END ...........................................alpha=50; total time=   0.0s\n",
      "[CV] END ...........................................alpha=50; total time=   0.0s\n",
      "[CV] END ...........................................alpha=55; total time=   0.0s\n",
      "[CV] END ...........................................alpha=55; total time=   0.0s\n",
      "[CV] END ...........................................alpha=55; total time=   0.0s\n",
      "[CV] END ...........................................alpha=55; total time=   0.0s\n",
      "[CV] END ...........................................alpha=55; total time=   0.0s\n",
      "[CV] END ..........................................alpha=100; total time=   0.0s\n",
      "[CV] END ..........................................alpha=100; total time=   0.0s\n",
      "[CV] END ..........................................alpha=100; total time=   0.0s\n",
      "[CV] END ..........................................alpha=100; total time=   0.0s\n",
      "[CV] END ..........................................alpha=100; total time=   0.0s\n"
     ]
    },
    {
     "name": "stderr",
     "output_type": "stream",
     "text": [
      "C:\\Users\\sumit\\anaconda\\lib\\site-packages\\sklearn\\linear_model\\_coordinate_descent.py:647: ConvergenceWarning:\n",
      "\n",
      "Objective did not converge. You might want to increase the number of iterations, check the scale of the features or consider increasing regularisation. Duality gap: 2.851e+08, tolerance: 1.988e+06\n",
      "\n"
     ]
    },
    {
     "data": {
      "text/plain": [
       "GridSearchCV(cv=5, estimator=ElasticNet(),\n",
       "             param_grid={'alpha': [1e-15, 1e-10, 1e-08, 0.001, 0.01, 1, 5, 10,\n",
       "                                   20, 30, 35, 40, 45, 50, 55, 100]},\n",
       "             scoring='neg_mean_squared_error', verbose=2)"
      ]
     },
     "execution_count": 81,
     "metadata": {},
     "output_type": "execute_result"
    }
   ],
   "source": [
    "elasticnet_regressor.fit(scaled_train_data,y_train)"
   ]
  },
  {
   "cell_type": "code",
   "execution_count": 83,
   "id": "932d414b",
   "metadata": {},
   "outputs": [],
   "source": [
    "predict = elasticnet_regressor.predict(scaled_train_data)"
   ]
  },
  {
   "cell_type": "code",
   "execution_count": 84,
   "id": "4de0d185",
   "metadata": {},
   "outputs": [
    {
     "data": {
      "text/plain": [
       "0.5681781642392922"
      ]
     },
     "execution_count": 84,
     "metadata": {},
     "output_type": "execute_result"
    }
   ],
   "source": [
    "r2_score(y_train, predict)"
   ]
  },
  {
   "cell_type": "code",
   "execution_count": 85,
   "id": "e19bea3b",
   "metadata": {},
   "outputs": [],
   "source": [
    "predict = elasticnet_regressor.predict(scaled_test_data)"
   ]
  },
  {
   "cell_type": "code",
   "execution_count": 86,
   "id": "3532650e",
   "metadata": {},
   "outputs": [
    {
     "data": {
      "text/plain": [
       "0.542068116682519"
      ]
     },
     "execution_count": 86,
     "metadata": {},
     "output_type": "execute_result"
    }
   ],
   "source": [
    "r2_score(y_test, predict)"
   ]
  },
  {
   "cell_type": "code",
   "execution_count": null,
   "id": "c85e368e",
   "metadata": {},
   "outputs": [],
   "source": []
  },
  {
   "cell_type": "markdown",
   "id": "1fd1eef7",
   "metadata": {},
   "source": [
    "# Random Forest Regressor"
   ]
  },
  {
   "cell_type": "code",
   "execution_count": 87,
   "id": "1f97e237",
   "metadata": {},
   "outputs": [],
   "source": [
    "from sklearn.ensemble import RandomForestRegressor"
   ]
  },
  {
   "cell_type": "code",
   "execution_count": 88,
   "id": "fb7bd3b9",
   "metadata": {},
   "outputs": [],
   "source": [
    "rf_reg = RandomForestRegressor()"
   ]
  },
  {
   "cell_type": "code",
   "execution_count": 89,
   "id": "231a3e4f",
   "metadata": {},
   "outputs": [],
   "source": [
    "from sklearn.model_selection import GridSearchCV\n",
    "rf_reg1 = RandomForestRegressor()"
   ]
  },
  {
   "cell_type": "code",
   "execution_count": 90,
   "id": "4a42c925",
   "metadata": {},
   "outputs": [],
   "source": [
    "parameters = {'ccp_alpha':[1e-3, 1e-2, 1,5,10]}"
   ]
  },
  {
   "cell_type": "code",
   "execution_count": 91,
   "id": "2a5be6af",
   "metadata": {},
   "outputs": [],
   "source": [
    "rf_reg_grid = GridSearchCV(rf_reg1, [{'n_estimators' :[80,150,200]}, {'criterion' : [\"squared_error\"]}, {'max_depth':[4,6,8]},parameters], verbose=2, cv = 5)"
   ]
  },
  {
   "cell_type": "code",
   "execution_count": 92,
   "id": "5a4f757e",
   "metadata": {},
   "outputs": [
    {
     "name": "stdout",
     "output_type": "stream",
     "text": [
      "Fitting 5 folds for each of 12 candidates, totalling 60 fits\n",
      "[CV] END ....................................n_estimators=80; total time=   6.5s\n",
      "[CV] END ....................................n_estimators=80; total time=   6.5s\n",
      "[CV] END ....................................n_estimators=80; total time=   6.5s\n",
      "[CV] END ....................................n_estimators=80; total time=   6.5s\n",
      "[CV] END ....................................n_estimators=80; total time=   6.5s\n",
      "[CV] END ...................................n_estimators=150; total time=  12.4s\n",
      "[CV] END ...................................n_estimators=150; total time=  12.4s\n",
      "[CV] END ...................................n_estimators=150; total time=  12.3s\n",
      "[CV] END ...................................n_estimators=150; total time=  12.2s\n",
      "[CV] END ...................................n_estimators=150; total time=  12.4s\n",
      "[CV] END ...................................n_estimators=200; total time=  16.5s\n",
      "[CV] END ...................................n_estimators=200; total time=  16.3s\n",
      "[CV] END ...................................n_estimators=200; total time=  16.3s\n",
      "[CV] END ...................................n_estimators=200; total time=  16.2s\n",
      "[CV] END ...................................n_estimators=200; total time=  16.2s\n",
      "[CV] END ............................criterion=squared_error; total time=   8.0s\n",
      "[CV] END ............................criterion=squared_error; total time=   8.1s\n",
      "[CV] END ............................criterion=squared_error; total time=   8.1s\n",
      "[CV] END ............................criterion=squared_error; total time=   8.0s\n",
      "[CV] END ............................criterion=squared_error; total time=   8.0s\n",
      "[CV] END ........................................max_depth=4; total time=   2.8s\n",
      "[CV] END ........................................max_depth=4; total time=   2.7s\n",
      "[CV] END ........................................max_depth=4; total time=   2.7s\n",
      "[CV] END ........................................max_depth=4; total time=   2.7s\n",
      "[CV] END ........................................max_depth=4; total time=   2.7s\n",
      "[CV] END ........................................max_depth=6; total time=   3.8s\n",
      "[CV] END ........................................max_depth=6; total time=   3.9s\n",
      "[CV] END ........................................max_depth=6; total time=   3.8s\n",
      "[CV] END ........................................max_depth=6; total time=   3.9s\n",
      "[CV] END ........................................max_depth=6; total time=   3.8s\n",
      "[CV] END ........................................max_depth=8; total time=   5.1s\n",
      "[CV] END ........................................max_depth=8; total time=   5.1s\n",
      "[CV] END ........................................max_depth=8; total time=   5.1s\n",
      "[CV] END ........................................max_depth=8; total time=   5.0s\n",
      "[CV] END ........................................max_depth=8; total time=   4.9s\n",
      "[CV] END ....................................ccp_alpha=0.001; total time=  10.3s\n",
      "[CV] END ....................................ccp_alpha=0.001; total time=  10.1s\n",
      "[CV] END ....................................ccp_alpha=0.001; total time=  10.0s\n",
      "[CV] END ....................................ccp_alpha=0.001; total time=  10.0s\n",
      "[CV] END ....................................ccp_alpha=0.001; total time=  10.2s\n",
      "[CV] END .....................................ccp_alpha=0.01; total time=  11.0s\n",
      "[CV] END .....................................ccp_alpha=0.01; total time=  10.8s\n",
      "[CV] END .....................................ccp_alpha=0.01; total time=  11.0s\n",
      "[CV] END .....................................ccp_alpha=0.01; total time=  10.7s\n",
      "[CV] END .....................................ccp_alpha=0.01; total time=  10.7s\n",
      "[CV] END ........................................ccp_alpha=1; total time=  11.5s\n",
      "[CV] END ........................................ccp_alpha=1; total time=  11.6s\n",
      "[CV] END ........................................ccp_alpha=1; total time=  11.4s\n",
      "[CV] END ........................................ccp_alpha=1; total time=  11.9s\n",
      "[CV] END ........................................ccp_alpha=1; total time=  11.6s\n",
      "[CV] END ........................................ccp_alpha=5; total time=  11.6s\n",
      "[CV] END ........................................ccp_alpha=5; total time=  11.7s\n",
      "[CV] END ........................................ccp_alpha=5; total time=  11.7s\n",
      "[CV] END ........................................ccp_alpha=5; total time=  11.8s\n",
      "[CV] END ........................................ccp_alpha=5; total time=  11.5s\n",
      "[CV] END .......................................ccp_alpha=10; total time=  11.6s\n",
      "[CV] END .......................................ccp_alpha=10; total time=  11.7s\n",
      "[CV] END .......................................ccp_alpha=10; total time=  11.5s\n",
      "[CV] END .......................................ccp_alpha=10; total time=  11.6s\n",
      "[CV] END .......................................ccp_alpha=10; total time=  12.0s\n"
     ]
    },
    {
     "data": {
      "text/plain": [
       "GridSearchCV(cv=5, estimator=RandomForestRegressor(),\n",
       "             param_grid=[{'n_estimators': [80, 150, 200]},\n",
       "                         {'criterion': ['squared_error']},\n",
       "                         {'max_depth': [4, 6, 8]},\n",
       "                         {'ccp_alpha': [0.001, 0.01, 1, 5, 10]}],\n",
       "             verbose=2)"
      ]
     },
     "execution_count": 92,
     "metadata": {},
     "output_type": "execute_result"
    }
   ],
   "source": [
    "rf_reg_grid.fit(strat_train_set, y_train)"
   ]
  },
  {
   "cell_type": "code",
   "execution_count": 93,
   "id": "6fc3b12e",
   "metadata": {},
   "outputs": [
    {
     "data": {
      "text/plain": [
       "{'ccp_alpha': 0.01}"
      ]
     },
     "execution_count": 93,
     "metadata": {},
     "output_type": "execute_result"
    }
   ],
   "source": [
    "rf_reg_grid.best_params_"
   ]
  },
  {
   "cell_type": "code",
   "execution_count": 94,
   "id": "2c34be42",
   "metadata": {},
   "outputs": [],
   "source": [
    "rf_reg_grid_train_predict = rf_reg_grid.predict(strat_train_set)\n",
    "rf_reg_grid_test_predict = rf_reg_grid.predict(strat_test_set)"
   ]
  },
  {
   "cell_type": "code",
   "execution_count": 95,
   "id": "a7693446",
   "metadata": {},
   "outputs": [
    {
     "data": {
      "text/plain": [
       "0.9999745015503824"
      ]
     },
     "execution_count": 95,
     "metadata": {},
     "output_type": "execute_result"
    }
   ],
   "source": [
    "r2_score(y_train, rf_reg_grid_train_predict)"
   ]
  },
  {
   "cell_type": "code",
   "execution_count": 96,
   "id": "2f7b0fab",
   "metadata": {},
   "outputs": [
    {
     "data": {
      "text/plain": [
       "0.9999810600943423"
      ]
     },
     "execution_count": 96,
     "metadata": {},
     "output_type": "execute_result"
    }
   ],
   "source": [
    "r2_score(y_test, rf_reg_grid_test_predict)"
   ]
  },
  {
   "cell_type": "code",
   "execution_count": null,
   "id": "ce5f659f",
   "metadata": {},
   "outputs": [],
   "source": []
  },
  {
   "cell_type": "markdown",
   "id": "976440d4",
   "metadata": {},
   "source": [
    "on scaled data"
   ]
  },
  {
   "cell_type": "code",
   "execution_count": 122,
   "id": "1c44ed02",
   "metadata": {},
   "outputs": [
    {
     "name": "stdout",
     "output_type": "stream",
     "text": [
      "Fitting 5 folds for each of 12 candidates, totalling 60 fits\n",
      "[CV] END ....................................n_estimators=80; total time=   6.9s\n",
      "[CV] END ....................................n_estimators=80; total time=   6.8s\n",
      "[CV] END ....................................n_estimators=80; total time=   6.7s\n",
      "[CV] END ....................................n_estimators=80; total time=   6.8s\n",
      "[CV] END ....................................n_estimators=80; total time=   6.8s\n",
      "[CV] END ...................................n_estimators=150; total time=  12.8s\n",
      "[CV] END ...................................n_estimators=150; total time=  12.9s\n",
      "[CV] END ...................................n_estimators=150; total time=  12.9s\n",
      "[CV] END ...................................n_estimators=150; total time=  13.0s\n",
      "[CV] END ...................................n_estimators=150; total time=  12.9s\n",
      "[CV] END ...................................n_estimators=200; total time=  17.3s\n",
      "[CV] END ...................................n_estimators=200; total time=  17.1s\n",
      "[CV] END ...................................n_estimators=200; total time=  17.4s\n",
      "[CV] END ...................................n_estimators=200; total time=  17.1s\n",
      "[CV] END ...................................n_estimators=200; total time=  17.5s\n",
      "[CV] END ............................criterion=squared_error; total time=   8.4s\n",
      "[CV] END ............................criterion=squared_error; total time=   8.5s\n",
      "[CV] END ............................criterion=squared_error; total time=   8.4s\n",
      "[CV] END ............................criterion=squared_error; total time=   8.6s\n",
      "[CV] END ............................criterion=squared_error; total time=   8.6s\n",
      "[CV] END ........................................max_depth=4; total time=   2.3s\n",
      "[CV] END ........................................max_depth=4; total time=   2.3s\n",
      "[CV] END ........................................max_depth=4; total time=   2.3s\n",
      "[CV] END ........................................max_depth=4; total time=   2.3s\n",
      "[CV] END ........................................max_depth=4; total time=   2.3s\n",
      "[CV] END ........................................max_depth=6; total time=   3.2s\n",
      "[CV] END ........................................max_depth=6; total time=   3.2s\n",
      "[CV] END ........................................max_depth=6; total time=   3.2s\n",
      "[CV] END ........................................max_depth=6; total time=   3.1s\n",
      "[CV] END ........................................max_depth=6; total time=   3.1s\n",
      "[CV] END ........................................max_depth=8; total time=   4.1s\n",
      "[CV] END ........................................max_depth=8; total time=   4.3s\n",
      "[CV] END ........................................max_depth=8; total time=   4.4s\n",
      "[CV] END ........................................max_depth=8; total time=   4.0s\n",
      "[CV] END ........................................max_depth=8; total time=   4.0s\n",
      "[CV] END ....................................ccp_alpha=0.001; total time=   9.1s\n",
      "[CV] END ....................................ccp_alpha=0.001; total time=   9.2s\n",
      "[CV] END ....................................ccp_alpha=0.001; total time=   9.1s\n",
      "[CV] END ....................................ccp_alpha=0.001; total time=   9.2s\n",
      "[CV] END ....................................ccp_alpha=0.001; total time=   9.2s\n",
      "[CV] END .....................................ccp_alpha=0.01; total time=   9.5s\n",
      "[CV] END .....................................ccp_alpha=0.01; total time=   9.3s\n",
      "[CV] END .....................................ccp_alpha=0.01; total time=   9.5s\n",
      "[CV] END .....................................ccp_alpha=0.01; total time=   9.4s\n",
      "[CV] END .....................................ccp_alpha=0.01; total time=   9.4s\n",
      "[CV] END ........................................ccp_alpha=1; total time=   7.5s\n",
      "[CV] END ........................................ccp_alpha=1; total time=   6.4s\n",
      "[CV] END ........................................ccp_alpha=1; total time=   4.1s\n",
      "[CV] END ........................................ccp_alpha=1; total time=   2.8s\n",
      "[CV] END ........................................ccp_alpha=1; total time=   3.2s\n",
      "[CV] END ........................................ccp_alpha=5; total time=   2.9s\n",
      "[CV] END ........................................ccp_alpha=5; total time=   3.0s\n",
      "[CV] END ........................................ccp_alpha=5; total time=   3.1s\n",
      "[CV] END ........................................ccp_alpha=5; total time=   2.9s\n",
      "[CV] END ........................................ccp_alpha=5; total time=   3.0s\n",
      "[CV] END .......................................ccp_alpha=10; total time=   3.0s\n",
      "[CV] END .......................................ccp_alpha=10; total time=   3.1s\n",
      "[CV] END .......................................ccp_alpha=10; total time=   3.2s\n",
      "[CV] END .......................................ccp_alpha=10; total time=   3.2s\n",
      "[CV] END .......................................ccp_alpha=10; total time=   3.1s\n"
     ]
    },
    {
     "data": {
      "text/plain": [
       "GridSearchCV(cv=5, estimator=RandomForestRegressor(),\n",
       "             param_grid=[{'n_estimators': [80, 150, 200]},\n",
       "                         {'criterion': ['squared_error']},\n",
       "                         {'max_depth': [4, 6, 8]},\n",
       "                         {'ccp_alpha': [0.001, 0.01, 1, 5, 10]}],\n",
       "             verbose=2)"
      ]
     },
     "execution_count": 122,
     "metadata": {},
     "output_type": "execute_result"
    }
   ],
   "source": [
    "rf_reg_grid.fit(scaled_train_data, y_train)"
   ]
  },
  {
   "cell_type": "code",
   "execution_count": 124,
   "id": "3ba3a4ef",
   "metadata": {},
   "outputs": [],
   "source": [
    "rf_reg_grid_train_predict = rf_reg_grid.predict(scaled_train_data)\n",
    "rf_reg_grid_test_predict = rf_reg_grid.predict(scaled_test_data)"
   ]
  },
  {
   "cell_type": "code",
   "execution_count": 125,
   "id": "d85eb24b",
   "metadata": {},
   "outputs": [
    {
     "data": {
      "text/plain": [
       "0.6396551283732979"
      ]
     },
     "execution_count": 125,
     "metadata": {},
     "output_type": "execute_result"
    }
   ],
   "source": [
    "r2_score(y_train, rf_reg_grid_train_predict)"
   ]
  },
  {
   "cell_type": "code",
   "execution_count": 126,
   "id": "9a03cadc",
   "metadata": {},
   "outputs": [
    {
     "data": {
      "text/plain": [
       "0.5799802035665379"
      ]
     },
     "execution_count": 126,
     "metadata": {},
     "output_type": "execute_result"
    }
   ],
   "source": [
    "r2_score(y_test, rf_reg_grid_test_predict)"
   ]
  },
  {
   "cell_type": "markdown",
   "id": "21c7a303",
   "metadata": {},
   "source": [
    "# Decision Tree Regressor "
   ]
  },
  {
   "cell_type": "code",
   "execution_count": 127,
   "id": "337764fb",
   "metadata": {},
   "outputs": [],
   "source": [
    "from sklearn.tree import DecisionTreeRegressor"
   ]
  },
  {
   "cell_type": "code",
   "execution_count": 130,
   "id": "1dfbddb8",
   "metadata": {},
   "outputs": [],
   "source": [
    "dt_reg = DecisionTreeRegressor()"
   ]
  },
  {
   "cell_type": "code",
   "execution_count": 131,
   "id": "36b93f71",
   "metadata": {},
   "outputs": [
    {
     "data": {
      "text/plain": [
       "DecisionTreeRegressor()"
      ]
     },
     "execution_count": 131,
     "metadata": {},
     "output_type": "execute_result"
    }
   ],
   "source": [
    "dt_reg.fit(scaled_train_data,y_train)"
   ]
  },
  {
   "cell_type": "code",
   "execution_count": 132,
   "id": "54af5d88",
   "metadata": {},
   "outputs": [],
   "source": [
    "dt_pred = dt_reg.predict(scaled_test_data)"
   ]
  },
  {
   "cell_type": "code",
   "execution_count": 133,
   "id": "f9a012a9",
   "metadata": {},
   "outputs": [
    {
     "data": {
      "text/plain": [
       "0.1640228309698607"
      ]
     },
     "execution_count": 133,
     "metadata": {},
     "output_type": "execute_result"
    }
   ],
   "source": [
    "r2_score(y_test, dt_pred)"
   ]
  },
  {
   "cell_type": "code",
   "execution_count": 134,
   "id": "b5e0666f",
   "metadata": {},
   "outputs": [],
   "source": [
    "dt_pred = dt_reg.predict(scaled_train_data)"
   ]
  },
  {
   "cell_type": "code",
   "execution_count": 135,
   "id": "1c0304b1",
   "metadata": {},
   "outputs": [
    {
     "data": {
      "text/plain": [
       "1.0"
      ]
     },
     "execution_count": 135,
     "metadata": {},
     "output_type": "execute_result"
    }
   ],
   "source": [
    "r2_score(y_train, dt_pred)"
   ]
  },
  {
   "cell_type": "code",
   "execution_count": 136,
   "id": "598f7cca",
   "metadata": {},
   "outputs": [
    {
     "data": {
      "text/plain": [
       "DecisionTreeRegressor()"
      ]
     },
     "execution_count": 136,
     "metadata": {},
     "output_type": "execute_result"
    }
   ],
   "source": [
    "dt_reg.fit(strat_train_set, y_train)"
   ]
  },
  {
   "cell_type": "code",
   "execution_count": 139,
   "id": "37f878c8",
   "metadata": {},
   "outputs": [],
   "source": [
    "dt_pred = dt_reg.predict(strat_train_set)"
   ]
  },
  {
   "cell_type": "code",
   "execution_count": 140,
   "id": "e8c82f41",
   "metadata": {},
   "outputs": [
    {
     "data": {
      "text/plain": [
       "1.0"
      ]
     },
     "execution_count": 140,
     "metadata": {},
     "output_type": "execute_result"
    }
   ],
   "source": [
    "r2_score(y_train, dt_pred)"
   ]
  },
  {
   "cell_type": "code",
   "execution_count": 141,
   "id": "090d1843",
   "metadata": {},
   "outputs": [],
   "source": [
    "dt_pred = dt_reg.predict(strat_test_set)"
   ]
  },
  {
   "cell_type": "code",
   "execution_count": 142,
   "id": "799eed22",
   "metadata": {},
   "outputs": [
    {
     "data": {
      "text/plain": [
       "0.9999719452423433"
      ]
     },
     "execution_count": 142,
     "metadata": {},
     "output_type": "execute_result"
    }
   ],
   "source": [
    "r2_score(y_test, dt_pred)"
   ]
  },
  {
   "cell_type": "code",
   "execution_count": null,
   "id": "711ec929",
   "metadata": {},
   "outputs": [],
   "source": []
  },
  {
   "cell_type": "markdown",
   "id": "21de31a9",
   "metadata": {},
   "source": [
    "# KNN "
   ]
  },
  {
   "cell_type": "code",
   "execution_count": 123,
   "id": "db2f0727",
   "metadata": {},
   "outputs": [],
   "source": [
    "from sklearn.neighbors import KNeighborsRegressor"
   ]
  },
  {
   "cell_type": "code",
   "execution_count": 80,
   "id": "ffb85e4a",
   "metadata": {},
   "outputs": [],
   "source": [
    "kn_reg = KNeighborsRegressor()"
   ]
  },
  {
   "cell_type": "code",
   "execution_count": 86,
   "id": "ff8fb07c",
   "metadata": {},
   "outputs": [],
   "source": [
    "parameters = [{'n_neighbors':[2,3,4,6,8,10,12]}, {'weights' : ['uniform', 'distance']}, {'algorithm' : ['auto', 'ball_tree', 'kd_tree', 'brute']}, {'leaf_size':[10,20,30,40,50]}]"
   ]
  },
  {
   "cell_type": "code",
   "execution_count": 87,
   "id": "876d8322",
   "metadata": {},
   "outputs": [],
   "source": [
    "kn_reg_grid = GridSearchCV(kn_reg, parameters, verbose=2)"
   ]
  },
  {
   "cell_type": "code",
   "execution_count": 88,
   "id": "58a53bb8",
   "metadata": {},
   "outputs": [
    {
     "name": "stdout",
     "output_type": "stream",
     "text": [
      "Fitting 5 folds for each of 18 candidates, totalling 90 fits\n",
      "[CV] END ......................................n_neighbors=2; total time=   0.2s\n",
      "[CV] END ......................................n_neighbors=2; total time=   0.2s\n",
      "[CV] END ......................................n_neighbors=2; total time=   0.2s\n",
      "[CV] END ......................................n_neighbors=2; total time=   0.2s\n",
      "[CV] END ......................................n_neighbors=2; total time=   0.2s\n",
      "[CV] END ......................................n_neighbors=3; total time=   0.2s\n",
      "[CV] END ......................................n_neighbors=3; total time=   0.2s\n",
      "[CV] END ......................................n_neighbors=3; total time=   0.2s\n",
      "[CV] END ......................................n_neighbors=3; total time=   0.3s\n",
      "[CV] END ......................................n_neighbors=3; total time=   0.2s\n",
      "[CV] END ......................................n_neighbors=4; total time=   0.4s\n",
      "[CV] END ......................................n_neighbors=4; total time=   0.4s\n",
      "[CV] END ......................................n_neighbors=4; total time=   0.4s\n",
      "[CV] END ......................................n_neighbors=4; total time=   0.4s\n",
      "[CV] END ......................................n_neighbors=4; total time=   0.4s\n",
      "[CV] END ......................................n_neighbors=6; total time=   0.4s\n",
      "[CV] END ......................................n_neighbors=6; total time=   0.4s\n",
      "[CV] END ......................................n_neighbors=6; total time=   0.3s\n",
      "[CV] END ......................................n_neighbors=6; total time=   0.3s\n",
      "[CV] END ......................................n_neighbors=6; total time=   0.3s\n",
      "[CV] END ......................................n_neighbors=8; total time=   0.3s\n",
      "[CV] END ......................................n_neighbors=8; total time=   0.3s\n",
      "[CV] END ......................................n_neighbors=8; total time=   0.3s\n",
      "[CV] END ......................................n_neighbors=8; total time=   0.4s\n",
      "[CV] END ......................................n_neighbors=8; total time=   0.3s\n",
      "[CV] END .....................................n_neighbors=10; total time=   0.3s\n",
      "[CV] END .....................................n_neighbors=10; total time=   0.4s\n",
      "[CV] END .....................................n_neighbors=10; total time=   0.4s\n",
      "[CV] END .....................................n_neighbors=10; total time=   0.4s\n",
      "[CV] END .....................................n_neighbors=10; total time=   0.4s\n",
      "[CV] END .....................................n_neighbors=12; total time=   0.4s\n",
      "[CV] END .....................................n_neighbors=12; total time=   0.4s\n",
      "[CV] END .....................................n_neighbors=12; total time=   0.4s\n",
      "[CV] END .....................................n_neighbors=12; total time=   0.4s\n",
      "[CV] END .....................................n_neighbors=12; total time=   0.3s\n",
      "[CV] END ....................................weights=uniform; total time=   0.3s\n",
      "[CV] END ....................................weights=uniform; total time=   0.4s\n",
      "[CV] END ....................................weights=uniform; total time=   0.4s\n",
      "[CV] END ....................................weights=uniform; total time=   0.4s\n",
      "[CV] END ....................................weights=uniform; total time=   0.3s\n",
      "[CV] END ...................................weights=distance; total time=   0.3s\n",
      "[CV] END ...................................weights=distance; total time=   0.4s\n",
      "[CV] END ...................................weights=distance; total time=   0.4s\n",
      "[CV] END ...................................weights=distance; total time=   0.4s\n",
      "[CV] END ...................................weights=distance; total time=   0.3s\n",
      "[CV] END .....................................algorithm=auto; total time=   0.4s\n",
      "[CV] END .....................................algorithm=auto; total time=   0.4s\n",
      "[CV] END .....................................algorithm=auto; total time=   0.4s\n",
      "[CV] END .....................................algorithm=auto; total time=   0.4s\n",
      "[CV] END .....................................algorithm=auto; total time=   0.3s\n",
      "[CV] END ................................algorithm=ball_tree; total time=   1.0s\n",
      "[CV] END ................................algorithm=ball_tree; total time=   0.9s\n",
      "[CV] END ................................algorithm=ball_tree; total time=   0.9s\n",
      "[CV] END ................................algorithm=ball_tree; total time=   0.9s\n",
      "[CV] END ................................algorithm=ball_tree; total time=   0.9s\n",
      "[CV] END ..................................algorithm=kd_tree; total time=   1.3s\n",
      "[CV] END ..................................algorithm=kd_tree; total time=   1.3s\n",
      "[CV] END ..................................algorithm=kd_tree; total time=   1.3s\n",
      "[CV] END ..................................algorithm=kd_tree; total time=   1.3s\n",
      "[CV] END ..................................algorithm=kd_tree; total time=   1.2s\n",
      "[CV] END ....................................algorithm=brute; total time=   0.3s\n",
      "[CV] END ....................................algorithm=brute; total time=   0.4s\n",
      "[CV] END ....................................algorithm=brute; total time=   0.4s\n",
      "[CV] END ....................................algorithm=brute; total time=   0.4s\n",
      "[CV] END ....................................algorithm=brute; total time=   0.3s\n",
      "[CV] END .......................................leaf_size=10; total time=   0.3s\n",
      "[CV] END .......................................leaf_size=10; total time=   0.4s\n",
      "[CV] END .......................................leaf_size=10; total time=   0.5s\n",
      "[CV] END .......................................leaf_size=10; total time=   0.4s\n",
      "[CV] END .......................................leaf_size=10; total time=   0.3s\n",
      "[CV] END .......................................leaf_size=20; total time=   0.3s\n",
      "[CV] END .......................................leaf_size=20; total time=   0.4s\n",
      "[CV] END .......................................leaf_size=20; total time=   0.4s\n",
      "[CV] END .......................................leaf_size=20; total time=   0.4s\n",
      "[CV] END .......................................leaf_size=20; total time=   0.4s\n",
      "[CV] END .......................................leaf_size=30; total time=   0.3s\n",
      "[CV] END .......................................leaf_size=30; total time=   0.4s\n",
      "[CV] END .......................................leaf_size=30; total time=   0.4s\n",
      "[CV] END .......................................leaf_size=30; total time=   0.4s\n",
      "[CV] END .......................................leaf_size=30; total time=   0.3s\n",
      "[CV] END .......................................leaf_size=40; total time=   0.4s\n",
      "[CV] END .......................................leaf_size=40; total time=   0.4s\n",
      "[CV] END .......................................leaf_size=40; total time=   0.4s\n",
      "[CV] END .......................................leaf_size=40; total time=   0.4s\n",
      "[CV] END .......................................leaf_size=40; total time=   0.3s\n",
      "[CV] END .......................................leaf_size=50; total time=   0.4s\n",
      "[CV] END .......................................leaf_size=50; total time=   0.4s\n",
      "[CV] END .......................................leaf_size=50; total time=   0.4s\n",
      "[CV] END .......................................leaf_size=50; total time=   0.4s\n",
      "[CV] END .......................................leaf_size=50; total time=   0.3s\n"
     ]
    },
    {
     "data": {
      "text/plain": [
       "GridSearchCV(estimator=KNeighborsRegressor(),\n",
       "             param_grid=[{'n_neighbors': [2, 3, 4, 6, 8, 10, 12]},\n",
       "                         {'weights': ['uniform', 'distance']},\n",
       "                         {'algorithm': ['auto', 'ball_tree', 'kd_tree',\n",
       "                                        'brute']},\n",
       "                         {'leaf_size': [10, 20, 30, 40, 50]}],\n",
       "             verbose=2)"
      ]
     },
     "execution_count": 88,
     "metadata": {},
     "output_type": "execute_result"
    }
   ],
   "source": [
    "kn_reg_grid.fit(scaled_train_data, y_train)"
   ]
  },
  {
   "cell_type": "code",
   "execution_count": 89,
   "id": "7ed05fcc",
   "metadata": {},
   "outputs": [],
   "source": [
    "kn_reg_grid_pred = kn_reg_grid.predict(scaled_test_data)"
   ]
  },
  {
   "cell_type": "code",
   "execution_count": 90,
   "id": "be450962",
   "metadata": {},
   "outputs": [
    {
     "data": {
      "text/plain": [
       "0.4452056111002066"
      ]
     },
     "execution_count": 90,
     "metadata": {},
     "output_type": "execute_result"
    }
   ],
   "source": [
    "r2_score(y_test, kn_reg_grid_pred)"
   ]
  },
  {
   "cell_type": "code",
   "execution_count": 91,
   "id": "5c1e8a85",
   "metadata": {},
   "outputs": [],
   "source": [
    "kn_reg_grid_pred2 = kn_reg_grid.predict(scaled_train_data)"
   ]
  },
  {
   "cell_type": "code",
   "execution_count": 92,
   "id": "8ec70c1a",
   "metadata": {},
   "outputs": [
    {
     "data": {
      "text/plain": [
       "0.644373032523067"
      ]
     },
     "execution_count": 92,
     "metadata": {},
     "output_type": "execute_result"
    }
   ],
   "source": [
    "r2_score(y_train, kn_reg_grid_pred2)"
   ]
  },
  {
   "cell_type": "markdown",
   "id": "78f5076f",
   "metadata": {},
   "source": [
    "# SVR "
   ]
  },
  {
   "cell_type": "code",
   "execution_count": 93,
   "id": "f0a37f1c",
   "metadata": {},
   "outputs": [],
   "source": [
    "from sklearn.svm import SVR"
   ]
  },
  {
   "cell_type": "code",
   "execution_count": 94,
   "id": "c71b5cd3",
   "metadata": {},
   "outputs": [],
   "source": [
    "svr = SVR()"
   ]
  },
  {
   "cell_type": "code",
   "execution_count": 95,
   "id": "35741c07",
   "metadata": {},
   "outputs": [
    {
     "data": {
      "text/plain": [
       "SVR()"
      ]
     },
     "execution_count": 95,
     "metadata": {},
     "output_type": "execute_result"
    }
   ],
   "source": [
    "svr"
   ]
  },
  {
   "cell_type": "code",
   "execution_count": 100,
   "id": "4a9066f4",
   "metadata": {},
   "outputs": [],
   "source": [
    "parameters = [{'kernel' : ['linear', 'poly', 'rbf']}, {'degree':[1,2,3,4,5]}, {'coef0':[1e-15, 1e-10, 1e-3, 1e-2, 1,5,10,20,30]}]"
   ]
  },
  {
   "cell_type": "code",
   "execution_count": 101,
   "id": "46409d7c",
   "metadata": {},
   "outputs": [],
   "source": [
    "svr_grid = GridSearchCV(svr, parameters, verbose=2, cv=5)"
   ]
  },
  {
   "cell_type": "code",
   "execution_count": 116,
   "id": "2fc81b2b",
   "metadata": {},
   "outputs": [
    {
     "name": "stdout",
     "output_type": "stream",
     "text": [
      "Fitting 5 folds for each of 17 candidates, totalling 85 fits\n",
      "[CV] END ......................................kernel=linear; total time=   4.9s\n",
      "[CV] END ......................................kernel=linear; total time=   4.9s\n",
      "[CV] END ......................................kernel=linear; total time=   4.9s\n",
      "[CV] END ......................................kernel=linear; total time=   4.9s\n",
      "[CV] END ......................................kernel=linear; total time=   4.8s\n",
      "[CV] END ........................................kernel=poly; total time=   5.4s\n",
      "[CV] END ........................................kernel=poly; total time=   5.5s\n",
      "[CV] END ........................................kernel=poly; total time=   5.4s\n",
      "[CV] END ........................................kernel=poly; total time=   5.3s\n",
      "[CV] END ........................................kernel=poly; total time=   5.4s\n",
      "[CV] END .........................................kernel=rbf; total time=   8.6s\n",
      "[CV] END .........................................kernel=rbf; total time=   8.6s\n",
      "[CV] END .........................................kernel=rbf; total time=   8.7s\n",
      "[CV] END .........................................kernel=rbf; total time=   8.7s\n",
      "[CV] END .........................................kernel=rbf; total time=   8.6s\n",
      "[CV] END ...........................................degree=1; total time=   8.6s\n",
      "[CV] END ...........................................degree=1; total time=   8.7s\n",
      "[CV] END ...........................................degree=1; total time=   8.7s\n",
      "[CV] END ...........................................degree=1; total time=   8.6s\n",
      "[CV] END ...........................................degree=1; total time=   8.6s\n",
      "[CV] END ...........................................degree=2; total time=   8.6s\n",
      "[CV] END ...........................................degree=2; total time=   8.6s\n",
      "[CV] END ...........................................degree=2; total time=   8.6s\n",
      "[CV] END ...........................................degree=2; total time=   9.0s\n",
      "[CV] END ...........................................degree=2; total time=   8.6s\n",
      "[CV] END ...........................................degree=3; total time=   8.5s\n",
      "[CV] END ...........................................degree=3; total time=   8.6s\n",
      "[CV] END ...........................................degree=3; total time=   8.6s\n",
      "[CV] END ...........................................degree=3; total time=   8.7s\n",
      "[CV] END ...........................................degree=3; total time=   8.6s\n",
      "[CV] END ...........................................degree=4; total time=   8.7s\n",
      "[CV] END ...........................................degree=4; total time=   8.7s\n",
      "[CV] END ...........................................degree=4; total time=   8.6s\n",
      "[CV] END ...........................................degree=4; total time=   8.6s\n",
      "[CV] END ...........................................degree=4; total time=   8.7s\n",
      "[CV] END ...........................................degree=5; total time=   8.6s\n",
      "[CV] END ...........................................degree=5; total time=   8.7s\n",
      "[CV] END ...........................................degree=5; total time=   8.7s\n",
      "[CV] END ...........................................degree=5; total time=   8.6s\n",
      "[CV] END ...........................................degree=5; total time=   8.7s\n",
      "[CV] END ........................................coef0=1e-15; total time=   8.6s\n",
      "[CV] END ........................................coef0=1e-15; total time=   8.7s\n",
      "[CV] END ........................................coef0=1e-15; total time=   8.7s\n",
      "[CV] END ........................................coef0=1e-15; total time=   8.7s\n",
      "[CV] END ........................................coef0=1e-15; total time=   8.6s\n",
      "[CV] END ........................................coef0=1e-10; total time=   8.7s\n",
      "[CV] END ........................................coef0=1e-10; total time=   8.9s\n",
      "[CV] END ........................................coef0=1e-10; total time=   8.6s\n",
      "[CV] END ........................................coef0=1e-10; total time=   8.6s\n",
      "[CV] END ........................................coef0=1e-10; total time=   8.6s\n",
      "[CV] END ........................................coef0=0.001; total time=   8.6s\n",
      "[CV] END ........................................coef0=0.001; total time=   8.7s\n",
      "[CV] END ........................................coef0=0.001; total time=   9.3s\n",
      "[CV] END ........................................coef0=0.001; total time=   9.2s\n",
      "[CV] END ........................................coef0=0.001; total time=   8.7s\n",
      "[CV] END .........................................coef0=0.01; total time=   8.6s\n",
      "[CV] END .........................................coef0=0.01; total time=   8.6s\n",
      "[CV] END .........................................coef0=0.01; total time=   8.6s\n",
      "[CV] END .........................................coef0=0.01; total time=   8.6s\n",
      "[CV] END .........................................coef0=0.01; total time=   8.6s\n",
      "[CV] END ............................................coef0=1; total time=   8.7s\n",
      "[CV] END ............................................coef0=1; total time=   8.7s\n",
      "[CV] END ............................................coef0=1; total time=   8.6s\n",
      "[CV] END ............................................coef0=1; total time=   8.6s\n",
      "[CV] END ............................................coef0=1; total time=   8.6s\n",
      "[CV] END ............................................coef0=5; total time=   8.7s\n",
      "[CV] END ............................................coef0=5; total time=   8.6s\n",
      "[CV] END ............................................coef0=5; total time=   8.6s\n",
      "[CV] END ............................................coef0=5; total time=   8.7s\n",
      "[CV] END ............................................coef0=5; total time=   8.6s\n",
      "[CV] END ...........................................coef0=10; total time=   8.6s\n",
      "[CV] END ...........................................coef0=10; total time=   8.7s\n",
      "[CV] END ...........................................coef0=10; total time=   8.6s\n",
      "[CV] END ...........................................coef0=10; total time=   8.6s\n",
      "[CV] END ...........................................coef0=10; total time=   8.6s\n",
      "[CV] END ...........................................coef0=20; total time=   8.7s\n",
      "[CV] END ...........................................coef0=20; total time=   8.7s\n",
      "[CV] END ...........................................coef0=20; total time=   8.6s\n",
      "[CV] END ...........................................coef0=20; total time=   8.6s\n",
      "[CV] END ...........................................coef0=20; total time=   8.6s\n",
      "[CV] END ...........................................coef0=30; total time=   8.7s\n",
      "[CV] END ...........................................coef0=30; total time=   8.6s\n",
      "[CV] END ...........................................coef0=30; total time=   8.6s\n",
      "[CV] END ...........................................coef0=30; total time=   8.6s\n",
      "[CV] END ...........................................coef0=30; total time=   8.6s\n"
     ]
    },
    {
     "data": {
      "text/plain": [
       "GridSearchCV(cv=5, estimator=SVR(),\n",
       "             param_grid=[{'kernel': ['linear', 'poly', 'rbf']},\n",
       "                         {'degree': [1, 2, 3, 4, 5]},\n",
       "                         {'coef0': [1e-15, 1e-10, 0.001, 0.01, 1, 5, 10, 20,\n",
       "                                    30]}],\n",
       "             verbose=2)"
      ]
     },
     "execution_count": 116,
     "metadata": {},
     "output_type": "execute_result"
    }
   ],
   "source": [
    "svr_grid.fit(scaled_train_data, y_train)"
   ]
  },
  {
   "cell_type": "code",
   "execution_count": 117,
   "id": "0dcf70ea",
   "metadata": {},
   "outputs": [
    {
     "data": {
      "text/plain": [
       "0.503088507939417"
      ]
     },
     "execution_count": 117,
     "metadata": {},
     "output_type": "execute_result"
    }
   ],
   "source": [
    "svr_grid.best_score_"
   ]
  },
  {
   "cell_type": "code",
   "execution_count": 118,
   "id": "6ab7bc61",
   "metadata": {},
   "outputs": [
    {
     "data": {
      "text/plain": [
       "{'kernel': 'linear'}"
      ]
     },
     "execution_count": 118,
     "metadata": {},
     "output_type": "execute_result"
    }
   ],
   "source": [
    "svr_grid.best_params_"
   ]
  },
  {
   "cell_type": "code",
   "execution_count": 120,
   "id": "8b761e5d",
   "metadata": {},
   "outputs": [],
   "source": [
    "svr_grid_pred_train = svr_grid.predict(scaled_train_data)\n",
    "svr_grid_pred_test = svr_grid.predict(scaled_test_data)"
   ]
  },
  {
   "cell_type": "code",
   "execution_count": 121,
   "id": "e4d2bc4e",
   "metadata": {},
   "outputs": [
    {
     "data": {
      "text/plain": [
       "0.5185572992743162"
      ]
     },
     "execution_count": 121,
     "metadata": {},
     "output_type": "execute_result"
    }
   ],
   "source": [
    "r2_score(y_train, svr_grid_pred_train)"
   ]
  },
  {
   "cell_type": "code",
   "execution_count": 170,
   "id": "d114b5ae",
   "metadata": {},
   "outputs": [
    {
     "ename": "NameError",
     "evalue": "name 'svr_grid_pred_test' is not defined",
     "output_type": "error",
     "traceback": [
      "\u001b[1;31m---------------------------------------------------------------------------\u001b[0m",
      "\u001b[1;31mNameError\u001b[0m                                 Traceback (most recent call last)",
      "Input \u001b[1;32mIn [170]\u001b[0m, in \u001b[0;36m<cell line: 1>\u001b[1;34m()\u001b[0m\n\u001b[1;32m----> 1\u001b[0m r2_score(y_test, \u001b[43msvr_grid_pred_test\u001b[49m)\n",
      "\u001b[1;31mNameError\u001b[0m: name 'svr_grid_pred_test' is not defined"
     ]
    }
   ],
   "source": [
    "r2_score(y_test, svr_grid_pred_test)"
   ]
  },
  {
   "cell_type": "markdown",
   "id": "6c9687a6",
   "metadata": {},
   "source": [
    "# Random Split Prediction "
   ]
  },
  {
   "cell_type": "code",
   "execution_count": 147,
   "id": "05b77b03",
   "metadata": {},
   "outputs": [
    {
     "data": {
      "text/html": [
       "<div>\n",
       "<style scoped>\n",
       "    .dataframe tbody tr th:only-of-type {\n",
       "        vertical-align: middle;\n",
       "    }\n",
       "\n",
       "    .dataframe tbody tr th {\n",
       "        vertical-align: top;\n",
       "    }\n",
       "\n",
       "    .dataframe thead th {\n",
       "        text-align: right;\n",
       "    }\n",
       "</style>\n",
       "<table border=\"1\" class=\"dataframe\">\n",
       "  <thead>\n",
       "    <tr style=\"text-align: right;\">\n",
       "      <th></th>\n",
       "      <th>Item_Identifier</th>\n",
       "      <th>Item_Weight</th>\n",
       "      <th>Item_Fat_Content</th>\n",
       "      <th>Item_Visibility</th>\n",
       "      <th>Item_Type</th>\n",
       "      <th>Item_MRP</th>\n",
       "      <th>Outlet_Identifier</th>\n",
       "      <th>Outlet_Size</th>\n",
       "      <th>Outlet_Location_Type</th>\n",
       "      <th>Outlet_Type</th>\n",
       "      <th>Item_Outlet_Sales</th>\n",
       "      <th>outlet_age</th>\n",
       "    </tr>\n",
       "  </thead>\n",
       "  <tbody>\n",
       "    <tr>\n",
       "      <th>0</th>\n",
       "      <td>FDA15</td>\n",
       "      <td>9.300</td>\n",
       "      <td>Low Fat</td>\n",
       "      <td>0.016047</td>\n",
       "      <td>Dairy</td>\n",
       "      <td>249.8092</td>\n",
       "      <td>OUT049</td>\n",
       "      <td>Medium</td>\n",
       "      <td>Tier 1</td>\n",
       "      <td>Supermarket Type1</td>\n",
       "      <td>3735.1380</td>\n",
       "      <td>23</td>\n",
       "    </tr>\n",
       "    <tr>\n",
       "      <th>1</th>\n",
       "      <td>DRC01</td>\n",
       "      <td>5.920</td>\n",
       "      <td>Regular</td>\n",
       "      <td>0.019278</td>\n",
       "      <td>Soft Drinks</td>\n",
       "      <td>48.2692</td>\n",
       "      <td>OUT018</td>\n",
       "      <td>Medium</td>\n",
       "      <td>Tier 3</td>\n",
       "      <td>Supermarket Type2</td>\n",
       "      <td>443.4228</td>\n",
       "      <td>13</td>\n",
       "    </tr>\n",
       "    <tr>\n",
       "      <th>2</th>\n",
       "      <td>FDN15</td>\n",
       "      <td>17.500</td>\n",
       "      <td>Low Fat</td>\n",
       "      <td>0.016760</td>\n",
       "      <td>Meat</td>\n",
       "      <td>141.6180</td>\n",
       "      <td>OUT049</td>\n",
       "      <td>Medium</td>\n",
       "      <td>Tier 1</td>\n",
       "      <td>Supermarket Type1</td>\n",
       "      <td>2097.2700</td>\n",
       "      <td>23</td>\n",
       "    </tr>\n",
       "    <tr>\n",
       "      <th>3</th>\n",
       "      <td>FDX07</td>\n",
       "      <td>19.200</td>\n",
       "      <td>Regular</td>\n",
       "      <td>0.000000</td>\n",
       "      <td>Fruits and Vegetables</td>\n",
       "      <td>182.0950</td>\n",
       "      <td>OUT010</td>\n",
       "      <td>Medium</td>\n",
       "      <td>Tier 3</td>\n",
       "      <td>Grocery Store</td>\n",
       "      <td>732.3800</td>\n",
       "      <td>24</td>\n",
       "    </tr>\n",
       "    <tr>\n",
       "      <th>4</th>\n",
       "      <td>NCD19</td>\n",
       "      <td>8.930</td>\n",
       "      <td>Low Fat</td>\n",
       "      <td>0.000000</td>\n",
       "      <td>Household</td>\n",
       "      <td>53.8614</td>\n",
       "      <td>OUT013</td>\n",
       "      <td>High</td>\n",
       "      <td>Tier 3</td>\n",
       "      <td>Supermarket Type1</td>\n",
       "      <td>994.7052</td>\n",
       "      <td>35</td>\n",
       "    </tr>\n",
       "    <tr>\n",
       "      <th>...</th>\n",
       "      <td>...</td>\n",
       "      <td>...</td>\n",
       "      <td>...</td>\n",
       "      <td>...</td>\n",
       "      <td>...</td>\n",
       "      <td>...</td>\n",
       "      <td>...</td>\n",
       "      <td>...</td>\n",
       "      <td>...</td>\n",
       "      <td>...</td>\n",
       "      <td>...</td>\n",
       "      <td>...</td>\n",
       "    </tr>\n",
       "    <tr>\n",
       "      <th>8518</th>\n",
       "      <td>FDF22</td>\n",
       "      <td>6.865</td>\n",
       "      <td>Low Fat</td>\n",
       "      <td>0.056783</td>\n",
       "      <td>Snack Foods</td>\n",
       "      <td>214.5218</td>\n",
       "      <td>OUT013</td>\n",
       "      <td>High</td>\n",
       "      <td>Tier 3</td>\n",
       "      <td>Supermarket Type1</td>\n",
       "      <td>2778.3834</td>\n",
       "      <td>35</td>\n",
       "    </tr>\n",
       "    <tr>\n",
       "      <th>8519</th>\n",
       "      <td>FDS36</td>\n",
       "      <td>8.380</td>\n",
       "      <td>Regular</td>\n",
       "      <td>0.046982</td>\n",
       "      <td>Baking Goods</td>\n",
       "      <td>108.1570</td>\n",
       "      <td>OUT045</td>\n",
       "      <td>Medium</td>\n",
       "      <td>Tier 2</td>\n",
       "      <td>Supermarket Type1</td>\n",
       "      <td>549.2850</td>\n",
       "      <td>20</td>\n",
       "    </tr>\n",
       "    <tr>\n",
       "      <th>8520</th>\n",
       "      <td>NCJ29</td>\n",
       "      <td>10.600</td>\n",
       "      <td>Low Fat</td>\n",
       "      <td>0.035186</td>\n",
       "      <td>Health and Hygiene</td>\n",
       "      <td>85.1224</td>\n",
       "      <td>OUT035</td>\n",
       "      <td>Small</td>\n",
       "      <td>Tier 2</td>\n",
       "      <td>Supermarket Type1</td>\n",
       "      <td>1193.1136</td>\n",
       "      <td>18</td>\n",
       "    </tr>\n",
       "    <tr>\n",
       "      <th>8521</th>\n",
       "      <td>FDN46</td>\n",
       "      <td>7.210</td>\n",
       "      <td>Regular</td>\n",
       "      <td>0.145221</td>\n",
       "      <td>Snack Foods</td>\n",
       "      <td>103.1332</td>\n",
       "      <td>OUT018</td>\n",
       "      <td>Medium</td>\n",
       "      <td>Tier 3</td>\n",
       "      <td>Supermarket Type2</td>\n",
       "      <td>1845.5976</td>\n",
       "      <td>13</td>\n",
       "    </tr>\n",
       "    <tr>\n",
       "      <th>8522</th>\n",
       "      <td>DRG01</td>\n",
       "      <td>14.800</td>\n",
       "      <td>Low Fat</td>\n",
       "      <td>0.044878</td>\n",
       "      <td>Soft Drinks</td>\n",
       "      <td>75.4670</td>\n",
       "      <td>OUT046</td>\n",
       "      <td>Small</td>\n",
       "      <td>Tier 1</td>\n",
       "      <td>Supermarket Type1</td>\n",
       "      <td>765.6700</td>\n",
       "      <td>25</td>\n",
       "    </tr>\n",
       "  </tbody>\n",
       "</table>\n",
       "<p>8523 rows × 12 columns</p>\n",
       "</div>"
      ],
      "text/plain": [
       "     Item_Identifier  Item_Weight Item_Fat_Content  Item_Visibility  \\\n",
       "0              FDA15        9.300          Low Fat         0.016047   \n",
       "1              DRC01        5.920          Regular         0.019278   \n",
       "2              FDN15       17.500          Low Fat         0.016760   \n",
       "3              FDX07       19.200          Regular         0.000000   \n",
       "4              NCD19        8.930          Low Fat         0.000000   \n",
       "...              ...          ...              ...              ...   \n",
       "8518           FDF22        6.865          Low Fat         0.056783   \n",
       "8519           FDS36        8.380          Regular         0.046982   \n",
       "8520           NCJ29       10.600          Low Fat         0.035186   \n",
       "8521           FDN46        7.210          Regular         0.145221   \n",
       "8522           DRG01       14.800          Low Fat         0.044878   \n",
       "\n",
       "                  Item_Type  Item_MRP Outlet_Identifier Outlet_Size  \\\n",
       "0                     Dairy  249.8092            OUT049      Medium   \n",
       "1               Soft Drinks   48.2692            OUT018      Medium   \n",
       "2                      Meat  141.6180            OUT049      Medium   \n",
       "3     Fruits and Vegetables  182.0950            OUT010      Medium   \n",
       "4                 Household   53.8614            OUT013        High   \n",
       "...                     ...       ...               ...         ...   \n",
       "8518            Snack Foods  214.5218            OUT013        High   \n",
       "8519           Baking Goods  108.1570            OUT045      Medium   \n",
       "8520     Health and Hygiene   85.1224            OUT035       Small   \n",
       "8521            Snack Foods  103.1332            OUT018      Medium   \n",
       "8522            Soft Drinks   75.4670            OUT046       Small   \n",
       "\n",
       "     Outlet_Location_Type        Outlet_Type  Item_Outlet_Sales  outlet_age  \n",
       "0                  Tier 1  Supermarket Type1          3735.1380          23  \n",
       "1                  Tier 3  Supermarket Type2           443.4228          13  \n",
       "2                  Tier 1  Supermarket Type1          2097.2700          23  \n",
       "3                  Tier 3      Grocery Store           732.3800          24  \n",
       "4                  Tier 3  Supermarket Type1           994.7052          35  \n",
       "...                   ...                ...                ...         ...  \n",
       "8518               Tier 3  Supermarket Type1          2778.3834          35  \n",
       "8519               Tier 2  Supermarket Type1           549.2850          20  \n",
       "8520               Tier 2  Supermarket Type1          1193.1136          18  \n",
       "8521               Tier 3  Supermarket Type2          1845.5976          13  \n",
       "8522               Tier 1  Supermarket Type1           765.6700          25  \n",
       "\n",
       "[8523 rows x 12 columns]"
      ]
     },
     "execution_count": 147,
     "metadata": {},
     "output_type": "execute_result"
    }
   ],
   "source": [
    "df"
   ]
  },
  {
   "cell_type": "code",
   "execution_count": 148,
   "id": "19c7fb2b",
   "metadata": {},
   "outputs": [],
   "source": [
    "from sklearn.model_selection import train_test_split"
   ]
  },
  {
   "cell_type": "code",
   "execution_count": 151,
   "id": "eb5b224d",
   "metadata": {},
   "outputs": [],
   "source": [
    "X = df.drop('Item_Outlet_Sales', axis=1)"
   ]
  },
  {
   "cell_type": "code",
   "execution_count": 153,
   "id": "9108289d",
   "metadata": {},
   "outputs": [],
   "source": [
    "y = df['Item_Outlet_Sales']"
   ]
  },
  {
   "cell_type": "code",
   "execution_count": 154,
   "id": "bdcafc6f",
   "metadata": {},
   "outputs": [],
   "source": [
    "X_train, X_test, y_train, y_test = train_test_split(X,y, test_size=0.2, random_state=42)"
   ]
  },
  {
   "cell_type": "code",
   "execution_count": 155,
   "id": "bf1cede0",
   "metadata": {},
   "outputs": [],
   "source": [
    "random_train_set = pd.get_dummies(X_train,columns=['Item_Fat_Content','Item_Type',\"Outlet_Identifier\",\"Outlet_Size\",\"Outlet_Location_Type\", \"Outlet_Type\"],drop_first=True)\n",
    "random_test_set = pd.get_dummies(X_test,columns=['Item_Fat_Content','Item_Type',\"Outlet_Identifier\",\"Outlet_Size\",\"Outlet_Location_Type\", \"Outlet_Type\"],drop_first=True)"
   ]
  },
  {
   "cell_type": "code",
   "execution_count": 159,
   "id": "111d1d2c",
   "metadata": {},
   "outputs": [],
   "source": [
    "random_train_set.drop('Item_Identifier', axis=1, inplace = True)\n",
    "random_test_set.drop('Item_Identifier', axis=1, inplace = True)"
   ]
  },
  {
   "cell_type": "code",
   "execution_count": null,
   "id": "27e826ae",
   "metadata": {},
   "outputs": [],
   "source": []
  },
  {
   "cell_type": "code",
   "execution_count": 156,
   "id": "900d9ea9",
   "metadata": {},
   "outputs": [],
   "source": [
    "ran_lr = LinearRegression()"
   ]
  },
  {
   "cell_type": "code",
   "execution_count": 160,
   "id": "da561fc6",
   "metadata": {},
   "outputs": [
    {
     "data": {
      "text/plain": [
       "LinearRegression()"
      ]
     },
     "execution_count": 160,
     "metadata": {},
     "output_type": "execute_result"
    }
   ],
   "source": [
    "ran_lr.fit(random_train_set, y_train)"
   ]
  },
  {
   "cell_type": "code",
   "execution_count": 162,
   "id": "9b962076",
   "metadata": {},
   "outputs": [],
   "source": [
    "predict = ran_lr.predict(random_train_set)"
   ]
  },
  {
   "cell_type": "code",
   "execution_count": 171,
   "id": "b20f0a00",
   "metadata": {},
   "outputs": [],
   "source": [
    "from sklearn.metrics import r2_score"
   ]
  },
  {
   "cell_type": "code",
   "execution_count": 172,
   "id": "1a53b634",
   "metadata": {},
   "outputs": [
    {
     "data": {
      "text/plain": [
       "0.5595828095968498"
      ]
     },
     "execution_count": 172,
     "metadata": {},
     "output_type": "execute_result"
    }
   ],
   "source": [
    "r2_score(y_train, predict)"
   ]
  },
  {
   "cell_type": "code",
   "execution_count": 173,
   "id": "881364ae",
   "metadata": {},
   "outputs": [],
   "source": [
    "predict = ran_lr.predict(random_test_set)"
   ]
  },
  {
   "cell_type": "code",
   "execution_count": 174,
   "id": "eb730182",
   "metadata": {},
   "outputs": [
    {
     "data": {
      "text/plain": [
       "0.5791480049124971"
      ]
     },
     "execution_count": 174,
     "metadata": {},
     "output_type": "execute_result"
    }
   ],
   "source": [
    "r2_score(y_test, predict)"
   ]
  },
  {
   "cell_type": "code",
   "execution_count": 175,
   "id": "f189339d",
   "metadata": {},
   "outputs": [],
   "source": [
    "ran_rf = RandomForestRegressor()"
   ]
  },
  {
   "cell_type": "code",
   "execution_count": 176,
   "id": "e150b2bd",
   "metadata": {},
   "outputs": [
    {
     "data": {
      "text/plain": [
       "RandomForestRegressor()"
      ]
     },
     "execution_count": 176,
     "metadata": {},
     "output_type": "execute_result"
    }
   ],
   "source": [
    "ran_rf.fit(random_train_set, y_train)"
   ]
  },
  {
   "cell_type": "code",
   "execution_count": 177,
   "id": "74ea0ced",
   "metadata": {},
   "outputs": [],
   "source": [
    "predict = ran_rf.predict(random_train_set)"
   ]
  },
  {
   "cell_type": "code",
   "execution_count": 178,
   "id": "9c30aa57",
   "metadata": {},
   "outputs": [
    {
     "data": {
      "text/plain": [
       "0.9369379986847924"
      ]
     },
     "execution_count": 178,
     "metadata": {},
     "output_type": "execute_result"
    }
   ],
   "source": [
    "r2_score(y_train, predict)"
   ]
  },
  {
   "cell_type": "code",
   "execution_count": 179,
   "id": "430e64e4",
   "metadata": {},
   "outputs": [],
   "source": [
    "predict = ran_rf.predict(random_test_set)"
   ]
  },
  {
   "cell_type": "code",
   "execution_count": 180,
   "id": "968d29d8",
   "metadata": {},
   "outputs": [
    {
     "data": {
      "text/plain": [
       "0.5613749075778147"
      ]
     },
     "execution_count": 180,
     "metadata": {},
     "output_type": "execute_result"
    }
   ],
   "source": [
    "r2_score(y_test, predict)"
   ]
  },
  {
   "cell_type": "code",
   "execution_count": null,
   "id": "adf9ffa6",
   "metadata": {},
   "outputs": [],
   "source": []
  },
  {
   "cell_type": "code",
   "execution_count": null,
   "id": "049638b2",
   "metadata": {},
   "outputs": [],
   "source": []
  },
  {
   "cell_type": "code",
   "execution_count": null,
   "id": "48546165",
   "metadata": {},
   "outputs": [],
   "source": []
  }
 ],
 "metadata": {
  "kernelspec": {
   "display_name": "Python 3 (ipykernel)",
   "language": "python",
   "name": "python3"
  },
  "language_info": {
   "codemirror_mode": {
    "name": "ipython",
    "version": 3
   },
   "file_extension": ".py",
   "mimetype": "text/x-python",
   "name": "python",
   "nbconvert_exporter": "python",
   "pygments_lexer": "ipython3",
   "version": "3.9.12"
  }
 },
 "nbformat": 4,
 "nbformat_minor": 5
}
